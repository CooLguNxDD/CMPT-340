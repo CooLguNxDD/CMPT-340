{
 "cells": [
  {
   "cell_type": "markdown",
   "metadata": {
    "collapsed": true
   },
   "source": [
    "# In this notebook, we are going to implement MLP model to analysis the data\n",
    "## https://en.wikipedia.org/wiki/Convolutional_neural_network\n"
   ]
  },
  {
   "cell_type": "code",
   "execution_count": 1,
   "metadata": {},
   "outputs": [],
   "source": [
    "import os\n",
    "import math\n",
    "import random\n",
    "from glob import glob\n",
    "from PIL import Image\n",
    "\n",
    "import numpy as np\n",
    "import pandas as pd\n",
    "import tensorflow as tf\n",
    "import matplotlib.pyplot as plt\n",
    "\n",
    "from tensorflow import keras\n",
    "from tensorflow.keras.layers import Dropout,Dense\n",
    "from tensorflow.keras.utils import to_categorical\n",
    "from tensorflow.keras.models import Model, Sequential\n",
    "\n",
    "from imblearn.over_sampling import SMOTE\n",
    "from sklearn.preprocessing import LabelEncoder\n",
    "from sklearn.model_selection import StratifiedShuffleSplit,train_test_split"
   ]
  },
  {
   "cell_type": "markdown",
   "metadata": {},
   "source": [
    "# Load metadata.csv"
   ]
  },
  {
   "cell_type": "code",
   "execution_count": 2,
   "metadata": {
    "pycharm": {
     "name": "#%% read csv\n"
    }
   },
   "outputs": [],
   "source": [
    "df = pd.read_csv('../data/HAM10000_metadata.csv', delimiter=',')\n",
    "df.dataframeName = 'HAM10000_metadata.csv'"
   ]
  },
  {
   "cell_type": "markdown",
   "metadata": {},
   "source": [
    "# Preprocess labels"
   ]
  },
  {
   "cell_type": "code",
   "execution_count": 3,
   "metadata": {
    "pycharm": {
     "name": "#%%\n"
    }
   },
   "outputs": [
    {
     "name": "stdout",
     "output_type": "stream",
     "text": [
      "['akiec', 'bcc', 'bkl', 'df', 'mel', 'nv', 'vasc']\n",
      "        lesion_id      image_id   dx dx_type   age     sex     localization  \\\n",
      "7337  HAM_0005106  ISIC_0032901   nv   histo  30.0    male  upper extremity   \n",
      "7875  HAM_0001883  ISIC_0033224   nv   histo  30.0  female             back   \n",
      "7022  HAM_0003175  ISIC_0028145   nv   histo   5.0    male  lower extremity   \n",
      "7110  HAM_0001192  ISIC_0033859   nv   histo  50.0  female             foot   \n",
      "270   HAM_0004491  ISIC_0025157  bkl   histo  45.0    male             face   \n",
      "\n",
      "      label  \n",
      "7337      5  \n",
      "7875      5  \n",
      "7022      5  \n",
      "7110      5  \n",
      "270       2  \n"
     ]
    }
   ],
   "source": [
    "label_encoder = LabelEncoder()\n",
    "label_encoder.fit(df['dx'])\n",
    "print(list(label_encoder.classes_))\n",
    "df['label'] = label_encoder.transform(df[\"dx\"])\n",
    "print(df.sample(5))"
   ]
  },
  {
   "cell_type": "markdown",
   "metadata": {
    "pycharm": {
     "name": "#%% md\n"
    }
   },
   "source": [
    "# Features to label\n",
    "akiex -> 0\n",
    "bcc -> 1\n",
    "bkl -> 2\n",
    "df -> 3\n",
    "mel -> 4\n",
    "nv -> 5\n",
    "vasc -> 6"
   ]
  },
  {
   "cell_type": "code",
   "execution_count": 4,
   "metadata": {
    "pycharm": {
     "name": "#%%\n"
    }
   },
   "outputs": [],
   "source": [
    "features_dict = {0:\"akiex\",1:\"bcc\",2:\"bkl\",3:\"df\", 4:\"mel\",5:\"nv\",6:\"vasc\"}"
   ]
  },
  {
   "cell_type": "code",
   "execution_count": 5,
   "metadata": {
    "pycharm": {
     "name": "#%%\n"
    }
   },
   "outputs": [
    {
     "name": "stdout",
     "output_type": "stream",
     "text": [
      "total number of data:  10015\n",
      "5    6705\n",
      "4    1113\n",
      "2    1099\n",
      "1     514\n",
      "0     327\n",
      "6     142\n",
      "3     115\n",
      "Name: label, dtype: int64\n",
      "5   1.0\n",
      "4   1.0\n",
      "2   1.0\n",
      "1   1.0237058335894402\n",
      "0   1.4759689281473518\n",
      "6   2.310102041443345\n",
      "3   2.520996970681355\n"
     ]
    }
   ],
   "source": [
    "#assign weight\n",
    "#sum of the data\n",
    "total_data = 0\n",
    "num_classes = 7\n",
    "for num_of_data in df['label'].value_counts():\n",
    "    total_data+=num_of_data\n",
    "print(\"total number of data: \",total_data)\n",
    "print(df['label'].value_counts())\n",
    "#calc weight for each class\n",
    "class_weight ={}\n",
    "for index, value in df.label.value_counts().iteritems():\n",
    "    v1 = math.log(total_data/(float(value)*num_classes))\n",
    "    class_weight[index] = v1 if v1>1.0 else 1.0\n",
    "\n",
    "for i in class_weight:\n",
    "    print(i,\" \",class_weight[i])"
   ]
  },
  {
   "cell_type": "code",
   "execution_count": 6,
   "metadata": {
    "pycharm": {
     "name": "#%% preprocess image\n"
    }
   },
   "outputs": [],
   "source": [
    "image_size = 32 #the size that the image will resize to\n",
    "image_path = {os.path.splitext(os.path.basename(x))[0]: x\n",
    "              for x in glob(os.path.join('../data/','*','*.jpg'))}\n",
    "#image path\n",
    "df['path'] = df['image_id'].map(lambda id: image_path.get(id))"
   ]
  },
  {
   "cell_type": "code",
   "execution_count": 7,
   "metadata": {
    "pycharm": {
     "name": "#%%\n"
    }
   },
   "outputs": [],
   "source": [
    "#image_64 is the actual image(resized to 64x64) store in the dataframe\n",
    "#it takes time to process the image\n",
    "df['image_64'] = df['path'].map(lambda path:Image.open(path).resize((image_size,image_size)))"
   ]
  },
  {
   "cell_type": "code",
   "execution_count": 8,
   "metadata": {
    "pycharm": {
     "name": "#%%\n"
    }
   },
   "outputs": [
    {
     "data": {
      "image/png": "[encoded data removed]",
      "text/plain": [
       "<Figure size 432x288 with 10 Axes>"
      ]
     },
     "metadata": {
      "needs_background": "light"
     },
     "output_type": "display_data"
    }
   ],
   "source": [
    "#print some image\n",
    "index = 1\n",
    "for image in df['image_64'].head(10):\n",
    "    plots = plt.subplot(2,5,index)\n",
    "    plots.imshow(image)\n",
    "    index+=1"
   ]
  },
  {
   "cell_type": "code",
   "execution_count": 9,
   "metadata": {
    "pycharm": {
     "name": "#%%\n"
    }
   },
   "outputs": [],
   "source": [
    "#image to array\n",
    "df['image'] = df['image_64'].map(lambda image: np.asarray(image))\n",
    "data = np.asarray(df['image'].to_list())\n",
    "data = data.reshape(total_data,image_size*image_size*3).astype('float32')\n",
    "data = data/255.0 #normalise the RGB value to [0...1]\n",
    "label_to_one_hot = to_categorical(df['label'], num_classes=7)\n",
    "#80% data for training\n",
    "#20% data for testing\n",
    "train_data,test_data,train_label,test_label = train_test_split(data,label_to_one_hot,test_size=0.2,random_state=87,stratify=label_to_one_hot)\n"
   ]
  },
  {
   "cell_type": "markdown",
   "metadata": {},
   "source": [
    "# Model Building"
   ]
  },
  {
   "cell_type": "code",
   "execution_count": 10,
   "metadata": {
    "pycharm": {
     "name": "#%%\n"
    }
   },
   "outputs": [
    {
     "name": "stdout",
     "output_type": "stream",
     "text": [
      "Model: \"sequential\"\n",
      "_________________________________________________________________\n",
      "Layer (type)                 Output Shape              Param #   \n",
      "=================================================================\n",
      "dense (Dense)                (None, 2048)              6293504   \n",
      "_________________________________________________________________\n",
      "dropout (Dropout)            (None, 2048)              0         \n",
      "_________________________________________________________________\n",
      "dense_1 (Dense)              (None, 1024)              2098176   \n",
      "_________________________________________________________________\n",
      "dropout_1 (Dropout)          (None, 1024)              0         \n",
      "_________________________________________________________________\n",
      "dense_2 (Dense)              (None, 512)               524800    \n",
      "_________________________________________________________________\n",
      "dropout_2 (Dropout)          (None, 512)               0         \n",
      "_________________________________________________________________\n",
      "dense_3 (Dense)              (None, 256)               131328    \n",
      "_________________________________________________________________\n",
      "dropout_3 (Dropout)          (None, 256)               0         \n",
      "_________________________________________________________________\n",
      "dense_4 (Dense)              (None, 7)                 1799      \n",
      "=================================================================\n",
      "Total params: 9,049,607\n",
      "Trainable params: 9,049,607\n",
      "Non-trainable params: 0\n",
      "_________________________________________________________________\n"
     ]
    }
   ],
   "source": [
    "#setup MLP model\n",
    "num_classes = 7\n",
    "dimension = image_size*image_size*3\n",
    "\n",
    "model_MLP_V1 = Sequential()\n",
    "\n",
    "#input Dense layer of 64x64x3 image input:\n",
    "#with normal distribution + relu activation\n",
    "model_MLP_V1.add(Dense(units=2048,input_dim=dimension,kernel_initializer='normal',activation='relu'))\n",
    "model_MLP_V1.add(Dropout(0.1))\n",
    "\n",
    "#hidden layer 2\n",
    "model_MLP_V1.add(Dense(units=1024,input_dim=dimension,kernel_initializer='normal',activation='relu'))\n",
    "model_MLP_V1.add(Dropout(0.1))\n",
    "\n",
    "#hidden layer 3\n",
    "model_MLP_V1.add(Dense(units=512,input_dim=dimension,kernel_initializer='normal',activation='relu'))\n",
    "model_MLP_V1.add(Dropout(0.1))\n",
    "\n",
    "#hidden layer 4\n",
    "model_MLP_V1.add(Dense(units=256,input_dim=dimension,kernel_initializer='normal',activation='relu'))\n",
    "model_MLP_V1.add(Dropout(0.1))\n",
    "\n",
    "#output Dense layer with 7 classes + softmax activation\n",
    "model_MLP_V1.add(Dense(units=num_classes,kernel_initializer='normal',activation='softmax'))\n",
    "model_MLP_V1.summary()\n",
    "\n",
    "model_MLP_V1.compile(loss='categorical_crossentropy', optimizer='Adam', metrics=['acc'])\n"
   ]
  },
  {
   "cell_type": "code",
   "execution_count": 11,
   "metadata": {
    "pycharm": {
     "name": "#%%\n"
    }
   },
   "outputs": [
    {
     "name": "stdout",
     "output_type": "stream",
     "text": [
      "Epoch 1/200\n",
      "13/13 - 5s - loss: 1.3145 - acc: 0.6673 - val_loss: 0.9246 - val_acc: 0.6800\n",
      "Epoch 2/200\n",
      "13/13 - 2s - loss: 0.9436 - acc: 0.7088 - val_loss: 0.8423 - val_acc: 0.6887\n",
      "Epoch 3/200\n",
      "13/13 - 2s - loss: 0.8297 - acc: 0.7344 - val_loss: 0.8324 - val_acc: 0.6987\n",
      "Epoch 4/200\n",
      "13/13 - 3s - loss: 0.7455 - acc: 0.7474 - val_loss: 0.8117 - val_acc: 0.7080\n",
      "Epoch 5/200\n",
      "13/13 - 2s - loss: 0.6989 - acc: 0.7649 - val_loss: 0.7843 - val_acc: 0.7174\n",
      "Epoch 6/200\n",
      "13/13 - 2s - loss: 0.6652 - acc: 0.7730 - val_loss: 0.8020 - val_acc: 0.7037\n",
      "Epoch 7/200\n",
      "13/13 - 2s - loss: 0.6606 - acc: 0.7755 - val_loss: 0.7840 - val_acc: 0.7249\n",
      "Epoch 8/200\n",
      "13/13 - 3s - loss: 0.6415 - acc: 0.7767 - val_loss: 0.7985 - val_acc: 0.7180\n",
      "Epoch 9/200\n",
      "13/13 - 3s - loss: 0.6477 - acc: 0.7752 - val_loss: 0.7728 - val_acc: 0.7205\n",
      "Epoch 10/200\n",
      "13/13 - 3s - loss: 0.6414 - acc: 0.7764 - val_loss: 0.7909 - val_acc: 0.7180\n",
      "Epoch 11/200\n",
      "13/13 - 3s - loss: 0.6296 - acc: 0.7820 - val_loss: 0.8025 - val_acc: 0.7280\n",
      "Epoch 12/200\n",
      "13/13 - 3s - loss: 0.6167 - acc: 0.7823 - val_loss: 0.7944 - val_acc: 0.7168\n",
      "Epoch 13/200\n",
      "13/13 - 3s - loss: 0.6254 - acc: 0.7809 - val_loss: 0.8007 - val_acc: 0.7236\n",
      "Epoch 14/200\n",
      "13/13 - 2s - loss: 0.6095 - acc: 0.7834 - val_loss: 0.7699 - val_acc: 0.7211\n",
      "Epoch 15/200\n",
      "13/13 - 3s - loss: 0.6037 - acc: 0.7848 - val_loss: 0.8001 - val_acc: 0.7224\n",
      "Epoch 16/200\n",
      "13/13 - 3s - loss: 0.6184 - acc: 0.7844 - val_loss: 0.8125 - val_acc: 0.7280\n",
      "Epoch 17/200\n",
      "13/13 - 2s - loss: 0.6309 - acc: 0.7834 - val_loss: 0.8091 - val_acc: 0.7074\n",
      "Epoch 18/200\n",
      "13/13 - 3s - loss: 0.6502 - acc: 0.7692 - val_loss: 0.8096 - val_acc: 0.7105\n",
      "Epoch 19/200\n",
      "13/13 - 3s - loss: 0.6159 - acc: 0.7850 - val_loss: 0.7873 - val_acc: 0.7243\n",
      "Epoch 20/200\n",
      "13/13 - 3s - loss: 0.5918 - acc: 0.7964 - val_loss: 0.8112 - val_acc: 0.7286\n",
      "Epoch 21/200\n",
      "13/13 - 3s - loss: 0.5853 - acc: 0.7926 - val_loss: 0.7895 - val_acc: 0.7367\n",
      "Epoch 22/200\n",
      "13/13 - 3s - loss: 0.5700 - acc: 0.7942 - val_loss: 0.7905 - val_acc: 0.7143\n",
      "Epoch 23/200\n",
      "13/13 - 3s - loss: 0.5734 - acc: 0.7972 - val_loss: 0.7880 - val_acc: 0.7374\n",
      "Epoch 24/200\n",
      "13/13 - 2s - loss: 0.5708 - acc: 0.7973 - val_loss: 0.8170 - val_acc: 0.7187\n",
      "Epoch 25/200\n",
      "13/13 - 2s - loss: 0.5878 - acc: 0.7953 - val_loss: 0.8274 - val_acc: 0.7124\n",
      "Epoch 26/200\n",
      "13/13 - 2s - loss: 0.5710 - acc: 0.7958 - val_loss: 0.7930 - val_acc: 0.7193\n",
      "Epoch 27/200\n",
      "13/13 - 2s - loss: 0.5566 - acc: 0.8023 - val_loss: 0.8139 - val_acc: 0.7286\n",
      "Epoch 28/200\n",
      "13/13 - 3s - loss: 0.5819 - acc: 0.7945 - val_loss: 0.8503 - val_acc: 0.7205\n",
      "Epoch 29/200\n",
      "13/13 - 2s - loss: 0.5825 - acc: 0.7987 - val_loss: 0.7970 - val_acc: 0.7261\n",
      "Epoch 30/200\n",
      "13/13 - 3s - loss: 0.5635 - acc: 0.8009 - val_loss: 0.8164 - val_acc: 0.7243\n",
      "Epoch 31/200\n",
      "13/13 - 2s - loss: 0.5911 - acc: 0.7992 - val_loss: 0.8262 - val_acc: 0.7105\n",
      "Epoch 32/200\n",
      "13/13 - 3s - loss: 0.5739 - acc: 0.7972 - val_loss: 0.8015 - val_acc: 0.7168\n",
      "Epoch 33/200\n",
      "13/13 - 2s - loss: 0.5395 - acc: 0.8070 - val_loss: 0.7963 - val_acc: 0.7218\n",
      "Epoch 34/200\n",
      "13/13 - 2s - loss: 0.5399 - acc: 0.8053 - val_loss: 0.7897 - val_acc: 0.7268\n",
      "Epoch 35/200\n",
      "13/13 - 2s - loss: 0.5377 - acc: 0.8132 - val_loss: 0.8863 - val_acc: 0.7024\n",
      "Epoch 36/200\n",
      "13/13 - 2s - loss: 0.5850 - acc: 0.7880 - val_loss: 0.8024 - val_acc: 0.7174\n",
      "Epoch 37/200\n",
      "13/13 - 2s - loss: 0.5525 - acc: 0.8042 - val_loss: 0.8163 - val_acc: 0.7224\n",
      "Epoch 38/200\n",
      "13/13 - 2s - loss: 0.5411 - acc: 0.8073 - val_loss: 0.8088 - val_acc: 0.7124\n",
      "Epoch 39/200\n",
      "13/13 - 2s - loss: 0.5314 - acc: 0.8089 - val_loss: 0.8147 - val_acc: 0.7199\n",
      "Epoch 40/200\n",
      "13/13 - 2s - loss: 0.5281 - acc: 0.8135 - val_loss: 0.8276 - val_acc: 0.7218\n",
      "Epoch 41/200\n",
      "13/13 - 2s - loss: 0.5354 - acc: 0.8125 - val_loss: 0.8120 - val_acc: 0.7280\n",
      "Epoch 42/200\n",
      "13/13 - 2s - loss: 0.5444 - acc: 0.8086 - val_loss: 0.8267 - val_acc: 0.7080\n",
      "Epoch 43/200\n",
      "13/13 - 2s - loss: 0.5463 - acc: 0.8006 - val_loss: 0.8162 - val_acc: 0.7193\n",
      "Epoch 44/200\n",
      "13/13 - 2s - loss: 0.5421 - acc: 0.8092 - val_loss: 0.8297 - val_acc: 0.7168\n",
      "Epoch 45/200\n",
      "13/13 - 2s - loss: 0.5027 - acc: 0.8168 - val_loss: 0.8116 - val_acc: 0.7299\n",
      "Epoch 46/200\n",
      "13/13 - 2s - loss: 0.5189 - acc: 0.8146 - val_loss: 0.8367 - val_acc: 0.7174\n",
      "Epoch 47/200\n",
      "13/13 - 2s - loss: 0.5328 - acc: 0.8065 - val_loss: 0.8509 - val_acc: 0.7162\n",
      "Epoch 48/200\n",
      "13/13 - 2s - loss: 0.5053 - acc: 0.8145 - val_loss: 0.8323 - val_acc: 0.7255\n",
      "Epoch 49/200\n",
      "13/13 - 2s - loss: 0.4963 - acc: 0.8198 - val_loss: 0.8540 - val_acc: 0.7093\n",
      "Epoch 50/200\n",
      "13/13 - 2s - loss: 0.5221 - acc: 0.8135 - val_loss: 0.8371 - val_acc: 0.7155\n",
      "Epoch 51/200\n",
      "13/13 - 2s - loss: 0.5284 - acc: 0.8129 - val_loss: 0.8217 - val_acc: 0.7211\n",
      "Epoch 52/200\n",
      "13/13 - 2s - loss: 0.5177 - acc: 0.8213 - val_loss: 0.8606 - val_acc: 0.7056\n",
      "Epoch 53/200\n",
      "13/13 - 2s - loss: 0.5191 - acc: 0.8126 - val_loss: 0.8452 - val_acc: 0.7218\n",
      "Epoch 54/200\n",
      "13/13 - 2s - loss: 0.4878 - acc: 0.8237 - val_loss: 0.8491 - val_acc: 0.7255\n",
      "Epoch 55/200\n",
      "13/13 - 2s - loss: 0.4789 - acc: 0.8310 - val_loss: 0.8821 - val_acc: 0.7187\n",
      "Epoch 56/200\n",
      "13/13 - 2s - loss: 0.4646 - acc: 0.8368 - val_loss: 0.8706 - val_acc: 0.7105\n",
      "Epoch 57/200\n",
      "13/13 - 2s - loss: 0.4857 - acc: 0.8259 - val_loss: 0.8600 - val_acc: 0.7211\n",
      "Epoch 58/200\n",
      "13/13 - 2s - loss: 0.4785 - acc: 0.8296 - val_loss: 0.8539 - val_acc: 0.7162\n",
      "Epoch 59/200\n",
      "13/13 - 2s - loss: 0.4559 - acc: 0.8288 - val_loss: 0.8523 - val_acc: 0.7268\n",
      "Epoch 60/200\n",
      "13/13 - 2s - loss: 0.4488 - acc: 0.8399 - val_loss: 0.8747 - val_acc: 0.7087\n",
      "Epoch 61/200\n",
      "13/13 - 2s - loss: 0.4459 - acc: 0.8457 - val_loss: 0.8694 - val_acc: 0.7311\n",
      "Epoch 62/200\n",
      "13/13 - 2s - loss: 0.4542 - acc: 0.8380 - val_loss: 0.8853 - val_acc: 0.7080\n",
      "Epoch 63/200\n",
      "13/13 - 2s - loss: 0.4676 - acc: 0.8324 - val_loss: 0.8628 - val_acc: 0.7174\n",
      "Epoch 64/200\n",
      "13/13 - 2s - loss: 0.4397 - acc: 0.8410 - val_loss: 0.8599 - val_acc: 0.7199\n",
      "Epoch 65/200\n",
      "13/13 - 2s - loss: 0.4727 - acc: 0.8341 - val_loss: 0.8718 - val_acc: 0.6968\n",
      "Epoch 66/200\n",
      "13/13 - 2s - loss: 0.4915 - acc: 0.8302 - val_loss: 0.8701 - val_acc: 0.7087\n",
      "Epoch 67/200\n",
      "13/13 - 2s - loss: 0.4819 - acc: 0.8281 - val_loss: 0.8854 - val_acc: 0.7112\n",
      "Epoch 68/200\n",
      "13/13 - 2s - loss: 0.4417 - acc: 0.8451 - val_loss: 0.8658 - val_acc: 0.7155\n",
      "Epoch 69/200\n",
      "13/13 - 2s - loss: 0.4616 - acc: 0.8376 - val_loss: 0.8828 - val_acc: 0.7043\n",
      "Epoch 70/200\n",
      "13/13 - 2s - loss: 0.4472 - acc: 0.8388 - val_loss: 0.8540 - val_acc: 0.7224\n",
      "Epoch 71/200\n",
      "13/13 - 2s - loss: 0.4493 - acc: 0.8359 - val_loss: 0.9168 - val_acc: 0.7099\n",
      "Epoch 72/200\n",
      "13/13 - 2s - loss: 0.4703 - acc: 0.8374 - val_loss: 0.8800 - val_acc: 0.7105\n",
      "Epoch 73/200\n",
      "13/13 - 2s - loss: 0.4618 - acc: 0.8379 - val_loss: 0.8889 - val_acc: 0.7118\n",
      "Epoch 74/200\n",
      "13/13 - 2s - loss: 0.4857 - acc: 0.8323 - val_loss: 0.8620 - val_acc: 0.7199\n",
      "Epoch 75/200\n",
      "13/13 - 2s - loss: 0.4529 - acc: 0.8363 - val_loss: 0.8611 - val_acc: 0.7174\n",
      "Epoch 76/200\n",
      "13/13 - 2s - loss: 0.4260 - acc: 0.8519 - val_loss: 0.8735 - val_acc: 0.7255\n",
      "Epoch 77/200\n",
      "13/13 - 2s - loss: 0.4093 - acc: 0.8566 - val_loss: 0.8981 - val_acc: 0.7062\n",
      "Epoch 78/200\n",
      "13/13 - 2s - loss: 0.4114 - acc: 0.8533 - val_loss: 0.9239 - val_acc: 0.7149\n",
      "Epoch 79/200\n",
      "13/13 - 2s - loss: 0.4364 - acc: 0.8407 - val_loss: 0.9402 - val_acc: 0.7130\n",
      "Epoch 80/200\n",
      "13/13 - 2s - loss: 0.4554 - acc: 0.8334 - val_loss: 0.9134 - val_acc: 0.7087\n",
      "Epoch 81/200\n",
      "13/13 - 2s - loss: 0.4659 - acc: 0.8357 - val_loss: 0.8781 - val_acc: 0.7012\n",
      "Epoch 82/200\n",
      "13/13 - 2s - loss: 0.4546 - acc: 0.8388 - val_loss: 0.8921 - val_acc: 0.6993\n",
      "Epoch 83/200\n",
      "13/13 - 2s - loss: 0.4284 - acc: 0.8505 - val_loss: 0.8955 - val_acc: 0.7174\n",
      "Epoch 84/200\n",
      "13/13 - 2s - loss: 0.4194 - acc: 0.8449 - val_loss: 0.8736 - val_acc: 0.7187\n",
      "Epoch 85/200\n",
      "13/13 - 2s - loss: 0.4033 - acc: 0.8561 - val_loss: 0.9251 - val_acc: 0.7080\n",
      "Epoch 86/200\n",
      "13/13 - 2s - loss: 0.4314 - acc: 0.8490 - val_loss: 0.9234 - val_acc: 0.7149\n",
      "Epoch 87/200\n",
      "13/13 - 2s - loss: 0.4450 - acc: 0.8454 - val_loss: 0.8787 - val_acc: 0.7099\n",
      "Epoch 88/200\n",
      "13/13 - 2s - loss: 0.4197 - acc: 0.8499 - val_loss: 0.8930 - val_acc: 0.7218\n",
      "Epoch 89/200\n",
      "13/13 - 2s - loss: 0.3908 - acc: 0.8574 - val_loss: 0.8937 - val_acc: 0.7155\n",
      "Epoch 90/200\n",
      "13/13 - 2s - loss: 0.3869 - acc: 0.8644 - val_loss: 0.8915 - val_acc: 0.7112\n",
      "Epoch 91/200\n",
      "13/13 - 2s - loss: 0.3916 - acc: 0.8666 - val_loss: 0.9354 - val_acc: 0.7143\n",
      "Epoch 92/200\n"
     ]
    },
    {
     "name": "stdout",
     "output_type": "stream",
     "text": [
      "13/13 - 2s - loss: 0.4041 - acc: 0.8591 - val_loss: 0.9160 - val_acc: 0.7087\n",
      "Epoch 93/200\n",
      "13/13 - 2s - loss: 0.4174 - acc: 0.8452 - val_loss: 0.9208 - val_acc: 0.7024\n",
      "Epoch 94/200\n",
      "13/13 - 2s - loss: 0.4019 - acc: 0.8577 - val_loss: 0.8998 - val_acc: 0.7087\n",
      "Epoch 95/200\n",
      "13/13 - 2s - loss: 0.3657 - acc: 0.8689 - val_loss: 0.9407 - val_acc: 0.7155\n",
      "Epoch 96/200\n",
      "13/13 - 2s - loss: 0.3848 - acc: 0.8624 - val_loss: 0.9388 - val_acc: 0.7118\n",
      "Epoch 97/200\n",
      "13/13 - 2s - loss: 0.3650 - acc: 0.8707 - val_loss: 0.9340 - val_acc: 0.7080\n",
      "Epoch 98/200\n",
      "13/13 - 2s - loss: 0.3653 - acc: 0.8677 - val_loss: 0.9676 - val_acc: 0.7087\n",
      "Epoch 99/200\n",
      "13/13 - 2s - loss: 0.3734 - acc: 0.8653 - val_loss: 0.9841 - val_acc: 0.7031\n",
      "Epoch 100/200\n",
      "13/13 - 2s - loss: 0.3811 - acc: 0.8650 - val_loss: 0.9837 - val_acc: 0.6956\n",
      "Epoch 101/200\n",
      "13/13 - 2s - loss: 0.4106 - acc: 0.8566 - val_loss: 0.9331 - val_acc: 0.7211\n",
      "Epoch 102/200\n",
      "13/13 - 3s - loss: 0.4024 - acc: 0.8540 - val_loss: 0.9332 - val_acc: 0.7049\n",
      "Epoch 103/200\n",
      "13/13 - 3s - loss: 0.4313 - acc: 0.8518 - val_loss: 0.9515 - val_acc: 0.7118\n",
      "Epoch 104/200\n",
      "13/13 - 2s - loss: 0.4066 - acc: 0.8554 - val_loss: 0.9296 - val_acc: 0.7162\n",
      "Epoch 105/200\n",
      "13/13 - 3s - loss: 0.4125 - acc: 0.8554 - val_loss: 0.9634 - val_acc: 0.6931\n",
      "Epoch 106/200\n",
      "13/13 - 3s - loss: 0.4213 - acc: 0.8499 - val_loss: 0.9844 - val_acc: 0.6956\n",
      "Epoch 107/200\n",
      "13/13 - 3s - loss: 0.4140 - acc: 0.8544 - val_loss: 0.9764 - val_acc: 0.6968\n",
      "Epoch 108/200\n",
      "13/13 - 3s - loss: 0.3998 - acc: 0.8563 - val_loss: 0.9014 - val_acc: 0.7130\n",
      "Epoch 109/200\n",
      "13/13 - 2s - loss: 0.3774 - acc: 0.8697 - val_loss: 0.9497 - val_acc: 0.7143\n",
      "Epoch 110/200\n",
      "13/13 - 2s - loss: 0.3584 - acc: 0.8755 - val_loss: 0.9455 - val_acc: 0.7080\n",
      "Epoch 111/200\n",
      "13/13 - 3s - loss: 0.3587 - acc: 0.8750 - val_loss: 0.9560 - val_acc: 0.7124\n",
      "Epoch 112/200\n",
      "13/13 - 3s - loss: 0.3880 - acc: 0.8630 - val_loss: 1.0343 - val_acc: 0.6968\n",
      "Epoch 113/200\n",
      "13/13 - 3s - loss: 0.3946 - acc: 0.8611 - val_loss: 1.0066 - val_acc: 0.7037\n",
      "Epoch 114/200\n",
      "13/13 - 3s - loss: 0.3953 - acc: 0.8608 - val_loss: 0.9509 - val_acc: 0.7062\n",
      "Epoch 115/200\n",
      "13/13 - 3s - loss: 0.4022 - acc: 0.8616 - val_loss: 0.9730 - val_acc: 0.7024\n",
      "Epoch 116/200\n",
      "13/13 - 3s - loss: 0.3571 - acc: 0.8747 - val_loss: 0.9360 - val_acc: 0.7068\n",
      "Epoch 117/200\n",
      "13/13 - 3s - loss: 0.3558 - acc: 0.8763 - val_loss: 0.9243 - val_acc: 0.7049\n",
      "Epoch 118/200\n",
      "13/13 - 3s - loss: 0.3620 - acc: 0.8731 - val_loss: 0.9760 - val_acc: 0.6999\n",
      "Epoch 119/200\n",
      "13/13 - 3s - loss: 0.3879 - acc: 0.8635 - val_loss: 0.9534 - val_acc: 0.6968\n",
      "Epoch 120/200\n",
      "13/13 - 3s - loss: 0.3960 - acc: 0.8683 - val_loss: 0.9780 - val_acc: 0.6931\n",
      "Epoch 121/200\n",
      "13/13 - 2s - loss: 0.3669 - acc: 0.8750 - val_loss: 0.9516 - val_acc: 0.7218\n",
      "Epoch 122/200\n",
      "13/13 - 2s - loss: 0.3445 - acc: 0.8791 - val_loss: 0.9548 - val_acc: 0.7112\n",
      "Epoch 123/200\n",
      "13/13 - 2s - loss: 0.3507 - acc: 0.8791 - val_loss: 0.9428 - val_acc: 0.7193\n",
      "Epoch 124/200\n",
      "13/13 - 2s - loss: 0.3487 - acc: 0.8785 - val_loss: 0.9918 - val_acc: 0.7068\n",
      "Epoch 125/200\n",
      "13/13 - 2s - loss: 0.3562 - acc: 0.8714 - val_loss: 0.9651 - val_acc: 0.6987\n",
      "Epoch 126/200\n",
      "13/13 - 2s - loss: 0.3322 - acc: 0.8817 - val_loss: 0.9801 - val_acc: 0.7180\n",
      "Epoch 127/200\n",
      "13/13 - 2s - loss: 0.3393 - acc: 0.8816 - val_loss: 0.9939 - val_acc: 0.6987\n",
      "Epoch 128/200\n",
      "13/13 - 2s - loss: 0.3249 - acc: 0.8839 - val_loss: 0.9891 - val_acc: 0.7018\n",
      "Epoch 129/200\n",
      "13/13 - 2s - loss: 0.3090 - acc: 0.8853 - val_loss: 1.0538 - val_acc: 0.6912\n",
      "Epoch 130/200\n",
      "13/13 - 2s - loss: 0.3304 - acc: 0.8863 - val_loss: 1.0332 - val_acc: 0.7261\n",
      "Epoch 131/200\n",
      "13/13 - 2s - loss: 0.3307 - acc: 0.8806 - val_loss: 1.0353 - val_acc: 0.6806\n",
      "Epoch 132/200\n",
      "13/13 - 2s - loss: 0.3391 - acc: 0.8830 - val_loss: 0.9816 - val_acc: 0.7093\n",
      "Epoch 133/200\n",
      "13/13 - 2s - loss: 0.3893 - acc: 0.8633 - val_loss: 1.0376 - val_acc: 0.6925\n",
      "Epoch 134/200\n",
      "13/13 - 2s - loss: 0.3894 - acc: 0.8658 - val_loss: 1.0337 - val_acc: 0.6900\n",
      "Epoch 135/200\n",
      "13/13 - 2s - loss: 0.3762 - acc: 0.8707 - val_loss: 0.9536 - val_acc: 0.7099\n",
      "Epoch 136/200\n",
      "13/13 - 2s - loss: 0.3636 - acc: 0.8731 - val_loss: 0.9903 - val_acc: 0.6999\n",
      "Epoch 137/200\n",
      "13/13 - 2s - loss: 0.3443 - acc: 0.8814 - val_loss: 0.9728 - val_acc: 0.6974\n",
      "Epoch 138/200\n",
      "13/13 - 2s - loss: 0.3242 - acc: 0.8883 - val_loss: 1.0098 - val_acc: 0.7037\n",
      "Epoch 139/200\n",
      "13/13 - 2s - loss: 0.3381 - acc: 0.8806 - val_loss: 1.0156 - val_acc: 0.6987\n",
      "Epoch 140/200\n",
      "13/13 - 2s - loss: 0.3151 - acc: 0.8886 - val_loss: 1.0091 - val_acc: 0.7018\n",
      "Epoch 141/200\n",
      "13/13 - 2s - loss: 0.3496 - acc: 0.8756 - val_loss: 1.0207 - val_acc: 0.7124\n",
      "Epoch 142/200\n",
      "13/13 - 2s - loss: 0.3222 - acc: 0.8869 - val_loss: 0.9932 - val_acc: 0.6937\n",
      "Epoch 143/200\n",
      "13/13 - 2s - loss: 0.3423 - acc: 0.8838 - val_loss: 1.0136 - val_acc: 0.7043\n",
      "Epoch 144/200\n",
      "13/13 - 2s - loss: 0.3233 - acc: 0.8873 - val_loss: 0.9994 - val_acc: 0.7037\n",
      "Epoch 145/200\n",
      "13/13 - 2s - loss: 0.3289 - acc: 0.8850 - val_loss: 1.0062 - val_acc: 0.7037\n",
      "Epoch 146/200\n",
      "13/13 - 2s - loss: 0.3088 - acc: 0.8912 - val_loss: 0.9966 - val_acc: 0.7112\n",
      "Epoch 147/200\n",
      "13/13 - 2s - loss: 0.3045 - acc: 0.8919 - val_loss: 1.0099 - val_acc: 0.7074\n",
      "Epoch 148/200\n",
      "13/13 - 2s - loss: 0.3124 - acc: 0.8933 - val_loss: 1.0201 - val_acc: 0.7006\n",
      "Epoch 149/200\n",
      "13/13 - 2s - loss: 0.3287 - acc: 0.8928 - val_loss: 1.0016 - val_acc: 0.7043\n",
      "Epoch 150/200\n",
      "13/13 - 2s - loss: 0.3486 - acc: 0.8755 - val_loss: 0.9840 - val_acc: 0.7056\n",
      "Epoch 151/200\n",
      "13/13 - 2s - loss: 0.3264 - acc: 0.8841 - val_loss: 0.9920 - val_acc: 0.7112\n",
      "Epoch 152/200\n",
      "13/13 - 2s - loss: 0.3014 - acc: 0.8948 - val_loss: 1.0666 - val_acc: 0.7068\n",
      "Epoch 153/200\n",
      "13/13 - 2s - loss: 0.3262 - acc: 0.8833 - val_loss: 1.0714 - val_acc: 0.6993\n",
      "Epoch 154/200\n",
      "13/13 - 2s - loss: 0.3715 - acc: 0.8738 - val_loss: 1.0583 - val_acc: 0.7031\n",
      "Epoch 155/200\n",
      "13/13 - 2s - loss: 0.3763 - acc: 0.8664 - val_loss: 0.9993 - val_acc: 0.6949\n",
      "Epoch 156/200\n",
      "13/13 - 2s - loss: 0.3110 - acc: 0.8911 - val_loss: 0.9658 - val_acc: 0.7162\n",
      "Epoch 157/200\n",
      "13/13 - 3s - loss: 0.2714 - acc: 0.9047 - val_loss: 1.0217 - val_acc: 0.7118\n",
      "Epoch 158/200\n",
      "13/13 - 3s - loss: 0.2925 - acc: 0.8981 - val_loss: 1.0928 - val_acc: 0.6993\n",
      "Epoch 159/200\n",
      "13/13 - 2s - loss: 0.3052 - acc: 0.8944 - val_loss: 1.0674 - val_acc: 0.7037\n",
      "Epoch 160/200\n",
      "13/13 - 3s - loss: 0.2997 - acc: 0.8966 - val_loss: 1.0828 - val_acc: 0.7018\n",
      "Epoch 161/200\n",
      "13/13 - 2s - loss: 0.2713 - acc: 0.9034 - val_loss: 1.0624 - val_acc: 0.7062\n",
      "Epoch 162/200\n",
      "13/13 - 3s - loss: 0.2751 - acc: 0.9083 - val_loss: 1.1246 - val_acc: 0.7024\n",
      "Epoch 163/200\n",
      "13/13 - 3s - loss: 0.2887 - acc: 0.9019 - val_loss: 1.0888 - val_acc: 0.7124\n",
      "Epoch 164/200\n",
      "13/13 - 3s - loss: 0.3166 - acc: 0.8948 - val_loss: 1.1329 - val_acc: 0.7224\n",
      "Epoch 165/200\n",
      "13/13 - 2s - loss: 0.2974 - acc: 0.8933 - val_loss: 1.0734 - val_acc: 0.7255\n",
      "Epoch 166/200\n",
      "13/13 - 2s - loss: 0.2984 - acc: 0.8951 - val_loss: 1.0322 - val_acc: 0.7255\n",
      "Epoch 167/200\n",
      "13/13 - 3s - loss: 0.3202 - acc: 0.8866 - val_loss: 1.0372 - val_acc: 0.7037\n",
      "Epoch 168/200\n",
      "13/13 - 2s - loss: 0.2849 - acc: 0.9044 - val_loss: 1.0461 - val_acc: 0.7155\n",
      "Epoch 169/200\n",
      "13/13 - 3s - loss: 0.2620 - acc: 0.9128 - val_loss: 1.1078 - val_acc: 0.6981\n",
      "Epoch 170/200\n",
      "13/13 - 3s - loss: 0.2663 - acc: 0.9062 - val_loss: 1.0588 - val_acc: 0.7018\n",
      "Epoch 171/200\n",
      "13/13 - 3s - loss: 0.2952 - acc: 0.8978 - val_loss: 1.0910 - val_acc: 0.7056\n",
      "Epoch 172/200\n",
      "13/13 - 2s - loss: 0.3051 - acc: 0.8937 - val_loss: 1.1078 - val_acc: 0.7018\n",
      "Epoch 173/200\n",
      "13/13 - 2s - loss: 0.2897 - acc: 0.9033 - val_loss: 1.0724 - val_acc: 0.7080\n",
      "Epoch 174/200\n",
      "13/13 - 3s - loss: 0.2853 - acc: 0.9037 - val_loss: 1.0937 - val_acc: 0.7037\n",
      "Epoch 175/200\n",
      "13/13 - 3s - loss: 0.2756 - acc: 0.9083 - val_loss: 1.1048 - val_acc: 0.7105\n",
      "Epoch 176/200\n",
      "13/13 - 3s - loss: 0.2818 - acc: 0.9031 - val_loss: 1.0640 - val_acc: 0.7062\n",
      "Epoch 177/200\n",
      "13/13 - 2s - loss: 0.3162 - acc: 0.8880 - val_loss: 1.0233 - val_acc: 0.7087\n",
      "Epoch 178/200\n",
      "13/13 - 2s - loss: 0.2933 - acc: 0.8973 - val_loss: 1.0634 - val_acc: 0.6987\n",
      "Epoch 179/200\n",
      "13/13 - 3s - loss: 0.2701 - acc: 0.9053 - val_loss: 1.1063 - val_acc: 0.7018\n",
      "Epoch 180/200\n",
      "13/13 - 2s - loss: 0.2895 - acc: 0.9036 - val_loss: 1.0810 - val_acc: 0.7037\n",
      "Epoch 181/200\n",
      "13/13 - 2s - loss: 0.2736 - acc: 0.9044 - val_loss: 1.1251 - val_acc: 0.7031\n",
      "Epoch 182/200\n",
      "13/13 - 3s - loss: 0.2654 - acc: 0.9090 - val_loss: 1.1023 - val_acc: 0.7024\n"
     ]
    },
    {
     "name": "stdout",
     "output_type": "stream",
     "text": [
      "Epoch 183/200\n",
      "13/13 - 3s - loss: 0.2720 - acc: 0.9040 - val_loss: 1.1281 - val_acc: 0.6918\n",
      "Epoch 184/200\n",
      "13/13 - 2s - loss: 0.2972 - acc: 0.8978 - val_loss: 1.1109 - val_acc: 0.6900\n",
      "Epoch 185/200\n",
      "13/13 - 3s - loss: 0.2761 - acc: 0.9047 - val_loss: 1.1182 - val_acc: 0.7068\n",
      "Epoch 186/200\n",
      "13/13 - 3s - loss: 0.3221 - acc: 0.8869 - val_loss: 1.0411 - val_acc: 0.6974\n",
      "Epoch 187/200\n",
      "13/13 - 3s - loss: 0.2984 - acc: 0.8981 - val_loss: 1.0860 - val_acc: 0.6993\n",
      "Epoch 188/200\n",
      "13/13 - 3s - loss: 0.2903 - acc: 0.9005 - val_loss: 1.0901 - val_acc: 0.7056\n",
      "Epoch 189/200\n",
      "13/13 - 2s - loss: 0.2977 - acc: 0.8966 - val_loss: 1.1210 - val_acc: 0.6937\n",
      "Epoch 190/200\n",
      "13/13 - 3s - loss: 0.2776 - acc: 0.9064 - val_loss: 1.0369 - val_acc: 0.7006\n",
      "Epoch 191/200\n",
      "13/13 - 2s - loss: 0.3122 - acc: 0.8955 - val_loss: 1.1056 - val_acc: 0.6875\n",
      "Epoch 192/200\n",
      "13/13 - 2s - loss: 0.2846 - acc: 0.9061 - val_loss: 1.0292 - val_acc: 0.6968\n",
      "Epoch 193/200\n",
      "13/13 - 3s - loss: 0.2681 - acc: 0.9070 - val_loss: 1.0898 - val_acc: 0.7012\n",
      "Epoch 194/200\n",
      "13/13 - 3s - loss: 0.2580 - acc: 0.9148 - val_loss: 1.0909 - val_acc: 0.7099\n",
      "Epoch 195/200\n",
      "13/13 - 2s - loss: 0.2448 - acc: 0.9181 - val_loss: 1.1169 - val_acc: 0.7093\n",
      "Epoch 196/200\n",
      "13/13 - 3s - loss: 0.2935 - acc: 0.9025 - val_loss: 1.1118 - val_acc: 0.7012\n",
      "Epoch 197/200\n",
      "13/13 - 3s - loss: 0.3086 - acc: 0.8948 - val_loss: 1.0603 - val_acc: 0.6981\n",
      "Epoch 198/200\n",
      "13/13 - 3s - loss: 0.2619 - acc: 0.9122 - val_loss: 1.0994 - val_acc: 0.6900\n",
      "Epoch 199/200\n",
      "13/13 - 3s - loss: 0.2400 - acc: 0.9242 - val_loss: 1.0965 - val_acc: 0.7062\n",
      "Epoch 200/200\n",
      "13/13 - 3s - loss: 0.2630 - acc: 0.9153 - val_loss: 1.1013 - val_acc: 0.6943\n"
     ]
    }
   ],
   "source": [
    "# Train\n",
    "try:\n",
    "    model_MLP_V1.load_weights('../models/MLP_weight.h5')\n",
    "except:\n",
    "    print(\"new model_MLP_V1\")\n",
    "\n",
    "batch_size = 512\n",
    "epochs = 200\n",
    "\n",
    "train_history = model_MLP_V1.fit(\n",
    "    x=train_data,y=train_label,\n",
    "    epochs=epochs,\n",
    "    batch_size = batch_size,\n",
    "    validation_split=0.2,\n",
    "    verbose=2,class_weight=class_weight)"
   ]
  },
  {
   "cell_type": "code",
   "execution_count": 12,
   "metadata": {
    "pycharm": {
     "name": "#%%\n"
    }
   },
   "outputs": [],
   "source": [
    "model_MLP_V1.save_weights('../models/MLP_weight.h5')\n",
    "model_MLP_V1.save('../models/MLP_V1.h5')"
   ]
  },
  {
   "cell_type": "code",
   "execution_count": 13,
   "metadata": {
    "pycharm": {
     "name": "#%%\n"
    }
   },
   "outputs": [
    {
     "name": "stderr",
     "output_type": "stream",
     "text": [
      "/Users/skylan/opt/anaconda3/lib/python3.8/site-packages/sklearn/utils/validation.py:70: FutureWarning: Pass classes=[0 1 2 3 4 5 6] as keyword args. From version 1.0 (renaming of 0.25) passing these as positional arguments will result in an error\n",
      "  warnings.warn(f\"Pass {args_msg} as keyword args. From version \"\n"
     ]
    }
   ],
   "source": [
    "# apply oversampling instead of class weight\n",
    "smote_sample = SMOTE(random_state=87)\n",
    "train_data_oversample, train_label_oversample = smote_sample.fit_resample(train_data, train_label)"
   ]
  },
  {
   "cell_type": "code",
   "execution_count": 14,
   "metadata": {
    "pycharm": {
     "name": "#%%\n"
    }
   },
   "outputs": [
    {
     "name": "stdout",
     "output_type": "stream",
     "text": [
      "Model: \"sequential_1\"\n",
      "_________________________________________________________________\n",
      "Layer (type)                 Output Shape              Param #   \n",
      "=================================================================\n",
      "dense_5 (Dense)              (None, 2048)              6293504   \n",
      "_________________________________________________________________\n",
      "dropout_4 (Dropout)          (None, 2048)              0         \n",
      "_________________________________________________________________\n",
      "dense_6 (Dense)              (None, 1024)              2098176   \n",
      "_________________________________________________________________\n",
      "dropout_5 (Dropout)          (None, 1024)              0         \n",
      "_________________________________________________________________\n",
      "dense_7 (Dense)              (None, 512)               524800    \n",
      "_________________________________________________________________\n",
      "dropout_6 (Dropout)          (None, 512)               0         \n",
      "_________________________________________________________________\n",
      "dense_8 (Dense)              (None, 256)               131328    \n",
      "_________________________________________________________________\n",
      "dropout_7 (Dropout)          (None, 256)               0         \n",
      "_________________________________________________________________\n",
      "dense_9 (Dense)              (None, 7)                 1799      \n",
      "=================================================================\n",
      "Total params: 9,049,607\n",
      "Trainable params: 9,049,607\n",
      "Non-trainable params: 0\n",
      "_________________________________________________________________\n"
     ]
    }
   ],
   "source": [
    "#setup MLP model V2\n",
    "num_classes = 7\n",
    "dimension = image_size*image_size*3\n",
    "\n",
    "model_MLP_V2 = Sequential()\n",
    "\n",
    "#input Dense layer of 64x64x3 image input:\n",
    "#with normal distribution + relu activation\n",
    "model_MLP_V2.add(Dense(units=2048,input_dim=dimension,kernel_initializer='normal',activation='relu'))\n",
    "model_MLP_V2.add(Dropout(0.2))\n",
    "\n",
    "#hidden layer 2\n",
    "model_MLP_V2.add(Dense(units=1024,input_dim=dimension,kernel_initializer='normal',activation='relu'))\n",
    "model_MLP_V2.add(Dropout(0.3))\n",
    "\n",
    "#hidden layer 3\n",
    "model_MLP_V2.add(Dense(units=512,input_dim=dimension,kernel_initializer='normal',activation='relu'))\n",
    "model_MLP_V2.add(Dropout(0.3))\n",
    "\n",
    "#hidden layer 4\n",
    "model_MLP_V2.add(Dense(units=256,input_dim=dimension,kernel_initializer='normal',activation='relu'))\n",
    "model_MLP_V2.add(Dropout(0.3))\n",
    "\n",
    "#output Dense layer with 7 classes + softmax activation\n",
    "model_MLP_V2.add(Dense(units=num_classes,kernel_initializer='normal',activation='softmax'))\n",
    "model_MLP_V2.summary()\n",
    "\n",
    "model_MLP_V2.compile(loss='categorical_crossentropy', optimizer='Adam', metrics=['acc'])"
   ]
  },
  {
   "cell_type": "code",
   "execution_count": 15,
   "metadata": {
    "pycharm": {
     "name": "#%%\n"
    }
   },
   "outputs": [
    {
     "name": "stdout",
     "output_type": "stream",
     "text": [
      "new model_MLP_V2\n",
      "Epoch 1/200\n",
      "59/59 - 14s - loss: 2.1772 - acc: 0.1905 - val_loss: 3.5627 - val_acc: 0.0000e+00\n",
      "Epoch 2/200\n",
      "59/59 - 13s - loss: 1.6831 - acc: 0.2829 - val_loss: 4.2785 - val_acc: 0.0000e+00\n",
      "Epoch 3/200\n",
      "59/59 - 12s - loss: 1.5741 - acc: 0.3213 - val_loss: 3.9693 - val_acc: 0.0997\n",
      "Epoch 4/200\n",
      "59/59 - 13s - loss: 1.5124 - acc: 0.3598 - val_loss: 4.1298 - val_acc: 0.1498\n",
      "Epoch 5/200\n",
      "59/59 - 12s - loss: 1.4732 - acc: 0.3762 - val_loss: 4.5029 - val_acc: 0.1084\n",
      "Epoch 6/200\n",
      "59/59 - 12s - loss: 1.4472 - acc: 0.3969 - val_loss: 4.0026 - val_acc: 0.1055\n",
      "Epoch 7/200\n",
      "59/59 - 12s - loss: 1.4255 - acc: 0.4115 - val_loss: 3.9753 - val_acc: 0.1156\n",
      "Epoch 8/200\n",
      "59/59 - 11s - loss: 1.4024 - acc: 0.4298 - val_loss: 3.9214 - val_acc: 0.1814\n",
      "Epoch 9/200\n",
      "59/59 - 12s - loss: 1.3407 - acc: 0.4596 - val_loss: 3.9033 - val_acc: 0.1550\n",
      "Epoch 10/200\n",
      "59/59 - 12s - loss: 1.3274 - acc: 0.4673 - val_loss: 4.1337 - val_acc: 0.1547\n",
      "Epoch 11/200\n",
      "59/59 - 12s - loss: 1.3387 - acc: 0.4664 - val_loss: 4.2528 - val_acc: 0.1579\n",
      "Epoch 12/200\n",
      "59/59 - 12s - loss: 1.3085 - acc: 0.4838 - val_loss: 3.7908 - val_acc: 0.1056\n",
      "Epoch 13/200\n",
      "59/59 - 13s - loss: 1.2846 - acc: 0.4906 - val_loss: 3.6954 - val_acc: 0.1300\n",
      "Epoch 14/200\n",
      "59/59 - 13s - loss: 1.2790 - acc: 0.4949 - val_loss: 3.6835 - val_acc: 0.1530\n",
      "Epoch 15/200\n",
      "59/59 - 12s - loss: 1.2652 - acc: 0.5039 - val_loss: 3.9231 - val_acc: 0.1148\n",
      "Epoch 16/200\n",
      "59/59 - 11s - loss: 1.2638 - acc: 0.5042 - val_loss: 3.6449 - val_acc: 0.1411\n",
      "Epoch 17/200\n",
      "59/59 - 11s - loss: 1.2382 - acc: 0.5132 - val_loss: 3.8182 - val_acc: 0.1352\n",
      "Epoch 18/200\n",
      "59/59 - 10s - loss: 1.2832 - acc: 0.4919 - val_loss: 3.8982 - val_acc: 0.1447\n",
      "Epoch 19/200\n",
      "59/59 - 10s - loss: 1.2583 - acc: 0.5043 - val_loss: 3.7203 - val_acc: 0.1185\n",
      "Epoch 20/200\n",
      "59/59 - 10s - loss: 1.2275 - acc: 0.5163 - val_loss: 3.6274 - val_acc: 0.1774\n",
      "Epoch 21/200\n",
      "59/59 - 10s - loss: 1.2111 - acc: 0.5301 - val_loss: 3.9403 - val_acc: 0.0996\n",
      "Epoch 22/200\n",
      "59/59 - 10s - loss: 1.2639 - acc: 0.5087 - val_loss: 3.8917 - val_acc: 0.1008\n",
      "Epoch 23/200\n",
      "59/59 - 10s - loss: 1.1924 - acc: 0.5404 - val_loss: 4.0194 - val_acc: 0.0915\n",
      "Epoch 24/200\n",
      "59/59 - 10s - loss: 1.1911 - acc: 0.5380 - val_loss: 3.4025 - val_acc: 0.1724\n",
      "Epoch 25/200\n",
      "59/59 - 10s - loss: 1.1655 - acc: 0.5525 - val_loss: 3.8506 - val_acc: 0.0762\n",
      "Epoch 26/200\n",
      "59/59 - 10s - loss: 1.1621 - acc: 0.5547 - val_loss: 3.6860 - val_acc: 0.1445\n",
      "Epoch 27/200\n",
      "59/59 - 11s - loss: 1.1598 - acc: 0.5485 - val_loss: 3.9061 - val_acc: 0.0827\n",
      "Epoch 28/200\n",
      "59/59 - 12s - loss: 1.1109 - acc: 0.5711 - val_loss: 3.8417 - val_acc: 0.1016\n",
      "Epoch 29/200\n",
      "59/59 - 12s - loss: 1.1013 - acc: 0.5771 - val_loss: 3.4563 - val_acc: 0.1511\n",
      "Epoch 30/200\n",
      "59/59 - 11s - loss: 1.0981 - acc: 0.5812 - val_loss: 3.4736 - val_acc: 0.1204\n",
      "Epoch 31/200\n",
      "59/59 - 12s - loss: 1.0799 - acc: 0.5883 - val_loss: 3.8125 - val_acc: 0.1599\n",
      "Epoch 32/200\n",
      "59/59 - 11s - loss: 1.0643 - acc: 0.5917 - val_loss: 3.3322 - val_acc: 0.1173\n",
      "Epoch 33/200\n",
      "59/59 - 11s - loss: 1.0618 - acc: 0.5966 - val_loss: 3.7533 - val_acc: 0.1272\n",
      "Epoch 34/200\n",
      "59/59 - 11s - loss: 1.0382 - acc: 0.6060 - val_loss: 3.5963 - val_acc: 0.1181\n",
      "Epoch 35/200\n",
      "59/59 - 11s - loss: 1.0045 - acc: 0.6180 - val_loss: 3.6586 - val_acc: 0.1804\n",
      "Epoch 36/200\n",
      "59/59 - 11s - loss: 1.0212 - acc: 0.6113 - val_loss: 3.8002 - val_acc: 0.1333\n",
      "Epoch 37/200\n",
      "59/59 - 11s - loss: 1.0028 - acc: 0.6204 - val_loss: 3.5532 - val_acc: 0.1405\n",
      "Epoch 38/200\n",
      "59/59 - 12s - loss: 1.0071 - acc: 0.6164 - val_loss: 3.4391 - val_acc: 0.1265\n",
      "Epoch 39/200\n",
      "59/59 - 11s - loss: 0.9736 - acc: 0.6317 - val_loss: 3.9694 - val_acc: 0.1650\n",
      "Epoch 40/200\n",
      "59/59 - 11s - loss: 1.0499 - acc: 0.5987 - val_loss: 4.4900 - val_acc: 0.0940\n",
      "Epoch 41/200\n",
      "59/59 - 12s - loss: 1.0888 - acc: 0.5856 - val_loss: 3.8314 - val_acc: 0.1816\n",
      "Epoch 42/200\n",
      "59/59 - 11s - loss: 1.0465 - acc: 0.6030 - val_loss: 3.8469 - val_acc: 0.1358\n",
      "Epoch 43/200\n",
      "59/59 - 11s - loss: 1.0255 - acc: 0.6087 - val_loss: 4.1546 - val_acc: 0.1457\n",
      "Epoch 44/200\n",
      "59/59 - 11s - loss: 1.0131 - acc: 0.6157 - val_loss: 4.1124 - val_acc: 0.1088\n",
      "Epoch 45/200\n",
      "59/59 - 11s - loss: 1.0222 - acc: 0.6137 - val_loss: 3.8809 - val_acc: 0.1180\n",
      "Epoch 46/200\n",
      "59/59 - 10s - loss: 1.0270 - acc: 0.6081 - val_loss: 4.2138 - val_acc: 0.1206\n",
      "Epoch 47/200\n",
      "59/59 - 11s - loss: 1.0243 - acc: 0.6123 - val_loss: 4.0508 - val_acc: 0.1411\n",
      "Epoch 48/200\n",
      "59/59 - 12s - loss: 1.0164 - acc: 0.6161 - val_loss: 4.1015 - val_acc: 0.1458\n",
      "Epoch 49/200\n",
      "59/59 - 13s - loss: 0.9818 - acc: 0.6291 - val_loss: 3.7268 - val_acc: 0.1334\n",
      "Epoch 50/200\n",
      "59/59 - 12s - loss: 0.9920 - acc: 0.6248 - val_loss: 3.5837 - val_acc: 0.1260\n",
      "Epoch 51/200\n",
      "59/59 - 12s - loss: 0.9753 - acc: 0.6292 - val_loss: 3.4595 - val_acc: 0.1780\n",
      "Epoch 52/200\n",
      "59/59 - 12s - loss: 0.9706 - acc: 0.6364 - val_loss: 3.9214 - val_acc: 0.1060\n",
      "Epoch 53/200\n",
      "59/59 - 12s - loss: 0.9433 - acc: 0.6446 - val_loss: 3.5327 - val_acc: 0.1806\n",
      "Epoch 54/200\n",
      "59/59 - 12s - loss: 0.8979 - acc: 0.6606 - val_loss: 3.6795 - val_acc: 0.1715\n",
      "Epoch 55/200\n",
      "59/59 - 12s - loss: 0.9227 - acc: 0.6527 - val_loss: 3.6472 - val_acc: 0.1208\n",
      "Epoch 56/200\n",
      "59/59 - 12s - loss: 0.9329 - acc: 0.6506 - val_loss: 3.6328 - val_acc: 0.1503\n",
      "Epoch 57/200\n",
      "59/59 - 12s - loss: 0.9101 - acc: 0.6550 - val_loss: 4.1161 - val_acc: 0.1349\n",
      "Epoch 58/200\n",
      "59/59 - 12s - loss: 0.8944 - acc: 0.6605 - val_loss: 4.0943 - val_acc: 0.1402\n",
      "Epoch 59/200\n",
      "59/59 - 12s - loss: 0.9120 - acc: 0.6549 - val_loss: 3.3825 - val_acc: 0.1565\n",
      "Epoch 60/200\n",
      "59/59 - 12s - loss: 0.8916 - acc: 0.6642 - val_loss: 3.3782 - val_acc: 0.1762\n",
      "Epoch 61/200\n",
      "59/59 - 12s - loss: 0.8754 - acc: 0.6702 - val_loss: 3.9711 - val_acc: 0.1674\n",
      "Epoch 62/200\n",
      "59/59 - 11s - loss: 0.8553 - acc: 0.6753 - val_loss: 3.7673 - val_acc: 0.1530\n",
      "Epoch 63/200\n",
      "59/59 - 12s - loss: 0.8724 - acc: 0.6705 - val_loss: 3.7125 - val_acc: 0.1700\n",
      "Epoch 64/200\n",
      "59/59 - 13s - loss: 0.8592 - acc: 0.6760 - val_loss: 4.1034 - val_acc: 0.0955\n",
      "Epoch 65/200\n",
      "59/59 - 14s - loss: 0.8627 - acc: 0.6728 - val_loss: 3.5067 - val_acc: 0.1160\n",
      "Epoch 66/200\n",
      "59/59 - 13s - loss: 0.8556 - acc: 0.6761 - val_loss: 3.8639 - val_acc: 0.1495\n",
      "Epoch 67/200\n",
      "59/59 - 12s - loss: 0.8149 - acc: 0.6956 - val_loss: 4.1374 - val_acc: 0.1292\n",
      "Epoch 68/200\n",
      "59/59 - 12s - loss: 0.8602 - acc: 0.6754 - val_loss: 3.9486 - val_acc: 0.1502\n",
      "Epoch 69/200\n",
      "59/59 - 11s - loss: 0.8213 - acc: 0.6921 - val_loss: 3.1425 - val_acc: 0.1871\n",
      "Epoch 70/200\n",
      "59/59 - 12s - loss: 0.8134 - acc: 0.6964 - val_loss: 4.1696 - val_acc: 0.1338\n",
      "Epoch 71/200\n",
      "59/59 - 11s - loss: 0.8419 - acc: 0.6837 - val_loss: 3.7267 - val_acc: 0.1561\n",
      "Epoch 72/200\n",
      "59/59 - 11s - loss: 0.8058 - acc: 0.6959 - val_loss: 3.5654 - val_acc: 0.1473\n",
      "Epoch 73/200\n",
      "59/59 - 11s - loss: 0.8047 - acc: 0.6963 - val_loss: 3.8397 - val_acc: 0.1470\n",
      "Epoch 74/200\n",
      "59/59 - 11s - loss: 0.8129 - acc: 0.6939 - val_loss: 3.7212 - val_acc: 0.1570\n",
      "Epoch 75/200\n",
      "59/59 - 11s - loss: 0.7897 - acc: 0.7032 - val_loss: 3.3835 - val_acc: 0.2053\n",
      "Epoch 76/200\n",
      "59/59 - 10s - loss: 0.8234 - acc: 0.6913 - val_loss: 3.3521 - val_acc: 0.1630\n",
      "Epoch 77/200\n",
      "59/59 - 10s - loss: 0.7928 - acc: 0.7032 - val_loss: 3.4981 - val_acc: 0.1711\n",
      "Epoch 78/200\n",
      "59/59 - 10s - loss: 0.8019 - acc: 0.7003 - val_loss: 3.5546 - val_acc: 0.1964\n",
      "Epoch 79/200\n",
      "59/59 - 10s - loss: 0.7958 - acc: 0.7028 - val_loss: 3.9534 - val_acc: 0.1822\n",
      "Epoch 80/200\n",
      "59/59 - 10s - loss: 0.7931 - acc: 0.6998 - val_loss: 4.0132 - val_acc: 0.1182\n",
      "Epoch 81/200\n",
      "59/59 - 10s - loss: 0.7641 - acc: 0.7128 - val_loss: 3.8052 - val_acc: 0.1391\n",
      "Epoch 82/200\n",
      "59/59 - 10s - loss: 0.8311 - acc: 0.6874 - val_loss: 3.5169 - val_acc: 0.1722\n",
      "Epoch 83/200\n",
      "59/59 - 10s - loss: 0.7936 - acc: 0.7020 - val_loss: 3.3437 - val_acc: 0.1710\n",
      "Epoch 84/200\n",
      "59/59 - 11s - loss: 0.8024 - acc: 0.7012 - val_loss: 3.5670 - val_acc: 0.1912\n",
      "Epoch 85/200\n",
      "59/59 - 11s - loss: 0.7913 - acc: 0.7030 - val_loss: 3.7722 - val_acc: 0.1770\n",
      "Epoch 86/200\n",
      "59/59 - 11s - loss: 0.8033 - acc: 0.7020 - val_loss: 3.7350 - val_acc: 0.1389\n",
      "Epoch 87/200\n",
      "59/59 - 12s - loss: 0.7889 - acc: 0.7037 - val_loss: 3.7638 - val_acc: 0.1430\n",
      "Epoch 88/200\n",
      "59/59 - 12s - loss: 0.7722 - acc: 0.7090 - val_loss: 4.0218 - val_acc: 0.1695\n",
      "Epoch 89/200\n",
      "59/59 - 11s - loss: 0.7834 - acc: 0.7069 - val_loss: 3.8453 - val_acc: 0.2003\n",
      "Epoch 90/200\n",
      "59/59 - 12s - loss: 0.7565 - acc: 0.7170 - val_loss: 3.9515 - val_acc: 0.1613\n"
     ]
    },
    {
     "name": "stdout",
     "output_type": "stream",
     "text": [
      "Epoch 91/200\n",
      "59/59 - 11s - loss: 0.7665 - acc: 0.7081 - val_loss: 3.8658 - val_acc: 0.1855\n",
      "Epoch 92/200\n",
      "59/59 - 10s - loss: 0.7277 - acc: 0.7261 - val_loss: 3.4384 - val_acc: 0.1874\n",
      "Epoch 93/200\n",
      "59/59 - 10s - loss: 0.7467 - acc: 0.7186 - val_loss: 3.9076 - val_acc: 0.1714\n",
      "Epoch 94/200\n",
      "59/59 - 10s - loss: 0.7433 - acc: 0.7227 - val_loss: 3.7298 - val_acc: 0.1631\n",
      "Epoch 95/200\n",
      "59/59 - 10s - loss: 0.7223 - acc: 0.7284 - val_loss: 3.8983 - val_acc: 0.1470\n",
      "Epoch 96/200\n",
      "59/59 - 10s - loss: 0.7245 - acc: 0.7271 - val_loss: 3.9420 - val_acc: 0.1286\n",
      "Epoch 97/200\n",
      "59/59 - 10s - loss: 0.7235 - acc: 0.7303 - val_loss: 3.5890 - val_acc: 0.1664\n",
      "Epoch 98/200\n",
      "59/59 - 11s - loss: 0.7471 - acc: 0.7192 - val_loss: 3.7740 - val_acc: 0.1470\n",
      "Epoch 99/200\n",
      "59/59 - 11s - loss: 0.7481 - acc: 0.7172 - val_loss: 3.4328 - val_acc: 0.1682\n",
      "Epoch 100/200\n",
      "59/59 - 11s - loss: 0.7426 - acc: 0.7201 - val_loss: 3.8268 - val_acc: 0.1302\n",
      "Epoch 101/200\n",
      "59/59 - 11s - loss: 0.7104 - acc: 0.7334 - val_loss: 3.6249 - val_acc: 0.1767\n",
      "Epoch 102/200\n",
      "59/59 - 11s - loss: 0.7629 - acc: 0.7170 - val_loss: 3.9614 - val_acc: 0.1545\n",
      "Epoch 103/200\n",
      "59/59 - 10s - loss: 0.7684 - acc: 0.7138 - val_loss: 3.6974 - val_acc: 0.1430\n",
      "Epoch 104/200\n",
      "59/59 - 10s - loss: 0.7443 - acc: 0.7199 - val_loss: 3.4855 - val_acc: 0.1626\n",
      "Epoch 105/200\n",
      "59/59 - 10s - loss: 0.7585 - acc: 0.7171 - val_loss: 3.4250 - val_acc: 0.1965\n",
      "Epoch 106/200\n",
      "59/59 - 11s - loss: 0.7789 - acc: 0.7058 - val_loss: 4.1960 - val_acc: 0.1410\n",
      "Epoch 107/200\n",
      "59/59 - 11s - loss: 0.8187 - acc: 0.6923 - val_loss: 3.6307 - val_acc: 0.1369\n",
      "Epoch 108/200\n",
      "59/59 - 11s - loss: 0.8056 - acc: 0.6972 - val_loss: 3.5428 - val_acc: 0.2276\n",
      "Epoch 109/200\n",
      "59/59 - 11s - loss: 0.7989 - acc: 0.6979 - val_loss: 3.6927 - val_acc: 0.1691\n",
      "Epoch 110/200\n",
      "59/59 - 12s - loss: 0.7715 - acc: 0.7097 - val_loss: 3.9070 - val_acc: 0.1253\n",
      "Epoch 111/200\n",
      "59/59 - 12s - loss: 0.7411 - acc: 0.7195 - val_loss: 3.8688 - val_acc: 0.1847\n",
      "Epoch 112/200\n",
      "59/59 - 12s - loss: 0.7797 - acc: 0.7068 - val_loss: 4.1658 - val_acc: 0.1642\n",
      "Epoch 113/200\n",
      "59/59 - 11s - loss: 0.7619 - acc: 0.7089 - val_loss: 4.1576 - val_acc: 0.1613\n",
      "Epoch 114/200\n",
      "59/59 - 12s - loss: 0.7458 - acc: 0.7192 - val_loss: 4.1652 - val_acc: 0.1515\n",
      "Epoch 115/200\n",
      "59/59 - 11s - loss: 0.7951 - acc: 0.7028 - val_loss: 3.6818 - val_acc: 0.1565\n",
      "Epoch 116/200\n",
      "59/59 - 12s - loss: 0.7701 - acc: 0.7108 - val_loss: 3.3830 - val_acc: 0.1957\n",
      "Epoch 117/200\n",
      "59/59 - 12s - loss: 0.7286 - acc: 0.7266 - val_loss: 3.8301 - val_acc: 0.1212\n",
      "Epoch 118/200\n",
      "59/59 - 12s - loss: 0.7219 - acc: 0.7286 - val_loss: 4.0697 - val_acc: 0.1639\n",
      "Epoch 119/200\n",
      "59/59 - 12s - loss: 0.7394 - acc: 0.7211 - val_loss: 3.8753 - val_acc: 0.1164\n",
      "Epoch 120/200\n",
      "59/59 - 12s - loss: 0.7545 - acc: 0.7185 - val_loss: 3.8780 - val_acc: 0.1684\n",
      "Epoch 121/200\n",
      "59/59 - 12s - loss: 0.7358 - acc: 0.7246 - val_loss: 4.1244 - val_acc: 0.1627\n",
      "Epoch 122/200\n",
      "59/59 - 13s - loss: 0.7517 - acc: 0.7151 - val_loss: 3.7192 - val_acc: 0.1554\n",
      "Epoch 123/200\n",
      "59/59 - 13s - loss: 0.7372 - acc: 0.7236 - val_loss: 3.6853 - val_acc: 0.1893\n",
      "Epoch 124/200\n",
      "59/59 - 13s - loss: 0.7460 - acc: 0.7169 - val_loss: 3.6145 - val_acc: 0.1586\n",
      "Epoch 125/200\n",
      "59/59 - 12s - loss: 0.7361 - acc: 0.7214 - val_loss: 3.8592 - val_acc: 0.1302\n",
      "Epoch 126/200\n",
      "59/59 - 12s - loss: 0.7544 - acc: 0.7163 - val_loss: 3.5148 - val_acc: 0.1744\n",
      "Epoch 127/200\n",
      "59/59 - 11s - loss: 0.7248 - acc: 0.7264 - val_loss: 3.5364 - val_acc: 0.1555\n",
      "Epoch 128/200\n",
      "59/59 - 11s - loss: 0.7473 - acc: 0.7214 - val_loss: 3.6941 - val_acc: 0.1198\n",
      "Epoch 129/200\n",
      "59/59 - 11s - loss: 0.7246 - acc: 0.7264 - val_loss: 3.8026 - val_acc: 0.1798\n",
      "Epoch 130/200\n",
      "59/59 - 11s - loss: 0.7445 - acc: 0.7188 - val_loss: 3.7356 - val_acc: 0.1571\n",
      "Epoch 131/200\n",
      "59/59 - 10s - loss: 0.7179 - acc: 0.7280 - val_loss: 3.7790 - val_acc: 0.1525\n",
      "Epoch 132/200\n",
      "59/59 - 11s - loss: 0.6927 - acc: 0.7363 - val_loss: 3.6034 - val_acc: 0.1847\n",
      "Epoch 133/200\n",
      "59/59 - 11s - loss: 0.6966 - acc: 0.7404 - val_loss: 3.6692 - val_acc: 0.1875\n",
      "Epoch 134/200\n",
      "59/59 - 11s - loss: 0.7190 - acc: 0.7275 - val_loss: 3.1040 - val_acc: 0.2348\n",
      "Epoch 135/200\n",
      "59/59 - 11s - loss: 0.7233 - acc: 0.7276 - val_loss: 3.2023 - val_acc: 0.1907\n",
      "Epoch 136/200\n",
      "59/59 - 12s - loss: 0.7151 - acc: 0.7328 - val_loss: 4.0383 - val_acc: 0.1551\n",
      "Epoch 137/200\n",
      "59/59 - 12s - loss: 0.7555 - acc: 0.7157 - val_loss: 4.1668 - val_acc: 0.1501\n",
      "Epoch 138/200\n",
      "59/59 - 12s - loss: 0.6803 - acc: 0.7435 - val_loss: 3.5049 - val_acc: 0.1925\n",
      "Epoch 139/200\n",
      "59/59 - 12s - loss: 0.6964 - acc: 0.7372 - val_loss: 3.1951 - val_acc: 0.2329\n",
      "Epoch 140/200\n",
      "59/59 - 12s - loss: 0.7149 - acc: 0.7299 - val_loss: 3.1341 - val_acc: 0.1892\n",
      "Epoch 141/200\n",
      "59/59 - 12s - loss: 0.6873 - acc: 0.7423 - val_loss: 4.1338 - val_acc: 0.1190\n",
      "Epoch 142/200\n",
      "59/59 - 12s - loss: 0.7299 - acc: 0.7275 - val_loss: 3.5287 - val_acc: 0.1919\n",
      "Epoch 143/200\n",
      "59/59 - 12s - loss: 0.6915 - acc: 0.7387 - val_loss: 3.3969 - val_acc: 0.1679\n",
      "Epoch 144/200\n",
      "59/59 - 13s - loss: 0.6992 - acc: 0.7392 - val_loss: 3.7228 - val_acc: 0.1726\n",
      "Epoch 145/200\n",
      "59/59 - 13s - loss: 0.6858 - acc: 0.7424 - val_loss: 3.5659 - val_acc: 0.1748\n",
      "Epoch 146/200\n",
      "59/59 - 13s - loss: 0.6736 - acc: 0.7490 - val_loss: 3.4102 - val_acc: 0.1744\n",
      "Epoch 147/200\n",
      "59/59 - 14s - loss: 0.6938 - acc: 0.7394 - val_loss: 3.6684 - val_acc: 0.2053\n",
      "Epoch 148/200\n",
      "59/59 - 13s - loss: 0.7008 - acc: 0.7375 - val_loss: 3.9679 - val_acc: 0.1603\n",
      "Epoch 149/200\n",
      "59/59 - 15s - loss: 0.6871 - acc: 0.7398 - val_loss: 3.1046 - val_acc: 0.2274\n",
      "Epoch 150/200\n",
      "59/59 - 15s - loss: 0.6863 - acc: 0.7418 - val_loss: 4.2688 - val_acc: 0.1539\n",
      "Epoch 151/200\n",
      "59/59 - 14s - loss: 0.8100 - acc: 0.6933 - val_loss: 3.9766 - val_acc: 0.1375\n",
      "Epoch 152/200\n",
      "59/59 - 13s - loss: 0.7389 - acc: 0.7180 - val_loss: 4.0415 - val_acc: 0.1526\n",
      "Epoch 153/200\n",
      "59/59 - 12s - loss: 0.7367 - acc: 0.7211 - val_loss: 4.0520 - val_acc: 0.1854\n",
      "Epoch 154/200\n",
      "59/59 - 12s - loss: 0.7376 - acc: 0.7194 - val_loss: 3.8052 - val_acc: 0.1453\n",
      "Epoch 155/200\n",
      "59/59 - 12s - loss: 0.8232 - acc: 0.6861 - val_loss: 4.1629 - val_acc: 0.1240\n",
      "Epoch 156/200\n",
      "59/59 - 13s - loss: 0.8580 - acc: 0.6723 - val_loss: 3.6990 - val_acc: 0.2264\n",
      "Epoch 157/200\n",
      "59/59 - 13s - loss: 0.8217 - acc: 0.6866 - val_loss: 4.1091 - val_acc: 0.0807\n",
      "Epoch 158/200\n",
      "59/59 - 13s - loss: 0.8210 - acc: 0.6885 - val_loss: 3.7110 - val_acc: 0.1514\n",
      "Epoch 159/200\n",
      "59/59 - 13s - loss: 0.7728 - acc: 0.7066 - val_loss: 3.6433 - val_acc: 0.1700\n",
      "Epoch 160/200\n",
      "59/59 - 12s - loss: 0.8518 - acc: 0.6772 - val_loss: 4.2553 - val_acc: 0.1281\n",
      "Epoch 161/200\n",
      "59/59 - 13s - loss: 0.7967 - acc: 0.6949 - val_loss: 3.6773 - val_acc: 0.1824\n",
      "Epoch 162/200\n",
      "59/59 - 12s - loss: 0.8361 - acc: 0.6778 - val_loss: 3.7981 - val_acc: 0.1630\n",
      "Epoch 163/200\n",
      "59/59 - 13s - loss: 0.7876 - acc: 0.7004 - val_loss: 3.4998 - val_acc: 0.2028\n",
      "Epoch 164/200\n",
      "59/59 - 13s - loss: 0.8367 - acc: 0.6799 - val_loss: 3.3573 - val_acc: 0.2132\n",
      "Epoch 165/200\n",
      "59/59 - 13s - loss: 0.7869 - acc: 0.6983 - val_loss: 3.7621 - val_acc: 0.1601\n",
      "Epoch 166/200\n",
      "59/59 - 12s - loss: 0.8003 - acc: 0.6950 - val_loss: 3.7589 - val_acc: 0.1965\n",
      "Epoch 167/200\n",
      "59/59 - 13s - loss: 0.8083 - acc: 0.6915 - val_loss: 3.9385 - val_acc: 0.1497\n",
      "Epoch 168/200\n",
      "59/59 - 12s - loss: 0.8089 - acc: 0.6913 - val_loss: 3.8255 - val_acc: 0.2040\n",
      "Epoch 169/200\n",
      "59/59 - 13s - loss: 0.7838 - acc: 0.7055 - val_loss: 3.7951 - val_acc: 0.2103\n",
      "Epoch 170/200\n",
      "59/59 - 12s - loss: 0.7539 - acc: 0.7128 - val_loss: 3.8496 - val_acc: 0.1748\n",
      "Epoch 171/200\n",
      "59/59 - 12s - loss: 0.7667 - acc: 0.7054 - val_loss: 3.8653 - val_acc: 0.1671\n",
      "Epoch 172/200\n",
      "59/59 - 12s - loss: 0.8142 - acc: 0.6917 - val_loss: 3.8656 - val_acc: 0.1901\n",
      "Epoch 173/200\n",
      "59/59 - 11s - loss: 0.7770 - acc: 0.7030 - val_loss: 3.5541 - val_acc: 0.1760\n",
      "Epoch 174/200\n",
      "59/59 - 8s - loss: 0.7700 - acc: 0.7042 - val_loss: 3.4249 - val_acc: 0.1927\n",
      "Epoch 175/200\n",
      "59/59 - 13s - loss: 0.8124 - acc: 0.6901 - val_loss: 3.9484 - val_acc: 0.1533\n",
      "Epoch 176/200\n",
      "59/59 - 13s - loss: 0.7571 - acc: 0.7112 - val_loss: 3.5358 - val_acc: 0.1949\n",
      "Epoch 177/200\n",
      "59/59 - 14s - loss: 0.7555 - acc: 0.7151 - val_loss: 3.8571 - val_acc: 0.1722\n",
      "Epoch 178/200\n",
      "59/59 - 14s - loss: 0.7671 - acc: 0.7063 - val_loss: 3.3920 - val_acc: 0.1891\n",
      "Epoch 179/200\n",
      "59/59 - 14s - loss: 0.8377 - acc: 0.6827 - val_loss: 3.4737 - val_acc: 0.1489\n",
      "Epoch 180/200\n",
      "59/59 - 14s - loss: 0.8029 - acc: 0.6959 - val_loss: 3.7978 - val_acc: 0.1967\n"
     ]
    },
    {
     "name": "stdout",
     "output_type": "stream",
     "text": [
      "Epoch 181/200\n",
      "59/59 - 13s - loss: 0.7581 - acc: 0.7126 - val_loss: 3.7807 - val_acc: 0.1542\n",
      "Epoch 182/200\n",
      "59/59 - 14s - loss: 0.7542 - acc: 0.7123 - val_loss: 4.1797 - val_acc: 0.1348\n",
      "Epoch 183/200\n",
      "59/59 - 13s - loss: 0.7383 - acc: 0.7178 - val_loss: 3.8175 - val_acc: 0.1594\n",
      "Epoch 184/200\n",
      "59/59 - 12s - loss: 0.8111 - acc: 0.6955 - val_loss: 3.7829 - val_acc: 0.1615\n",
      "Epoch 185/200\n",
      "59/59 - 12s - loss: 0.7428 - acc: 0.7175 - val_loss: 4.1984 - val_acc: 0.1646\n",
      "Epoch 186/200\n",
      "59/59 - 12s - loss: 0.7576 - acc: 0.7140 - val_loss: 3.8636 - val_acc: 0.1639\n",
      "Epoch 187/200\n",
      "59/59 - 13s - loss: 0.6627 - acc: 0.7489 - val_loss: 3.8186 - val_acc: 0.1884\n",
      "Epoch 188/200\n",
      "59/59 - 13s - loss: 0.6927 - acc: 0.7376 - val_loss: 3.4394 - val_acc: 0.1639\n",
      "Epoch 189/200\n",
      "59/59 - 14s - loss: 0.6882 - acc: 0.7378 - val_loss: 3.8306 - val_acc: 0.1798\n",
      "Epoch 190/200\n",
      "59/59 - 13s - loss: 0.6828 - acc: 0.7412 - val_loss: 3.6882 - val_acc: 0.1917\n",
      "Epoch 191/200\n",
      "59/59 - 13s - loss: 0.6954 - acc: 0.7350 - val_loss: 3.8232 - val_acc: 0.1730\n",
      "Epoch 192/200\n",
      "59/59 - 12s - loss: 0.7031 - acc: 0.7302 - val_loss: 3.7909 - val_acc: 0.1955\n",
      "Epoch 193/200\n",
      "59/59 - 11s - loss: 0.7133 - acc: 0.7305 - val_loss: 3.8763 - val_acc: 0.1743\n",
      "Epoch 194/200\n",
      "59/59 - 11s - loss: 0.7299 - acc: 0.7239 - val_loss: 4.0729 - val_acc: 0.1778\n",
      "Epoch 195/200\n",
      "59/59 - 12s - loss: 0.7518 - acc: 0.7155 - val_loss: 3.5170 - val_acc: 0.1466\n",
      "Epoch 196/200\n",
      "59/59 - 13s - loss: 0.7639 - acc: 0.7102 - val_loss: 3.7361 - val_acc: 0.1710\n",
      "Epoch 197/200\n",
      "59/59 - 13s - loss: 0.7381 - acc: 0.7188 - val_loss: 3.5166 - val_acc: 0.2205\n",
      "Epoch 198/200\n",
      "59/59 - 13s - loss: 0.7386 - acc: 0.7179 - val_loss: 3.2044 - val_acc: 0.2085\n",
      "Epoch 199/200\n",
      "59/59 - 14s - loss: 0.7619 - acc: 0.7100 - val_loss: 3.6732 - val_acc: 0.2023\n",
      "Epoch 200/200\n",
      "59/59 - 12s - loss: 0.8263 - acc: 0.6922 - val_loss: 3.6649 - val_acc: 0.2088\n"
     ]
    }
   ],
   "source": [
    "# Train\n",
    "try:\n",
    "    model_MLP_V2.load_weights('../models/MLP_V2_weight.h5')\n",
    "except:\n",
    "    print(\"new model_MLP_V2\")\n",
    "\n",
    "batch_size = 512\n",
    "epochs = 200\n",
    "\n",
    "train_history_2 = model_MLP_V2.fit(\n",
    "    x=train_data_oversample,y=train_label_oversample,\n",
    "    epochs=epochs,\n",
    "    batch_size = batch_size,\n",
    "    validation_split=0.2,\n",
    "    verbose=2, shuffle=True)"
   ]
  },
  {
   "cell_type": "code",
   "execution_count": 16,
   "metadata": {
    "pycharm": {
     "name": "#%%\n"
    }
   },
   "outputs": [],
   "source": [
    "model_MLP_V2.save_weights('../models/MLP_V2_weight.h5')\n",
    "model_MLP_V2.save('../models/MLP_V2.h5')"
   ]
  },
  {
   "cell_type": "markdown",
   "metadata": {},
   "source": [
    "# Model Evaluation"
   ]
  },
  {
   "cell_type": "code",
   "execution_count": 17,
   "metadata": {
    "pycharm": {
     "name": "#%%\n"
    }
   },
   "outputs": [],
   "source": [
    "def plot_model_accuracy(train_history, path):\n",
    "    plt.plot(train_history.history['acc'])\n",
    "    plt.plot(train_history.history['val_acc'])\n",
    "    plt.title('Model Accuracy')\n",
    "    plt.ylabel('accuracy')\n",
    "    plt.xlabel('epochs')\n",
    "    plt.legend(['train', 'validation'], loc = 'upper left')\n",
    "    plt.savefig(path)\n",
    "    plt.show()\n",
    "    \n",
    "def plot_model_loss(train_history, path):\n",
    "    plt.plot(train_history.history['loss'])\n",
    "    plt.plot(train_history.history['val_loss'])\n",
    "    plt.title(\"Model Loss\")\n",
    "    plt.ylabel('loss')\n",
    "    plt.xlabel('epochs')\n",
    "    plt.legend(['train', 'validation'], loc = 'upper left')\n",
    "    plt.savefig(path)\n",
    "    plt.show()"
   ]
  },
  {
   "cell_type": "code",
   "execution_count": 18,
   "metadata": {
    "pycharm": {
     "name": "#%%\n"
    }
   },
   "outputs": [
    {
     "name": "stdout",
     "output_type": "stream",
     "text": [
      "MLP V1\n"
     ]
    },
    {
     "data": {
      "image/png": "[encoded data removed]",
      "text/plain": [
       "<Figure size 432x288 with 1 Axes>"
      ]
     },
     "metadata": {
      "needs_background": "light"
     },
     "output_type": "display_data"
    },
    {
     "name": "stdout",
     "output_type": "stream",
     "text": [
      "MLP V2\n"
     ]
    },
    {
     "data": {
      "image/png": "[encoded data removed]",
      "text/plain": [
       "<Figure size 432x288 with 1 Axes>"
      ]
     },
     "metadata": {
      "needs_background": "light"
     },
     "output_type": "display_data"
    }
   ],
   "source": [
    "#plot train history\n",
    "print(\"MLP V1\")\n",
    "plot_model_accuracy(train_history,'../plots/MLP_V1_training_history.jpg')\n",
    "print(\"MLP V2\")\n",
    "plot_model_accuracy(train_history,'../plots/MLP_V2_training_history.jpg')"
   ]
  },
  {
   "cell_type": "code",
   "execution_count": 20,
   "metadata": {
    "pycharm": {
     "name": "#%%\n"
    }
   },
   "outputs": [
    {
     "name": "stdout",
     "output_type": "stream",
     "text": [
      "MLP V1\n"
     ]
    },
    {
     "data": {
      "image/png": "[encoded data removed]",
      "text/plain": [
       "<Figure size 432x288 with 1 Axes>"
      ]
     },
     "metadata": {
      "needs_background": "light"
     },
     "output_type": "display_data"
    },
    {
     "name": "stdout",
     "output_type": "stream",
     "text": [
      "MLP V2\n"
     ]
    },
    {
     "data": {
      "image/png": "[encoded data removed]",
      "text/plain": [
       "<Figure size 432x288 with 1 Axes>"
      ]
     },
     "metadata": {
      "needs_background": "light"
     },
     "output_type": "display_data"
    }
   ],
   "source": [
    "# plot loss\n",
    "print(\"MLP V1\")\n",
    "plot_model_loss(train_history, '../plots/MLP_V1_training_loss.jpg')\n",
    "print(\"MLP V2\")\n",
    "plot_model_loss(train_history, '../plots/MLP_V2_training_loss.jpg')"
   ]
  },
  {
   "cell_type": "code",
   "execution_count": 21,
   "metadata": {
    "pycharm": {
     "name": "#%%\n"
    }
   },
   "outputs": [
    {
     "name": "stdout",
     "output_type": "stream",
     "text": [
      "63/63 [==============================] - 1s 13ms/step - loss: 1.2031 - acc: 0.6965\n",
      "Test accuracy: 0.6964552998542786\n",
      "63/63 [==============================] - 1s 14ms/step - loss: 1.1744 - acc: 0.5272\n",
      "Test accuracy: 0.5272091627120972\n"
     ]
    }
   ],
   "source": [
    "#score\n",
    "score = model_MLP_V1.evaluate(test_data, test_label)\n",
    "print('Test accuracy:', score[1])\n",
    "\n",
    "score_2 = model_MLP_V2.evaluate(test_data, test_label)\n",
    "print('Test accuracy:', score_2[1])"
   ]
  },
  {
   "cell_type": "code",
   "execution_count": 22,
   "metadata": {
    "pycharm": {
     "name": "#%%\n"
    }
   },
   "outputs": [
    {
     "name": "stdout",
     "output_type": "stream",
     "text": [
      "MLP V1\n",
      "predicted  akiex  bcc  bkl  df  mel    nv  vasc\n",
      "actual                                         \n",
      "akiex         15   12   14   4   10    10     0\n",
      "bcc           18   42    8   4    7    20     4\n",
      "bkl           10    7  100   4   27    69     3\n",
      "df             5    5    4   3    0     6     0\n",
      "mel            7    7   37   2   59   109     2\n",
      "nv             8   16   76   4   70  1164     3\n",
      "vasc           0    3    2   1    3     7    12\n",
      "MLP V2\n",
      "predicted  akiex  bcc  bkl  df  mel   nv  vasc\n",
      "actual                                        \n",
      "akiex         15   10   22   4    9    5     0\n",
      "bcc           14   23   34  14   11    7     0\n",
      "bkl            6    5  139   2   51   17     0\n",
      "df             2    6    9   5    0    1     0\n",
      "mel            8    5   62   1  107   40     0\n",
      "nv            17   12  281   7  258  766     0\n",
      "vasc           1    6    1   2    7   10     1\n"
     ]
    }
   ],
   "source": [
    "#predictions\n",
    "print(\"MLP V1\")\n",
    "prediction = model_MLP_V1.predict(test_data)\n",
    "\n",
    "prediction_class = np.argmax(prediction,axis=1)\n",
    "prediction_label = np.argmax(test_label,axis=1)\n",
    "\n",
    "#confusion matrix\n",
    "mapping = lambda x:features_dict[x]\n",
    "pred_class_to_feature = np.array([mapping(x) for x in prediction_class])\n",
    "pred_label_to_feature = np.array([mapping(x) for x in prediction_label])\n",
    "#pred_label_to_feature = prediction_label.map(lambda x:features_dict[x])\n",
    "\n",
    "#confusion matrix\n",
    "print(pd.crosstab(pred_label_to_feature,pred_class_to_feature,rownames=['actual'],colnames=['predicted']))\n",
    "\n",
    "print(\"MLP V2\")\n",
    "prediction_2 = model_MLP_V2.predict(test_data)\n",
    "\n",
    "prediction_class_2 = np.argmax(prediction_2,axis=1)\n",
    "prediction_label_2 = np.argmax(test_label,axis=1)\n",
    "\n",
    "#confusion matrix\n",
    "mapping = lambda x:features_dict[x]\n",
    "pred_class_to_feature_2 = np.array([mapping(x) for x in prediction_class_2])\n",
    "pred_label_to_feature_2 = np.array([mapping(x) for x in prediction_label_2])\n",
    "#pred_label_to_feature = prediction_label.map(lambda x:features_dict[x])\n",
    "\n",
    "#confusion matrix\n",
    "print(pd.crosstab(pred_label_to_feature_2,pred_class_to_feature_2,rownames=['actual'],colnames=['predicted']))"
   ]
  }
 ],
 "metadata": {
  "kernelspec": {
   "display_name": "Python 3",
   "language": "python",
   "name": "python3"
  },
  "language_info": {
   "codemirror_mode": {
    "name": "ipython",
    "version": 3
   },
   "file_extension": ".py",
   "mimetype": "text/x-python",
   "name": "python",
   "nbconvert_exporter": "python",
   "pygments_lexer": "ipython3",
   "version": "3.8.5"
  }
 },
 "nbformat": 4,
 "nbformat_minor": 1
}
