{
 "cells": [
  {
   "cell_type": "markdown",
   "metadata": {
    "collapsed": true
   },
   "source": [
    "# In this notebook, we are going to implement custom CNN model to analysis the data\n",
    "\n",
    "# CNN V1 will use \"Class weight\" base on logarithm of the weights for the imbalance data\n",
    "\n",
    "# CNN V2 will use over sampling (SMOTE) for the imbalance data\n",
    "\n",
    "## https://en.wikipedia.org/wiki/Convolutional_neural_network\n"
   ]
  },
  {
   "cell_type": "code",
   "execution_count": 9,
   "metadata": {},
   "outputs": [],
   "source": [
    "import matplotlib.pyplot as plt\n",
    "import tensorflow as tf\n",
    "import numpy as np\n",
    "import os\n",
    "import pandas as pd\n",
    "from PIL import Image\n"
   ]
  },
  {
   "cell_type": "markdown",
   "source": [
    "# load metadata.csv"
   ],
   "metadata": {
    "collapsed": false,
    "pycharm": {
     "name": "#%% md\n"
    }
   }
  },
  {
   "cell_type": "code",
   "metadata": {
    "pycharm": {
     "name": "#%% read csv\n"
    }
   },
   "source": [
    "df = pd.read_csv('input/HAM10000_metadata.csv', delimiter=',')\n",
    "df.dataframeName = 'HAM10000_metadata.csv'"
   ],
   "execution_count": 10,
   "outputs": []
  },
  {
   "cell_type": "markdown",
   "source": [
    "# preprocess labels"
   ],
   "metadata": {
    "collapsed": false,
    "pycharm": {
     "name": "#%% md\n"
    }
   }
  },
  {
   "cell_type": "code",
   "execution_count": 11,
   "metadata": {
    "pycharm": {
     "name": "#%%\n"
    }
   },
   "outputs": [
    {
     "name": "stdout",
     "output_type": "stream",
     "text": [
      "['akiec', 'bcc', 'bkl', 'df', 'mel', 'nv', 'vasc']\n",
      "        lesion_id      image_id   dx    dx_type   age     sex  \\\n",
      "1745  HAM_0003495  ISIC_0032869  mel      histo  85.0    male   \n",
      "305   HAM_0005915  ISIC_0025656  bkl      histo  45.0    male   \n",
      "3854  HAM_0004310  ISIC_0027871   nv  follow_up  40.0  female   \n",
      "8044  HAM_0002606  ISIC_0033228   nv  consensus  25.0    male   \n",
      "3672  HAM_0004135  ISIC_0025634   nv  follow_up  45.0  female   \n",
      "\n",
      "         localization  label  \n",
      "1745             back      4  \n",
      "305              face      2  \n",
      "3854  lower extremity      5  \n",
      "8044          unknown      5  \n",
      "3672  upper extremity      5  \n"
     ]
    }
   ],
   "source": [
    "from sklearn.preprocessing import LabelEncoder\n",
    "label_encoder = LabelEncoder()\n",
    "label_encoder.fit(df['dx'])\n",
    "print(list(label_encoder.classes_))\n",
    "df['label'] = label_encoder.transform(df[\"dx\"])\n",
    "print(df.sample(5))"
   ]
  },
  {
   "cell_type": "markdown",
   "metadata": {
    "pycharm": {
     "name": "#%% md\n"
    }
   },
   "source": [
    "# features to label\n",
    "akiex -> 0\n",
    "bcc -> 1\n",
    "bkl -> 2\n",
    "df -> 3\n",
    "mel -> 4\n",
    "nv -> 5\n",
    "vasc -> 6"
   ]
  },
  {
   "cell_type": "code",
   "execution_count": 12,
   "outputs": [],
   "source": [
    "features_dict = {0:\"akiex\",1:\"bcc\",2:\"bkl\",3:\"df\",\n",
    "                 4:\"mel\",5:\"nv\",6:\"vasc\"}"
   ],
   "metadata": {
    "collapsed": false,
    "pycharm": {
     "name": "#%%\n"
    }
   }
  },
  {
   "cell_type": "markdown",
   "source": [
    "# Calculate Class Weight"
   ],
   "metadata": {
    "collapsed": false,
    "pycharm": {
     "name": "#%% md\n"
    }
   }
  },
  {
   "cell_type": "code",
   "execution_count": 13,
   "outputs": [
    {
     "name": "stdout",
     "output_type": "stream",
     "text": [
      "total number of data:  10015\n",
      "5    6705\n",
      "4    1113\n",
      "2    1099\n",
      "1     514\n",
      "0     327\n",
      "6     142\n",
      "3     115\n",
      "Name: label, dtype: int64\n",
      "5   1.0\n",
      "4   1.0\n",
      "2   1.0\n",
      "1   1.0237058335894402\n",
      "0   1.4759689281473518\n",
      "6   2.310102041443345\n",
      "3   2.520996970681355\n"
     ]
    }
   ],
   "source": [
    "import math\n",
    "total_data = 0\n",
    "num_classes = 7\n",
    "for num_of_data in df['label'].value_counts():\n",
    "    total_data+=num_of_data\n",
    "print(\"total number of data: \",total_data)\n",
    "print(df['label'].value_counts())\n",
    "#calc weight for each class\n",
    "class_weight ={}\n",
    "for index, value in df.label.value_counts().iteritems():\n",
    "    v1 = math.log(total_data/(float(value)*num_classes))\n",
    "    class_weight[index] = v1 if v1>1.0 else 1.0\n",
    "\n",
    "for i in class_weight:\n",
    "    print(i,\" \",class_weight[i])\n"
   ],
   "metadata": {
    "collapsed": false,
    "pycharm": {
     "name": "#%%\n"
    }
   }
  },
  {
   "cell_type": "markdown",
   "source": [
    "# Preprocess image"
   ],
   "metadata": {
    "collapsed": false,
    "pycharm": {
     "name": "#%% md\n"
    }
   }
  },
  {
   "cell_type": "code",
   "execution_count": 14,
   "outputs": [],
   "source": [
    "from glob import glob\n",
    "image_size = 32 #the size that the image will resize to\n",
    "image_path = {os.path.splitext(os.path.basename(x))[0]: x\n",
    "              for x in glob(os.path.join('input/','*','*.jpg'))}\n",
    "#image path\n",
    "df['path'] = df['image_id'].map(lambda id: image_path.get(id))"
   ],
   "metadata": {
    "collapsed": false,
    "pycharm": {
     "name": "#%%\n"
    }
   }
  },
  {
   "cell_type": "code",
   "execution_count": 15,
   "outputs": [],
   "source": [
    "#image_64 is the actual image(resized to 64x64) store in the dataframe\n",
    "#it takes time to process the image\n",
    "df['image_64'] = df['path'].map(lambda path:Image.open(path).resize((image_size,image_size)))"
   ],
   "metadata": {
    "collapsed": false,
    "pycharm": {
     "name": "#%%\n"
    }
   }
  },
  {
   "cell_type": "code",
   "execution_count": 16,
   "outputs": [
    {
     "data": {
      "text/plain": "<Figure size 432x288 with 10 Axes>",
      "image/png": "[encoded data removed]"
     },
     "metadata": {
      "needs_background": "light"
     },
     "output_type": "display_data"
    }
   ],
   "source": [
    "#print some image\n",
    "index = 1\n",
    "for image in df['image_64'].head(10):\n",
    "    plots = plt.subplot(2,5,index)\n",
    "    plots.imshow(image)\n",
    "    index+=1"
   ],
   "metadata": {
    "collapsed": false,
    "pycharm": {
     "name": "#%%\n"
    }
   }
  },
  {
   "cell_type": "markdown",
   "source": [
    "# Image to Array"
   ],
   "metadata": {
    "collapsed": false,
    "pycharm": {
     "name": "#%% md\n"
    }
   }
  },
  {
   "cell_type": "code",
   "execution_count": 17,
   "outputs": [],
   "source": [
    "from tensorflow.keras.utils import to_categorical\n",
    "from tensorflow.keras.models import Sequential\n",
    "from sklearn.model_selection import StratifiedShuffleSplit,train_test_split\n",
    "\n",
    "df['image'] = df['image_64'].map(lambda image: np.asarray(image))\n",
    "data = np.asarray(df['image'].to_list())\n",
    "#data = data.reshape(total_data,image_size*image_size*3).astype('float32')\n",
    "data = data/255.0 #normalise the RGB value to [0...1]\n",
    "label_to_one_hot = to_categorical(df['label'], num_classes=7)\n",
    "#80% data for training\n",
    "#20% data for testing\n",
    "import random\n",
    "train_data,test_data,train_label,test_label = train_test_split(data,label_to_one_hot,test_size=0.20,random_state=87,stratify=label_to_one_hot)"
   ],
   "metadata": {
    "collapsed": false,
    "pycharm": {
     "name": "#%%\n"
    }
   }
  },
  {
   "cell_type": "markdown",
   "source": [
    "# Setup CNN model V1"
   ],
   "metadata": {
    "collapsed": false,
    "pycharm": {
     "name": "#%% md\n"
    }
   },
   "execution_count": 17
  },
  {
   "cell_type": "code",
   "execution_count": 18,
   "outputs": [
    {
     "name": "stdout",
     "output_type": "stream",
     "text": [
      "Model: \"sequential\"\n",
      "_________________________________________________________________\n",
      "Layer (type)                 Output Shape              Param #   \n",
      "=================================================================\n",
      "conv2d (Conv2D)              (None, 32, 32, 32)        896       \n",
      "_________________________________________________________________\n",
      "dropout (Dropout)            (None, 32, 32, 32)        0         \n",
      "_________________________________________________________________\n",
      "conv2d_1 (Conv2D)            (None, 32, 32, 32)        9248      \n",
      "_________________________________________________________________\n",
      "max_pooling2d (MaxPooling2D) (None, 16, 16, 32)        0         \n",
      "_________________________________________________________________\n",
      "conv2d_2 (Conv2D)            (None, 16, 16, 64)        18496     \n",
      "_________________________________________________________________\n",
      "dropout_1 (Dropout)          (None, 16, 16, 64)        0         \n",
      "_________________________________________________________________\n",
      "conv2d_3 (Conv2D)            (None, 16, 16, 64)        36928     \n",
      "_________________________________________________________________\n",
      "max_pooling2d_1 (MaxPooling2 (None, 8, 8, 64)          0         \n",
      "_________________________________________________________________\n",
      "conv2d_4 (Conv2D)            (None, 8, 8, 128)         73856     \n",
      "_________________________________________________________________\n",
      "dropout_2 (Dropout)          (None, 8, 8, 128)         0         \n",
      "_________________________________________________________________\n",
      "conv2d_5 (Conv2D)            (None, 8, 8, 128)         147584    \n",
      "_________________________________________________________________\n",
      "max_pooling2d_2 (MaxPooling2 (None, 4, 4, 128)         0         \n",
      "_________________________________________________________________\n",
      "flatten (Flatten)            (None, 2048)              0         \n",
      "_________________________________________________________________\n",
      "dense (Dense)                (None, 2048)              4196352   \n",
      "_________________________________________________________________\n",
      "dropout_3 (Dropout)          (None, 2048)              0         \n",
      "_________________________________________________________________\n",
      "dense_1 (Dense)              (None, 1024)              2098176   \n",
      "_________________________________________________________________\n",
      "dropout_4 (Dropout)          (None, 1024)              0         \n",
      "_________________________________________________________________\n",
      "dense_2 (Dense)              (None, 7)                 7175      \n",
      "=================================================================\n",
      "Total params: 6,588,711\n",
      "Trainable params: 6,588,711\n",
      "Non-trainable params: 0\n",
      "_________________________________________________________________\n"
     ]
    }
   ],
   "source": [
    "from tensorflow.keras.layers import Dense, Dropout,Flatten,Conv2D,MaxPooling2D\n",
    "num_classes = 7\n",
    "dimension = image_size*image_size*3\n",
    "\n",
    "model_CNN_V1 = Sequential()\n",
    "\n",
    "#CNN layer 1:\n",
    "model_CNN_V1.add(Conv2D(filters=32,kernel_size=(3,3),input_shape=(image_size,image_size,3),activation='relu',padding='same'))\n",
    "model_CNN_V1.add(Dropout(0.1))\n",
    "model_CNN_V1.add(Conv2D(filters=32,kernel_size=(3,3),activation='relu',padding='same'))\n",
    "model_CNN_V1.add(MaxPooling2D(pool_size=(2,2)))\n",
    "\n",
    "#CNN layer 2\n",
    "model_CNN_V1.add(Conv2D(filters=64,kernel_size=(3,3),activation='relu',padding='same'))\n",
    "model_CNN_V1.add(Dropout(0.1))\n",
    "model_CNN_V1.add(Conv2D(filters=64,kernel_size=(3,3),activation='relu',padding='same'))\n",
    "model_CNN_V1.add(MaxPooling2D(pool_size=(2,2)))\n",
    "\n",
    "#CNN layer 3\n",
    "model_CNN_V1.add(Conv2D(filters=128,kernel_size=(3,3),activation='relu',padding='same'))\n",
    "model_CNN_V1.add(Dropout(0.1))\n",
    "model_CNN_V1.add(Conv2D(filters=128,kernel_size=(3,3),activation='relu',padding='same'))\n",
    "model_CNN_V1.add(MaxPooling2D(pool_size=(2,2)))\n",
    "\n",
    "#Flatten layer\n",
    "model_CNN_V1.add(Flatten())\n",
    "\n",
    "#hidden layer 1\n",
    "model_CNN_V1.add(Dense(2048,activation='relu'))\n",
    "model_CNN_V1.add(Dropout(0.2))\n",
    "\n",
    "#hidden layer 2\n",
    "model_CNN_V1.add(Dense(1024,activation='relu'))\n",
    "model_CNN_V1.add(Dropout(0.2))\n",
    "\n",
    "#output layer\n",
    "model_CNN_V1.add(Dense(7,activation='softmax'))\n",
    "model_CNN_V1.summary()\n",
    "\n",
    "model_CNN_V1.compile(loss='categorical_crossentropy', optimizer='Adam', metrics=['acc'])"
   ],
   "metadata": {
    "collapsed": false,
    "pycharm": {
     "name": "#%%\n"
    }
   }
  },
  {
   "cell_type": "markdown",
   "source": [
    "# Train CNN V1"
   ],
   "metadata": {
    "collapsed": false,
    "pycharm": {
     "name": "#%% md\n"
    }
   }
  },
  {
   "cell_type": "code",
   "execution_count": 19,
   "outputs": [
    {
     "name": "stdout",
     "output_type": "stream",
     "text": [
      "WARNING:tensorflow:From C:\\Users\\andre\\anaconda3\\envs\\cmpt340_conda\\lib\\site-packages\\tensorflow\\python\\ops\\array_ops.py:5043: calling gather (from tensorflow.python.ops.array_ops) with validate_indices is deprecated and will be removed in a future version.\n",
      "Instructions for updating:\n",
      "The `validate_indices` argument has no effect. Indices are always validated on CPU and never validated on GPU.\n",
      "Epoch 1/5\n",
      "26/26 - 4s - loss: 1.0942 - acc: 0.6787 - val_loss: 0.9911 - val_acc: 0.6619\n",
      "Epoch 2/5\n",
      "26/26 - 0s - loss: 1.0558 - acc: 0.6823 - val_loss: 0.9513 - val_acc: 0.6594\n",
      "Epoch 3/5\n",
      "26/26 - 0s - loss: 1.0464 - acc: 0.6862 - val_loss: 0.9474 - val_acc: 0.6625\n",
      "Epoch 4/5\n",
      "26/26 - 0s - loss: 1.0082 - acc: 0.6875 - val_loss: 0.8900 - val_acc: 0.6675\n",
      "Epoch 5/5\n",
      "26/26 - 0s - loss: 0.9868 - acc: 0.6876 - val_loss: 0.8730 - val_acc: 0.6706\n"
     ]
    }
   ],
   "source": [
    "try:\n",
    "    model_CNN_V1.load_weights('model/CNN_weight.h5')\n",
    "except:\n",
    "    print(\"new model_CNN_V1\")\n",
    "\n",
    "batch_size = 256\n",
    "epochs = 5\n",
    "\n",
    "train_history = model_CNN_V1.fit(\n",
    "    train_data,train_label,\n",
    "    epochs=epochs,\n",
    "    validation_split=0.2,\n",
    "    batch_size=batch_size,\n",
    "    verbose=2,class_weight=class_weight)\n",
    "model_CNN_V1.save_weights('model/CNN_weight.h5')"
   ],
   "metadata": {
    "collapsed": false,
    "pycharm": {
     "name": "#%%\n"
    }
   }
  },
  {
   "cell_type": "markdown",
   "source": [
    "# Applying Over Sampling"
   ],
   "metadata": {
    "collapsed": false,
    "pycharm": {
     "name": "#%% md\n"
    }
   }
  },
  {
   "cell_type": "code",
   "execution_count": 20,
   "outputs": [
    {
     "name": "stderr",
     "output_type": "stream",
     "text": [
      "C:\\Users\\andre\\anaconda3\\envs\\cmpt340_conda\\lib\\site-packages\\sklearn\\utils\\validation.py:70: FutureWarning: Pass classes=[0 1 2 3 4 5 6] as keyword args. From version 1.0 (renaming of 0.25) passing these as positional arguments will result in an error\n",
      "  warnings.warn(f\"Pass {args_msg} as keyword args. From version \"\n"
     ]
    }
   ],
   "source": [
    "from imblearn.over_sampling import SMOTE\n",
    "smote_sample = SMOTE(random_state=87)\n",
    "train_data = train_data.reshape(-1,image_size*image_size*3)\n",
    "train_data_oversample, train_label_oversample = smote_sample.fit_resample(train_data, train_label)\n",
    "train_data_oversample = train_data_oversample.reshape(-1,image_size,image_size,3)\n",
    "train_data = train_data.reshape(-1,image_size,image_size,3)"
   ],
   "metadata": {
    "collapsed": false,
    "pycharm": {
     "name": "#%%\n"
    }
   }
  },
  {
   "cell_type": "markdown",
   "source": [
    "# Setup CNN Model V2"
   ],
   "metadata": {
    "collapsed": false,
    "pycharm": {
     "name": "#%% md\n"
    }
   }
  },
  {
   "cell_type": "code",
   "execution_count": 21,
   "outputs": [
    {
     "name": "stdout",
     "output_type": "stream",
     "text": [
      "Model: \"sequential_1\"\n",
      "_________________________________________________________________\n",
      "Layer (type)                 Output Shape              Param #   \n",
      "=================================================================\n",
      "conv2d_6 (Conv2D)            (None, 32, 32, 32)        896       \n",
      "_________________________________________________________________\n",
      "dropout_5 (Dropout)          (None, 32, 32, 32)        0         \n",
      "_________________________________________________________________\n",
      "conv2d_7 (Conv2D)            (None, 32, 32, 32)        9248      \n",
      "_________________________________________________________________\n",
      "max_pooling2d_3 (MaxPooling2 (None, 16, 16, 32)        0         \n",
      "_________________________________________________________________\n",
      "conv2d_8 (Conv2D)            (None, 16, 16, 64)        18496     \n",
      "_________________________________________________________________\n",
      "dropout_6 (Dropout)          (None, 16, 16, 64)        0         \n",
      "_________________________________________________________________\n",
      "conv2d_9 (Conv2D)            (None, 16, 16, 64)        36928     \n",
      "_________________________________________________________________\n",
      "max_pooling2d_4 (MaxPooling2 (None, 8, 8, 64)          0         \n",
      "_________________________________________________________________\n",
      "conv2d_10 (Conv2D)           (None, 8, 8, 128)         73856     \n",
      "_________________________________________________________________\n",
      "dropout_7 (Dropout)          (None, 8, 8, 128)         0         \n",
      "_________________________________________________________________\n",
      "conv2d_11 (Conv2D)           (None, 8, 8, 128)         147584    \n",
      "_________________________________________________________________\n",
      "max_pooling2d_5 (MaxPooling2 (None, 4, 4, 128)         0         \n",
      "_________________________________________________________________\n",
      "flatten_1 (Flatten)          (None, 2048)              0         \n",
      "_________________________________________________________________\n",
      "dropout_8 (Dropout)          (None, 2048)              0         \n",
      "_________________________________________________________________\n",
      "dense_3 (Dense)              (None, 2048)              4196352   \n",
      "_________________________________________________________________\n",
      "dropout_9 (Dropout)          (None, 2048)              0         \n",
      "_________________________________________________________________\n",
      "dense_4 (Dense)              (None, 1024)              2098176   \n",
      "_________________________________________________________________\n",
      "dropout_10 (Dropout)         (None, 1024)              0         \n",
      "_________________________________________________________________\n",
      "dense_5 (Dense)              (None, 7)                 7175      \n",
      "=================================================================\n",
      "Total params: 6,588,711\n",
      "Trainable params: 6,588,711\n",
      "Non-trainable params: 0\n",
      "_________________________________________________________________\n"
     ]
    }
   ],
   "source": [
    "from tensorflow.keras.models import Sequential\n",
    "from tensorflow.keras.layers import Dense,Dropout,Flatten,Conv2D,MaxPooling2D,BatchNormalization\n",
    "num_classes = 7\n",
    "dimension = image_size*image_size*3\n",
    "\n",
    "model_CNN_V2 = Sequential()\n",
    "\n",
    "#CNN layer 1:\n",
    "model_CNN_V2.add(Conv2D(filters=32,kernel_size=(3,3),input_shape=(image_size,image_size,3),activation='relu',padding='same'))\n",
    "model_CNN_V2.add(Dropout(0.2))\n",
    "model_CNN_V2.add(Conv2D(filters=32,kernel_size=(3,3),activation='relu',padding='same'))\n",
    "model_CNN_V2.add(MaxPooling2D(pool_size=(2,2)))\n",
    "\n",
    "#CNN layer 2\n",
    "model_CNN_V2.add(Conv2D(filters=64,kernel_size=(3,3),activation='relu',padding='same'))\n",
    "model_CNN_V2.add(Dropout(0.2))\n",
    "model_CNN_V2.add(Conv2D(filters=64,kernel_size=(3,3),activation='relu',padding='same'))\n",
    "model_CNN_V2.add(MaxPooling2D(pool_size=(2,2)))\n",
    "\n",
    "#CNN layer 3\n",
    "model_CNN_V2.add(Conv2D(filters=128,kernel_size=(3,3),activation='relu',padding='same'))\n",
    "model_CNN_V2.add(Dropout(0.2))\n",
    "model_CNN_V2.add(Conv2D(filters=128,kernel_size=(3,3),activation='relu',padding='same'))\n",
    "model_CNN_V2.add(MaxPooling2D(pool_size=(2,2)))\n",
    "\n",
    "#Flatten layer\n",
    "model_CNN_V2.add(Flatten())\n",
    "model_CNN_V2.add(Dropout(0.4))\n",
    "\n",
    "#hidden layer 1\n",
    "model_CNN_V2.add(Dense(2048,activation='relu'))\n",
    "model_CNN_V2.add(Dropout(0.4))\n",
    "\n",
    "#hidden layer 2\n",
    "model_CNN_V2.add(Dense(1024,activation='relu'))\n",
    "model_CNN_V2.add(Dropout(0.4))\n",
    "\n",
    "#output layer\n",
    "model_CNN_V2.add(Dense(7,activation='softmax'))\n",
    "model_CNN_V2.summary()\n",
    "\n",
    "model_CNN_V2.compile(loss='categorical_crossentropy', optimizer='Adam', metrics=['acc'])\n"
   ],
   "metadata": {
    "collapsed": false,
    "pycharm": {
     "name": "#%%\n"
    }
   }
  },
  {
   "cell_type": "markdown",
   "source": [
    "# Train CNN V2"
   ],
   "metadata": {
    "collapsed": false,
    "pycharm": {
     "name": "#%% md\n"
    }
   }
  },
  {
   "cell_type": "code",
   "execution_count": 22,
   "outputs": [
    {
     "name": "stdout",
     "output_type": "stream",
     "text": [
      "Epoch 1/5\n",
      "118/118 - 3s - loss: 0.6238 - acc: 0.7704 - val_loss: 1.5913 - val_acc: 0.4977\n",
      "Epoch 2/5\n",
      "118/118 - 2s - loss: 0.4279 - acc: 0.8378 - val_loss: 1.4472 - val_acc: 0.5374\n",
      "Epoch 3/5\n",
      "118/118 - 2s - loss: 0.3689 - acc: 0.8608 - val_loss: 0.9908 - val_acc: 0.6883\n",
      "Epoch 4/5\n",
      "118/118 - 2s - loss: 0.3283 - acc: 0.8780 - val_loss: 1.0940 - val_acc: 0.6337\n",
      "Epoch 5/5\n",
      "118/118 - 2s - loss: 0.2793 - acc: 0.8938 - val_loss: 0.5905 - val_acc: 0.8121\n"
     ]
    }
   ],
   "source": [
    "try:\n",
    "    model_CNN_V2.load_weights('model/CNN_V2_weight.h5')\n",
    "except:\n",
    "    print(\"new model_CNN_V2\")\n",
    "\n",
    "# Train\n",
    "batch_size = 256\n",
    "epochs = 5\n",
    "\n",
    "train_history_2 = model_CNN_V2.fit(\n",
    "    train_data_oversample,train_label_oversample,\n",
    "    epochs=epochs,\n",
    "    batch_size= batch_size,\n",
    "    validation_split=0.2,\n",
    "    verbose=2,shuffle=True)\n",
    "\n",
    "model_CNN_V2.save_weights('model/CNN_V2_weight.h5')"
   ],
   "metadata": {
    "collapsed": false,
    "pycharm": {
     "name": "#%%\n"
    }
   }
  },
  {
   "cell_type": "code",
   "execution_count": 23,
   "outputs": [],
   "source": [
    "def plot_train_history(t_history, train,validation):\n",
    "    plt.plot(t_history.history[train])\n",
    "    plt.plot(t_history.history[validation])\n",
    "    plt.title(\"train_history\")\n",
    "    plt.ylabel(train)\n",
    "    plt.xlabel(\"epochs\")\n",
    "    plt.legend(['train','validation'],loc='upper left')\n",
    "    plt.show()"
   ],
   "metadata": {
    "collapsed": false,
    "pycharm": {
     "name": "#%%\n"
    }
   }
  },
  {
   "cell_type": "markdown",
   "source": [
    "# Train History"
   ],
   "metadata": {
    "collapsed": false,
    "pycharm": {
     "name": "#%% md\n"
    }
   }
  },
  {
   "cell_type": "code",
   "execution_count": 24,
   "outputs": [
    {
     "data": {
      "text/plain": "<Figure size 432x288 with 1 Axes>",
      "image/png": "[encoded data removed]"
     },
     "metadata": {
      "needs_background": "light"
     },
     "output_type": "display_data"
    },
    {
     "data": {
      "text/plain": "<Figure size 432x288 with 1 Axes>",
      "image/png": "[encoded data removed]"
     },
     "metadata": {
      "needs_background": "light"
     },
     "output_type": "display_data"
    }
   ],
   "source": [
    "#plot train history\n",
    "print(\"V1\")\n",
    "plot_train_history(train_history,'acc','val_acc')\n",
    "print(\"V2\")\n",
    "plot_train_history(train_history_2,'acc','val_acc')"
   ],
   "metadata": {
    "collapsed": false,
    "pycharm": {
     "name": "#%%\n"
    }
   }
  },
  {
   "cell_type": "markdown",
   "source": [
    "# Loss"
   ],
   "metadata": {
    "collapsed": false,
    "pycharm": {
     "name": "#%% md\n"
    }
   }
  },
  {
   "cell_type": "code",
   "execution_count": 25,
   "outputs": [
    {
     "data": {
      "text/plain": "<Figure size 432x288 with 1 Axes>",
      "image/png": "[encoded data removed]"
     },
     "metadata": {
      "needs_background": "light"
     },
     "output_type": "display_data"
    },
    {
     "data": {
      "text/plain": "<Figure size 432x288 with 1 Axes>",
      "image/png": "[encoded data removed]"
     },
     "metadata": {
      "needs_background": "light"
     },
     "output_type": "display_data"
    }
   ],
   "source": [
    "print(\"V1\")\n",
    "plot_train_history(train_history,'loss','val_loss')\n",
    "print(\"V2\")\n",
    "plot_train_history(train_history_2,'loss','val_loss')"
   ],
   "metadata": {
    "collapsed": false,
    "pycharm": {
     "name": "#%%\n"
    }
   }
  },
  {
   "cell_type": "markdown",
   "source": [
    "# Prediction score"
   ],
   "metadata": {
    "collapsed": false,
    "pycharm": {
     "name": "#%% md\n"
    }
   }
  },
  {
   "cell_type": "code",
   "execution_count": 26,
   "outputs": [
    {
     "name": "stdout",
     "output_type": "stream",
     "text": [
      "63/63 [==============================] - 0s 5ms/step - loss: 0.8437 - acc: 0.6870\b\b\b\b\b\b\b\b\b\b\b\b\b\b\b\b\b\b\b\b\b\b\b\b\b\b\b\b\b\b\b\b\b\b\b\b\b\b\b\b\b\b\b\b\b\b\b\b\b\b\b\b\b\b\b\b\b\b\b\b\b\b\b\b\b\b\b\b\b\b\b\b\b\b\b\b\b\b\b\b\b\b\b\b\b\b\b\b\b\b\b\b\b\b\b\b\b\b\b\b\b\b\b\b\b\b\b\b\b\b\b\b\b\b\b\b\b\b\b\b\b\b\b\b\b\b\b\b\b\b\b\b\b\b\b\b\b\b\b\b\b\b\b\b\b\b\b\b\b\b\b\b\b\b\b\b\b\b\b\b\b\b\b\b\b\b\b\b\b\b\b\b\b\b\b\b\b\b\b\b\b\b\b\b\b\b\b\b\b\b\b\b\b\b\b\b\b\b\b\b\b\b\b\b\b\b\b\b\b\b\b\b\b\b\b\b\b\b\b\b\b\b\b\b\b\b\b\b\b\b\b\b\b\b\b\b\b\b\b\b\b\b\b\b\b\b\b\b\b\b\b\b\b\b\b\b\b\b\b\b\b\b\b\b\b\b\b\b\b\b\b\b\b\b\b\b\b\b\b\b\b\b\b\b\b\b\b\b\b\b\b\b\b\b\b\b\b\b\b\b\b\b\b\b\b\b\b\b\b\b\b\b\b\b\b\b\b\b\b\b\b\b\b\b\b\b\b\b\b\b\b\b\b\b\b\b\b\b\b\b\b\b\b\b\b\b\b\b\b\b\b\b\b\b\b\b\b\b\b\b\b\b\b\b\b\b\b\b\b\b\b\b\b\b\b\b\b\b\b\b\b\b\b\b\b\b\b\b\b\b\b\b\b\b\b\b\b\b\b\b\b\b\b\b\b\b\b\b\b\b\b\b\b\b\b\b\b\b\b\b\b\b\b\b\b\b\b\b\b\b\b\b\b\b\b\b\b\b\b\b\b\b\b\b\b\b\b\b\b\b\b\b\b\b\b\b\b\b\n",
      "Test accuracy for CNN V1: 0.686969518661499\n",
      "63/63 [==============================] - 0s 3ms/step - loss: 1.0504 - acc: 0.6525\b\b\b\b\b\b\b\b\b\b\b\b\b\b\b\b\b\b\b\b\b\b\b\b\b\b\b\b\b\b\b\b\b\b\b\b\b\b\b\b\b\b\b\b\b\b\b\b\b\b\b\b\b\b\b\b\b\b\b\b\b\b\b\b\b\b\b\b\b\b\b\b\b\b\b\b\b\b\b\b\b\b\b\b\b\b\b\b\b\b\b\b\b\b\b\b\b\b\b\b\b\b\b\b\b\b\b\b\b\b\b\b\b\b\b\b\b\b\b\b\b\b\b\b\b\b\b\b\b\b\b\b\b\b\b\b\b\b\b\b\b\b\b\b\b\b\b\b\b\b\b\b\b\b\b\b\b\b\b\b\b\b\b\b\b\b\b\b\b\b\b\b\b\b\b\b\b\b\b\b\b\b\b\b\b\b\b\b\b\b\b\b\b\b\b\b\b\b\b\b\b\b\b\b\b\b\b\b\b\b\b\b\b\b\b\b\b\b\b\b\b\b\b\b\b\b\b\b\b\b\b\b\b\b\b\b\b\b\b\b\b\b\b\b\b\b\b\b\b\b\b\b\b\b\b\b\b\b\b\b\b\b\b\b\b\b\b\b\b\b\b\b\b\b\b\b\b\b\b\b\b\b\b\b\b\b\b\b\b\b\b\b\b\b\b\b\b\b\b\b\b\b\b\b\b\b\b\b\b\b\b\b\b\b\b\b\b\b\b\b\b\b\b\b\b\b\b\b\b\b\b\b\b\b\b\b\b\b\b\b\b\b\b\b\b\b\b\b\b\b\b\b\b\b\b\b\b\b\b\b\b\b\b\b\b\b\b\b\b\b\b\b\b\b\b\b\b\b\b\b\b\n",
      "Test accuracy: for CNN V2 0.6525211930274963\n"
     ]
    }
   ],
   "source": [
    "#score\n",
    "score = model_CNN_V1.evaluate(test_data, test_label)\n",
    "print('Test accuracy for CNN V1:', score[1])\n",
    "\n",
    "#score\n",
    "score2 = model_CNN_V2.evaluate(test_data, test_label)\n",
    "print('Test accuracy: for CNN V2', score2[1])"
   ],
   "metadata": {
    "collapsed": false,
    "pycharm": {
     "name": "#%%\n"
    }
   }
  },
  {
   "cell_type": "markdown",
   "source": [
    "# Confusion Matrix"
   ],
   "metadata": {
    "collapsed": false,
    "pycharm": {
     "name": "#%% md\n"
    }
   }
  },
  {
   "cell_type": "code",
   "execution_count": 27,
   "outputs": [
    {
     "name": "stdout",
     "output_type": "stream",
     "text": [
      "confusion matrix for CNN V1\n",
      "predicted  bkl  mel    nv\n",
      "actual                   \n",
      "akiex       28    0    37\n",
      "bcc         45    0    58\n",
      "bkl         70    1   149\n",
      "df          10    0    13\n",
      "mel         21    3   199\n",
      "nv          38    0  1303\n",
      "vasc         4    0    24\n",
      "confusion matrix for CNN V2\n",
      "predicted  akiex  bcc  bkl  df  mel   nv  vasc\n",
      "actual                                        \n",
      "akiex         20    8   14   1   19    3     0\n",
      "bcc           11   38   18   2   23    8     3\n",
      "bkl            7    2  135   1   60   15     0\n",
      "df             2    6    5   6    0    4     0\n",
      "mel            1    0   36   1  150   35     0\n",
      "nv             7   11  160   4  214  943     2\n",
      "vasc           0    1    1   0    4    7    15\n"
     ]
    }
   ],
   "source": [
    "#predictions\n",
    "print(\"confusion matrix for CNN V1\")\n",
    "prediction = model_CNN_V1.predict(test_data)\n",
    "\n",
    "prediction_class = np.argmax(prediction,axis=1)\n",
    "prediction_label = np.argmax(test_label,axis=1)\n",
    "\n",
    "#confusion matrix\n",
    "mapping = lambda x:features_dict[x]\n",
    "pred_class_to_feature = np.array([mapping(x) for x in prediction_class])\n",
    "pred_label_to_feature = np.array([mapping(x) for x in prediction_label])\n",
    "#pred_label_to_feature = prediction_label.map(lambda x:features_dict[x])\n",
    "\n",
    "#confusion matrix\n",
    "print(pd.crosstab(pred_label_to_feature,pred_class_to_feature,rownames=['actual'],colnames=['predicted']))\n",
    "\n",
    "#predictions\n",
    "\n",
    "print(\"confusion matrix for CNN V2\")\n",
    "prediction_2 = model_CNN_V2.predict(test_data)\n",
    "\n",
    "prediction_class_2 = np.argmax(prediction_2,axis=1)\n",
    "prediction_label_2 = np.argmax(test_label,axis=1)\n",
    "\n",
    "#confusion matrix\n",
    "mapping = lambda x:features_dict[x]\n",
    "pred_class_to_feature_2 = np.array([mapping(x) for x in prediction_class_2])\n",
    "pred_label_to_feature_2 = np.array([mapping(x) for x in prediction_label_2])\n",
    "#pred_label_to_feature = prediction_label.map(lambda x:features_dict[x])\n",
    "\n",
    "#confusion matrix\n",
    "print(pd.crosstab(pred_label_to_feature_2,pred_class_to_feature_2,rownames=['actual'],colnames=['predicted']))\n"
   ],
   "metadata": {
    "collapsed": false,
    "pycharm": {
     "name": "#%%\n"
    }
   }
  }
 ],
 "metadata": {
  "kernelspec": {
   "display_name": "Python 3",
   "language": "python",
   "name": "python3"
  },
  "language_info": {
   "codemirror_mode": {
    "name": "ipython",
    "version": 3
   },
   "file_extension": ".py",
   "mimetype": "text/x-python",
   "name": "python",
   "nbconvert_exporter": "python",
   "pygments_lexer": "ipython3",
   "version": "3.9.4"
  }
 },
 "nbformat": 4,
 "nbformat_minor": 1
}