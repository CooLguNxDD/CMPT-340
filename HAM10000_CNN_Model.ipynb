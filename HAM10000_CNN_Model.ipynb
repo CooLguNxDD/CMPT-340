{
 "cells": [
  {
   "cell_type": "markdown",
   "metadata": {
    "collapsed": true
   },
   "source": [
    "# In this notebook, we are going to implement CNN model to analysis the data\n",
    "## https://en.wikipedia.org/wiki/Multilayer_perceptron\n"
   ]
  },
  {
   "cell_type": "code",
   "execution_count": 1,
   "metadata": {},
   "outputs": [],
   "source": [
    "import matplotlib.pyplot as plt\n",
    "import tensorflow as tf\n",
    "import numpy as np\n",
    "import os\n",
    "import pandas as pd\n",
    "from PIL import Image\n"
   ]
  },
  {
   "cell_type": "code",
   "metadata": {
    "pycharm": {
     "name": "#%% read csv\n"
    }
   },
   "source": [
    "df = pd.read_csv('input/HAM10000_metadata.csv', delimiter=',')\n",
    "df.dataframeName = 'HAM10000_metadata.csv'"
   ],
   "execution_count": 2,
   "outputs": []
  },
  {
   "cell_type": "code",
   "execution_count": 3,
   "metadata": {
    "pycharm": {
     "name": "#%%\n"
    }
   },
   "outputs": [
    {
     "name": "stdout",
     "output_type": "stream",
     "text": [
      "['akiec', 'bcc', 'bkl', 'df', 'mel', 'nv', 'vasc']\n",
      "        lesion_id      image_id   dx    dx_type   age     sex  \\\n",
      "906   HAM_0001991  ISIC_0028347  bkl  consensus  80.0    male   \n",
      "8841  HAM_0006596  ISIC_0031081   nv      histo  35.0    male   \n",
      "6205  HAM_0001075  ISIC_0028743   nv  follow_up  30.0  female   \n",
      "1226  HAM_0003832  ISIC_0024586  mel      histo  60.0  female   \n",
      "3846  HAM_0007201  ISIC_0026208   nv  follow_up  50.0    male   \n",
      "\n",
      "         localization  label  \n",
      "906   upper extremity      2  \n",
      "8841             back      5  \n",
      "6205             back      5  \n",
      "1226  lower extremity      4  \n",
      "3846  lower extremity      5  \n"
     ]
    }
   ],
   "source": [
    "#preprocess labels\n",
    "from sklearn.preprocessing import LabelEncoder\n",
    "label_encoder = LabelEncoder()\n",
    "label_encoder.fit(df['dx'])\n",
    "print(list(label_encoder.classes_))\n",
    "df['label'] = label_encoder.transform(df[\"dx\"])\n",
    "print(df.sample(5))"
   ]
  },
  {
   "cell_type": "markdown",
   "metadata": {
    "pycharm": {
     "name": "#%% md\n"
    }
   },
   "source": [
    "# features to label\n",
    "akiex -> 0\n",
    "bcc -> 1\n",
    "bkl -> 2\n",
    "df -> 3\n",
    "mel -> 4\n",
    "nv -> 5\n",
    "vasc -> 6"
   ]
  },
  {
   "cell_type": "code",
   "execution_count": 4,
   "outputs": [],
   "source": [
    "features_dict = {0:\"akiex\",1:\"bcc\",2:\"bkl\",3:\"df\",\n",
    "                 4:\"mel\",5:\"nv\",6:\"vasc\"}"
   ],
   "metadata": {
    "collapsed": false,
    "pycharm": {
     "name": "#%%\n"
    }
   }
  },
  {
   "cell_type": "code",
   "execution_count": 33,
   "outputs": [
    {
     "name": "stdout",
     "output_type": "stream",
     "text": [
      "total number of data:  10015\n",
      "5    6705\n",
      "4    1113\n",
      "2    1099\n",
      "1     514\n",
      "0     327\n",
      "6     142\n",
      "3     115\n",
      "Name: label, dtype: int64\n",
      "5   1.0\n",
      "4   1.0\n",
      "2   1.0\n",
      "1   1.0237058335894402\n",
      "0   1.4759689281473518\n",
      "6   2.310102041443345\n",
      "3   2.520996970681355\n"
     ]
    }
   ],
   "source": [
    "import math\n",
    "#assign weight\n",
    "#sum of the data\n",
    "total_data = 0\n",
    "num_classes = 7\n",
    "for num_of_data in df['label'].value_counts():\n",
    "    total_data+=num_of_data\n",
    "print(\"total number of data: \",total_data)\n",
    "print(df['label'].value_counts())\n",
    "#calc weight for each class\n",
    "class_weight ={}\n",
    "for index, value in df.label.value_counts().iteritems():\n",
    "    v1 = math.log(total_data/(float(value)*num_classes))\n",
    "    class_weight[index] = v1 if v1>1.0 else 1.0\n",
    "\n",
    "for i in class_weight:\n",
    "    print(i,\" \",class_weight[i])\n"
   ],
   "metadata": {
    "collapsed": false,
    "pycharm": {
     "name": "#%%\n"
    }
   }
  },
  {
   "cell_type": "code",
   "execution_count": 6,
   "outputs": [],
   "source": [
    "from glob import glob\n",
    "image_size = 32 #the size that the image will resize to\n",
    "image_path = {os.path.splitext(os.path.basename(x))[0]: x\n",
    "              for x in glob(os.path.join('input/','*','*.jpg'))}\n",
    "#image path\n",
    "df['path'] = df['image_id'].map(lambda id: image_path.get(id))"
   ],
   "metadata": {
    "collapsed": false,
    "pycharm": {
     "name": "#%% preprocess image\n"
    }
   }
  },
  {
   "cell_type": "code",
   "execution_count": 7,
   "outputs": [],
   "source": [
    "#image_64 is the actual image(resized to 64x64) store in the dataframe\n",
    "#it takes time to process the image\n",
    "df['image_64'] = df['path'].map(lambda path:Image.open(path).resize((image_size,image_size)))"
   ],
   "metadata": {
    "collapsed": false,
    "pycharm": {
     "name": "#%%\n"
    }
   }
  },
  {
   "cell_type": "code",
   "execution_count": 8,
   "outputs": [
    {
     "data": {
      "text/plain": "<Figure size 432x288 with 10 Axes>",
      "image/png": "[encoded data removed]"
     },
     "metadata": {
      "needs_background": "light"
     },
     "output_type": "display_data"
    }
   ],
   "source": [
    "#print some image\n",
    "index = 1\n",
    "for image in df['image_64'].head(10):\n",
    "    plots = plt.subplot(2,5,index)\n",
    "    plots.imshow(image)\n",
    "    index+=1"
   ],
   "metadata": {
    "collapsed": false,
    "pycharm": {
     "name": "#%%\n"
    }
   }
  },
  {
   "cell_type": "code",
   "execution_count": 51,
   "outputs": [],
   "source": [
    "#image to array\n",
    "from tensorflow import keras\n",
    "from tensorflow.keras.utils import to_categorical\n",
    "from tensorflow.keras.models import Sequential\n",
    "from sklearn.model_selection import StratifiedShuffleSplit,train_test_split\n",
    "\n",
    "df['image'] = df['image_64'].map(lambda image: np.asarray(image))\n",
    "data = np.asarray(df['image'].to_list())\n",
    "#data = data.reshape(total_data,image_size*image_size*3).astype('float32')\n",
    "data = data/255.0 #normalise the RGB value to [0...1]\n",
    "label_to_one_hot = to_categorical(df['label'], num_classes=7)\n",
    "#80% data for training\n",
    "#20% data for testing\n",
    "import random\n",
    "train_data,test_data,train_label,test_label = train_test_split(data,label_to_one_hot,test_size=0.20,random_state=random.randint(1,99),stratify=label_to_one_hot)"
   ],
   "metadata": {
    "collapsed": false,
    "pycharm": {
     "name": "#%%\n"
    }
   }
  },
  {
   "cell_type": "code",
   "execution_count": 52,
   "outputs": [
    {
     "name": "stdout",
     "output_type": "stream",
     "text": [
      "Model: \"sequential_5\"\n",
      "_________________________________________________________________\n",
      "Layer (type)                 Output Shape              Param #   \n",
      "=================================================================\n",
      "conv2d_38 (Conv2D)           (None, 32, 32, 32)        896       \n",
      "_________________________________________________________________\n",
      "dropout_34 (Dropout)         (None, 32, 32, 32)        0         \n",
      "_________________________________________________________________\n",
      "conv2d_39 (Conv2D)           (None, 32, 32, 32)        9248      \n",
      "_________________________________________________________________\n",
      "max_pooling2d_19 (MaxPooling (None, 16, 16, 32)        0         \n",
      "_________________________________________________________________\n",
      "conv2d_40 (Conv2D)           (None, 16, 16, 64)        18496     \n",
      "_________________________________________________________________\n",
      "dropout_35 (Dropout)         (None, 16, 16, 64)        0         \n",
      "_________________________________________________________________\n",
      "conv2d_41 (Conv2D)           (None, 16, 16, 64)        36928     \n",
      "_________________________________________________________________\n",
      "max_pooling2d_20 (MaxPooling (None, 8, 8, 64)          0         \n",
      "_________________________________________________________________\n",
      "conv2d_42 (Conv2D)           (None, 8, 8, 128)         73856     \n",
      "_________________________________________________________________\n",
      "dropout_36 (Dropout)         (None, 8, 8, 128)         0         \n",
      "_________________________________________________________________\n",
      "conv2d_43 (Conv2D)           (None, 8, 8, 128)         147584    \n",
      "_________________________________________________________________\n",
      "max_pooling2d_21 (MaxPooling (None, 4, 4, 128)         0         \n",
      "_________________________________________________________________\n",
      "conv2d_44 (Conv2D)           (None, 4, 4, 256)         295168    \n",
      "_________________________________________________________________\n",
      "dropout_37 (Dropout)         (None, 4, 4, 256)         0         \n",
      "_________________________________________________________________\n",
      "conv2d_45 (Conv2D)           (None, 4, 4, 256)         590080    \n",
      "_________________________________________________________________\n",
      "max_pooling2d_22 (MaxPooling (None, 2, 2, 256)         0         \n",
      "_________________________________________________________________\n",
      "flatten_5 (Flatten)          (None, 1024)              0         \n",
      "_________________________________________________________________\n",
      "dropout_38 (Dropout)         (None, 1024)              0         \n",
      "_________________________________________________________________\n",
      "dense_15 (Dense)             (None, 4096)              4198400   \n",
      "_________________________________________________________________\n",
      "dropout_39 (Dropout)         (None, 4096)              0         \n",
      "_________________________________________________________________\n",
      "dense_16 (Dense)             (None, 1024)              4195328   \n",
      "_________________________________________________________________\n",
      "dropout_40 (Dropout)         (None, 1024)              0         \n",
      "_________________________________________________________________\n",
      "dense_17 (Dense)             (None, 7)                 7175      \n",
      "=================================================================\n",
      "Total params: 9,573,159\n",
      "Trainable params: 9,573,159\n",
      "Non-trainable params: 0\n",
      "_________________________________________________________________\n"
     ]
    }
   ],
   "source": [
    "#setup CNN model\n",
    "from tensorflow.keras.models import Model\n",
    "from tensorflow.keras.layers import Dense, Dropout,Flatten,Conv2D,MaxPooling2D\n",
    "num_classes = 7\n",
    "dimension = image_size*image_size*3\n",
    "\n",
    "model = Sequential()\n",
    "\n",
    "#CNN layer 1:\n",
    "model.add(Conv2D(filters=32,kernel_size=(3,3),input_shape=(32,32,3),activation='relu',padding='same'))\n",
    "model.add(Dropout(0.1))\n",
    "model.add(Conv2D(filters=32,kernel_size=(3,3),activation='relu',padding='same'))\n",
    "model.add(MaxPooling2D(pool_size=(2,2)))\n",
    "\n",
    "\n",
    "#CNN layer 2\n",
    "model.add(Conv2D(filters=64,kernel_size=(3,3),activation='relu',padding='same'))\n",
    "model.add(Dropout(0.1))\n",
    "model.add(Conv2D(filters=64,kernel_size=(3,3),activation='relu',padding='same'))\n",
    "model.add(MaxPooling2D(pool_size=(2,2)))\n",
    "\n",
    "\n",
    "#CNN layer 3\n",
    "model.add(Conv2D(filters=128,kernel_size=(3,3),activation='relu',padding='same'))\n",
    "model.add(Dropout(0.1))\n",
    "model.add(Conv2D(filters=128,kernel_size=(3,3),activation='relu',padding='same'))\n",
    "model.add(MaxPooling2D(pool_size=(2,2)))\n",
    "\n",
    "\n",
    "#CNN layer 4\n",
    "model.add(Conv2D(filters=256,kernel_size=(3,3),activation='relu',padding='same'))\n",
    "model.add(Dropout(0.1))\n",
    "model.add(Conv2D(filters=256,kernel_size=(3,3),activation='relu',padding='same'))\n",
    "model.add(MaxPooling2D(pool_size=(2,2)))\n",
    "\n",
    "\n",
    "#Flatten layer\n",
    "model.add(Flatten())\n",
    "model.add(Dropout(0.15))\n",
    "\n",
    "#hidden layer 1\n",
    "model.add(Dense(4096,activation='relu'))\n",
    "model.add(Dropout(0.15))\n",
    "\n",
    "#hidden layer 2\n",
    "model.add(Dense(1024,activation='relu'))\n",
    "model.add(Dropout(0.15))\n",
    "\n",
    "#output layer\n",
    "model.add(Dense(7,activation='softmax'))\n",
    "model.summary()\n",
    "\n",
    "model.compile(loss='categorical_crossentropy', optimizer='Adam', metrics=['acc'])"
   ],
   "metadata": {
    "collapsed": false,
    "pycharm": {
     "name": "#%%\n"
    }
   }
  },
  {
   "cell_type": "code",
   "execution_count": 53,
   "outputs": [
    {
     "name": "stdout",
     "output_type": "stream",
     "text": [
      "Epoch 1/50\n",
      "13/13 - 11s - loss: 1.8199 - acc: 0.6358 - val_loss: 1.5051 - val_acc: 0.6794\n",
      "Epoch 2/50\n",
      "13/13 - 11s - loss: 1.5027 - acc: 0.6670 - val_loss: 1.1110 - val_acc: 0.6794\n",
      "Epoch 3/50\n",
      "13/13 - 11s - loss: 1.3264 - acc: 0.6670 - val_loss: 1.0753 - val_acc: 0.6794\n",
      "Epoch 4/50\n",
      "13/13 - 10s - loss: 1.2280 - acc: 0.6670 - val_loss: 1.0102 - val_acc: 0.6794\n",
      "Epoch 5/50\n",
      "13/13 - 10s - loss: 1.1985 - acc: 0.6670 - val_loss: 1.0250 - val_acc: 0.6794\n",
      "Epoch 6/50\n",
      "13/13 - 10s - loss: 1.1697 - acc: 0.6670 - val_loss: 1.0060 - val_acc: 0.6794\n",
      "Epoch 7/50\n",
      "13/13 - 10s - loss: 1.1411 - acc: 0.6670 - val_loss: 0.9887 - val_acc: 0.6794\n",
      "Epoch 8/50\n",
      "13/13 - 10s - loss: 1.1056 - acc: 0.6775 - val_loss: 0.9393 - val_acc: 0.6731\n",
      "Epoch 9/50\n",
      "13/13 - 10s - loss: 1.0945 - acc: 0.6839 - val_loss: 0.9442 - val_acc: 0.6744\n",
      "Epoch 10/50\n",
      "13/13 - 10s - loss: 1.0896 - acc: 0.6862 - val_loss: 0.9473 - val_acc: 0.6856\n",
      "Epoch 11/50\n",
      "13/13 - 10s - loss: 1.0863 - acc: 0.6861 - val_loss: 0.9073 - val_acc: 0.6918\n",
      "Epoch 12/50\n",
      "13/13 - 10s - loss: 1.0627 - acc: 0.6887 - val_loss: 0.9157 - val_acc: 0.6862\n",
      "Epoch 13/50\n",
      "13/13 - 10s - loss: 1.0498 - acc: 0.6914 - val_loss: 0.9195 - val_acc: 0.6756\n",
      "Epoch 14/50\n",
      "13/13 - 11s - loss: 1.0373 - acc: 0.6870 - val_loss: 0.8928 - val_acc: 0.6700\n",
      "Epoch 15/50\n",
      "13/13 - 11s - loss: 1.0136 - acc: 0.6867 - val_loss: 0.8594 - val_acc: 0.6893\n",
      "Epoch 16/50\n",
      "13/13 - 12s - loss: 1.0032 - acc: 0.6914 - val_loss: 0.8430 - val_acc: 0.6943\n",
      "Epoch 17/50\n",
      "13/13 - 12s - loss: 0.9995 - acc: 0.6879 - val_loss: 0.8241 - val_acc: 0.6968\n",
      "Epoch 18/50\n",
      "13/13 - 11s - loss: 0.9713 - acc: 0.6945 - val_loss: 0.8912 - val_acc: 0.6706\n",
      "Epoch 19/50\n",
      "13/13 - 11s - loss: 0.9614 - acc: 0.6978 - val_loss: 0.8575 - val_acc: 0.6868\n",
      "Epoch 20/50\n",
      "13/13 - 10s - loss: 0.9373 - acc: 0.6981 - val_loss: 0.8071 - val_acc: 0.6949\n",
      "Epoch 21/50\n",
      "13/13 - 10s - loss: 0.9160 - acc: 0.7037 - val_loss: 0.7807 - val_acc: 0.7024\n",
      "Epoch 22/50\n",
      "13/13 - 11s - loss: 0.9177 - acc: 0.7015 - val_loss: 0.7844 - val_acc: 0.7056\n",
      "Epoch 23/50\n",
      "13/13 - 11s - loss: 0.8932 - acc: 0.7079 - val_loss: 0.8038 - val_acc: 0.6943\n",
      "Epoch 24/50\n",
      "13/13 - 12s - loss: 0.8812 - acc: 0.7121 - val_loss: 0.7660 - val_acc: 0.7099\n",
      "Epoch 25/50\n",
      "13/13 - 12s - loss: 0.8458 - acc: 0.7191 - val_loss: 0.7699 - val_acc: 0.7105\n",
      "Epoch 26/50\n",
      "13/13 - 12s - loss: 0.8388 - acc: 0.7232 - val_loss: 0.8230 - val_acc: 0.6700\n",
      "Epoch 27/50\n",
      "13/13 - 12s - loss: 0.8524 - acc: 0.7170 - val_loss: 0.7725 - val_acc: 0.6981\n",
      "Epoch 28/50\n",
      "13/13 - 11s - loss: 0.8258 - acc: 0.7262 - val_loss: 0.7407 - val_acc: 0.7093\n",
      "Epoch 29/50\n",
      "13/13 - 11s - loss: 0.7967 - acc: 0.7351 - val_loss: 0.7344 - val_acc: 0.7174\n",
      "Epoch 30/50\n",
      "13/13 - 11s - loss: 0.7664 - acc: 0.7421 - val_loss: 0.7180 - val_acc: 0.7230\n",
      "Epoch 31/50\n",
      "13/13 - 11s - loss: 0.7450 - acc: 0.7493 - val_loss: 0.7230 - val_acc: 0.7162\n",
      "Epoch 32/50\n",
      "13/13 - 11s - loss: 0.7485 - acc: 0.7446 - val_loss: 0.7198 - val_acc: 0.7280\n",
      "Epoch 33/50\n",
      "13/13 - 11s - loss: 0.7693 - acc: 0.7401 - val_loss: 0.7338 - val_acc: 0.7280\n",
      "Epoch 34/50\n",
      "13/13 - 11s - loss: 0.7389 - acc: 0.7549 - val_loss: 0.7256 - val_acc: 0.7261\n",
      "Epoch 35/50\n",
      "13/13 - 11s - loss: 0.6931 - acc: 0.7680 - val_loss: 0.7034 - val_acc: 0.7355\n",
      "Epoch 36/50\n",
      "13/13 - 10s - loss: 0.6964 - acc: 0.7647 - val_loss: 0.7072 - val_acc: 0.7293\n",
      "Epoch 37/50\n",
      "13/13 - 11s - loss: 0.6670 - acc: 0.7742 - val_loss: 0.7431 - val_acc: 0.7255\n",
      "Epoch 38/50\n",
      "13/13 - 11s - loss: 0.6660 - acc: 0.7691 - val_loss: 0.7137 - val_acc: 0.7349\n",
      "Epoch 39/50\n",
      "13/13 - 11s - loss: 0.6370 - acc: 0.7802 - val_loss: 0.7561 - val_acc: 0.7187\n",
      "Epoch 40/50\n",
      "13/13 - 10s - loss: 0.6142 - acc: 0.7873 - val_loss: 0.7428 - val_acc: 0.7336\n",
      "Epoch 41/50\n",
      "13/13 - 11s - loss: 0.6365 - acc: 0.7777 - val_loss: 0.7394 - val_acc: 0.7261\n",
      "Epoch 42/50\n",
      "13/13 - 11s - loss: 0.5952 - acc: 0.7944 - val_loss: 0.8021 - val_acc: 0.7162\n",
      "Epoch 43/50\n",
      "13/13 - 10s - loss: 0.5801 - acc: 0.7945 - val_loss: 0.7574 - val_acc: 0.7386\n",
      "Epoch 44/50\n",
      "13/13 - 11s - loss: 0.5227 - acc: 0.8140 - val_loss: 0.7656 - val_acc: 0.7361\n",
      "Epoch 45/50\n",
      "13/13 - 11s - loss: 0.4900 - acc: 0.8267 - val_loss: 0.7565 - val_acc: 0.7480\n",
      "Epoch 46/50\n",
      "13/13 - 10s - loss: 0.4793 - acc: 0.8340 - val_loss: 0.7701 - val_acc: 0.7449\n",
      "Epoch 47/50\n",
      "13/13 - 10s - loss: 0.4556 - acc: 0.8354 - val_loss: 0.7876 - val_acc: 0.7486\n",
      "Epoch 48/50\n",
      "13/13 - 11s - loss: 0.4765 - acc: 0.8315 - val_loss: 0.7983 - val_acc: 0.7211\n",
      "Epoch 49/50\n",
      "13/13 - 11s - loss: 0.4714 - acc: 0.8291 - val_loss: 0.8315 - val_acc: 0.7299\n",
      "Epoch 50/50\n",
      "13/13 - 11s - loss: 0.3903 - acc: 0.8618 - val_loss: 0.8775 - val_acc: 0.7280\n"
     ]
    }
   ],
   "source": [
    "# Train\n",
    "\n",
    "batch_size = 512\n",
    "epochs = 50\n",
    "\n",
    "train_history = model.fit(\n",
    "    x=train_data,y=train_label,\n",
    "    epochs=epochs,\n",
    "    batch_size = batch_size,\n",
    "    validation_split=0.2,\n",
    "    verbose=2,class_weight=class_weight)"
   ],
   "metadata": {
    "collapsed": false,
    "pycharm": {
     "name": "#%%\n"
    }
   }
  },
  {
   "cell_type": "code",
   "execution_count": 29,
   "outputs": [
    {
     "name": "stdout",
     "output_type": "stream",
     "text": [
      "Epoch 1/50\n",
      "26/26 - 9s - loss: 1.2328 - acc: 0.6453 - val_loss: 1.2400 - val_acc: 0.6631\n",
      "Epoch 2/50\n",
      "26/26 - 9s - loss: 1.0347 - acc: 0.6711 - val_loss: 1.0994 - val_acc: 0.6631\n",
      "Epoch 3/50\n",
      "26/26 - 10s - loss: 1.0108 - acc: 0.6711 - val_loss: 1.0500 - val_acc: 0.6631\n",
      "Epoch 4/50\n",
      "26/26 - 9s - loss: 0.9941 - acc: 0.6711 - val_loss: 1.0058 - val_acc: 0.6631\n",
      "Epoch 5/50\n",
      "26/26 - 10s - loss: 0.9469 - acc: 0.6745 - val_loss: 1.0959 - val_acc: 0.6719\n",
      "Epoch 6/50\n",
      "26/26 - 10s - loss: 0.9483 - acc: 0.6819 - val_loss: 0.9849 - val_acc: 0.6669\n",
      "Epoch 7/50\n",
      "26/26 - 9s - loss: 0.9139 - acc: 0.6886 - val_loss: 0.9134 - val_acc: 0.6912\n",
      "Epoch 8/50\n",
      "26/26 - 9s - loss: 0.9174 - acc: 0.6886 - val_loss: 0.9371 - val_acc: 0.6943\n",
      "Epoch 9/50\n",
      "26/26 - 10s - loss: 0.8923 - acc: 0.6903 - val_loss: 0.9256 - val_acc: 0.6725\n",
      "Epoch 10/50\n",
      "26/26 - 10s - loss: 0.9025 - acc: 0.6864 - val_loss: 0.9619 - val_acc: 0.6887\n",
      "Epoch 11/50\n",
      "26/26 - 10s - loss: 0.8812 - acc: 0.6887 - val_loss: 0.8965 - val_acc: 0.6868\n",
      "Epoch 12/50\n",
      "26/26 - 10s - loss: 0.8601 - acc: 0.6932 - val_loss: 0.8907 - val_acc: 0.6887\n",
      "Epoch 13/50\n",
      "26/26 - 10s - loss: 0.8706 - acc: 0.6865 - val_loss: 0.8537 - val_acc: 0.6962\n",
      "Epoch 14/50\n",
      "26/26 - 10s - loss: 0.8545 - acc: 0.6970 - val_loss: 0.9055 - val_acc: 0.6825\n",
      "Epoch 15/50\n",
      "26/26 - 10s - loss: 0.8573 - acc: 0.6915 - val_loss: 0.8611 - val_acc: 0.6875\n",
      "Epoch 16/50\n",
      "26/26 - 10s - loss: 0.8469 - acc: 0.6915 - val_loss: 0.8758 - val_acc: 0.6812\n",
      "Epoch 17/50\n",
      "26/26 - 10s - loss: 0.8437 - acc: 0.6970 - val_loss: 0.8528 - val_acc: 0.6956\n",
      "Epoch 18/50\n",
      "26/26 - 9s - loss: 0.8115 - acc: 0.7042 - val_loss: 0.9814 - val_acc: 0.6532\n",
      "Epoch 19/50\n",
      "26/26 - 10s - loss: 0.8320 - acc: 0.6957 - val_loss: 0.8215 - val_acc: 0.6962\n",
      "Epoch 20/50\n",
      "26/26 - 9s - loss: 0.7895 - acc: 0.7101 - val_loss: 0.8285 - val_acc: 0.6968\n",
      "Epoch 21/50\n",
      "26/26 - 9s - loss: 0.8059 - acc: 0.7060 - val_loss: 0.8598 - val_acc: 0.6769\n",
      "Epoch 22/50\n",
      "26/26 - 9s - loss: 0.7962 - acc: 0.7084 - val_loss: 0.7942 - val_acc: 0.7074\n",
      "Epoch 23/50\n",
      "26/26 - 9s - loss: 0.7619 - acc: 0.7152 - val_loss: 0.7726 - val_acc: 0.7124\n",
      "Epoch 24/50\n",
      "26/26 - 9s - loss: 0.7893 - acc: 0.7112 - val_loss: 0.9010 - val_acc: 0.6419\n",
      "Epoch 25/50\n",
      "26/26 - 9s - loss: 0.7948 - acc: 0.7085 - val_loss: 0.8248 - val_acc: 0.7056\n",
      "Epoch 26/50\n",
      "26/26 - 9s - loss: 0.7497 - acc: 0.7226 - val_loss: 0.8213 - val_acc: 0.7093\n",
      "Epoch 27/50\n",
      "26/26 - 9s - loss: 0.7497 - acc: 0.7224 - val_loss: 0.7899 - val_acc: 0.6987\n",
      "Epoch 28/50\n",
      "26/26 - 9s - loss: 0.7191 - acc: 0.7301 - val_loss: 0.8049 - val_acc: 0.6974\n",
      "Epoch 29/50\n",
      "26/26 - 9s - loss: 0.7386 - acc: 0.7257 - val_loss: 0.8050 - val_acc: 0.7024\n",
      "Epoch 30/50\n",
      "26/26 - 9s - loss: 0.7248 - acc: 0.7337 - val_loss: 0.7434 - val_acc: 0.7199\n",
      "Epoch 31/50\n",
      "26/26 - 9s - loss: 0.7187 - acc: 0.7380 - val_loss: 0.7421 - val_acc: 0.7236\n",
      "Epoch 32/50\n",
      "26/26 - 9s - loss: 0.6969 - acc: 0.7424 - val_loss: 0.7628 - val_acc: 0.7068\n",
      "Epoch 33/50\n",
      "26/26 - 9s - loss: 0.7194 - acc: 0.7355 - val_loss: 0.7996 - val_acc: 0.7155\n",
      "Epoch 34/50\n",
      "26/26 - 9s - loss: 0.6963 - acc: 0.7374 - val_loss: 0.8627 - val_acc: 0.6887\n",
      "Epoch 35/50\n",
      "26/26 - 9s - loss: 0.6787 - acc: 0.7460 - val_loss: 0.7418 - val_acc: 0.7336\n",
      "Epoch 36/50\n",
      "26/26 - 9s - loss: 0.6439 - acc: 0.7614 - val_loss: 0.8843 - val_acc: 0.7124\n",
      "Epoch 37/50\n",
      "26/26 - 9s - loss: 0.6586 - acc: 0.7530 - val_loss: 0.8069 - val_acc: 0.7305\n",
      "Epoch 38/50\n",
      "26/26 - 9s - loss: 0.6660 - acc: 0.7557 - val_loss: 0.8293 - val_acc: 0.7211\n",
      "Epoch 39/50\n",
      "26/26 - 9s - loss: 0.6397 - acc: 0.7649 - val_loss: 0.7674 - val_acc: 0.7268\n",
      "Epoch 40/50\n",
      "26/26 - 9s - loss: 0.6503 - acc: 0.7599 - val_loss: 0.8073 - val_acc: 0.7187\n",
      "Epoch 41/50\n",
      "26/26 - 9s - loss: 0.6879 - acc: 0.7474 - val_loss: 0.7686 - val_acc: 0.7130\n",
      "Epoch 42/50\n",
      "26/26 - 9s - loss: 0.7263 - acc: 0.7379 - val_loss: 0.7714 - val_acc: 0.7043\n",
      "Epoch 43/50\n",
      "26/26 - 9s - loss: 0.6537 - acc: 0.7610 - val_loss: 0.7306 - val_acc: 0.7480\n",
      "Epoch 44/50\n",
      "26/26 - 9s - loss: 0.6114 - acc: 0.7750 - val_loss: 0.7478 - val_acc: 0.7417\n",
      "Epoch 45/50\n",
      "26/26 - 9s - loss: 0.6086 - acc: 0.7744 - val_loss: 0.7115 - val_acc: 0.7480\n",
      "Epoch 46/50\n",
      "26/26 - 9s - loss: 0.6341 - acc: 0.7685 - val_loss: 0.7389 - val_acc: 0.7318\n",
      "Epoch 47/50\n",
      "26/26 - 9s - loss: 0.5910 - acc: 0.7812 - val_loss: 0.8004 - val_acc: 0.7149\n",
      "Epoch 48/50\n",
      "26/26 - 9s - loss: 0.7548 - acc: 0.7240 - val_loss: 0.7977 - val_acc: 0.7124\n",
      "Epoch 49/50\n",
      "26/26 - 9s - loss: 0.6687 - acc: 0.7521 - val_loss: 0.8232 - val_acc: 0.7112\n",
      "Epoch 50/50\n",
      "26/26 - 9s - loss: 0.6429 - acc: 0.7630 - val_loss: 0.7819 - val_acc: 0.7137\n"
     ]
    }
   ],
   "source": [
    "# Train without class weight\n",
    "\n",
    "\n",
    "batch_size = 256\n",
    "epochs = 50\n",
    "\n",
    "train_history_class = model.fit(\n",
    "    x=train_data,y=train_label,\n",
    "    epochs=epochs,\n",
    "    batch_size = batch_size,\n",
    "    validation_split=0.2,\n",
    "    verbose=2)"
   ],
   "metadata": {
    "collapsed": false,
    "pycharm": {
     "name": "#%%\n"
    }
   }
  },
  {
   "cell_type": "code",
   "execution_count": 38,
   "outputs": [],
   "source": [
    "def plot_train_history(t_history, train,validation):\n",
    "    plt.plot(t_history.history[train])\n",
    "    plt.plot(t_history.history[validation])\n",
    "    plt.title(\"train_history\")\n",
    "    plt.ylabel(train)\n",
    "    plt.xlabel(\"epochs\")\n",
    "    plt.legend(['train','validation'],loc='upper left')\n",
    "    plt.show()"
   ],
   "metadata": {
    "collapsed": false,
    "pycharm": {
     "name": "#%%\n"
    }
   }
  },
  {
   "cell_type": "code",
   "execution_count": 54,
   "outputs": [
    {
     "data": {
      "text/plain": "<Figure size 432x288 with 1 Axes>",
      "image/png": "[encoded data removed]"
     },
     "metadata": {
      "needs_background": "light"
     },
     "output_type": "display_data"
    }
   ],
   "source": [
    "#plot train history\n",
    "plot_train_history(train_history,'acc','val_acc')"
   ],
   "metadata": {
    "collapsed": false,
    "pycharm": {
     "name": "#%%\n"
    }
   }
  },
  {
   "cell_type": "code",
   "execution_count": 55,
   "outputs": [
    {
     "data": {
      "text/plain": "<Figure size 432x288 with 1 Axes>",
      "image/png": "[encoded data removed]"
     },
     "metadata": {
      "needs_background": "light"
     },
     "output_type": "display_data"
    }
   ],
   "source": [
    "# plot loss\n",
    "plot_train_history(train_history,'loss','val_loss')"
   ],
   "metadata": {
    "collapsed": false,
    "pycharm": {
     "name": "#%%\n"
    }
   }
  },
  {
   "cell_type": "code",
   "execution_count": 56,
   "outputs": [
    {
     "name": "stdout",
     "output_type": "stream",
     "text": [
      "63/63 [==============================] - 1s 16ms/step - loss: 0.8835 - acc: 0.7474\b\b\b\b\b\b\b\b\b\b\b\b\b\b\b\b\b\b\b\b\b\b\b\b\b\b\b\b\b\b\b\b\b\b\b\b\b\b\b\b\b\b\b\b\b\b\b\b\b\b\b\b\b\b\b\b\b\b\b\b\b\b\b\b\b\b\b\b\b\b\b\b\b\b\b\b\b\b\b\b\b\b\b\b\b\b\b\b\b\b\b\b\b\b\b\b\b\b\b\b\b\b\b\b\b\b\b\b\b\b\b\b\b\b\b\b\b\b\b\b\b\b\b\b\b\b\b\b\b\b\b\b\b\b\b\b\b\b\b\b\b\b\b\b\b\b\b\b\b\b\b\b\b\b\b\b\b\b\b\b\b\b\b\b\b\b\b\b\b\b\b\b\b\b\b\b\b\b\b\b\b\b\b\b\b\b\b\b\b\b\b\b\b\b\b\b\b\b\b\b\b\b\b\b\b\b\b\b\b\b\b\b\b\b\b\b\b\b\b\b\b\b\b\b\b\b\b\b\b\b\b\b\b\b\b\b\b\b\b\b\b\b\b\b\b\b\b\b\b\b\b\b\b\b\b\b\b\b\b\b\b\b\b\b\b\b\b\b\b\b\b\b\b\b\b\b\b\b\b\b\b\b\b\b\b\b\b\b\b\b\b\b\b\b\b\b\b\b\b\b\b\b\b\b\b\b\b\b\b\b\b\b\b\b\b\b\b\b\b\b\b\b\b\b\b\b\b\b\b\b\b\b\b\b\b\b\b\b\b\b\b\b\b\b\b\b\b\b\b\b\b\b\b\b\b\b\b\b\b\b\b\b\b\b\b\b\b\b\b\b\b\b\b\b\b\b\b\b\b\b\b\b\b\b\b\b\b\b\b\b\b\b\b\b\b\b\b\b\b\b\b\b\b\b\b\b\b\b\b\b\b\b\b\b\b\b\b\b\b\b\b\b\b\b\b\b\b\b\b\b\b\b\b\b\b\b\b\b\b\b\b\b\b\b\b\b\b\b\b\b\b\b\b\b\b\b\b\b\b\b\b\b\b\b\b\b\b\b\b\b\b\b\b\b\b\b\b\b\b\b\b\b\b\b\b\b\b\b\b\b\b\b\b\b\b\b\b\b\b\b\b\b\b\b\b\b\b\b\b\b\b\b\b\b\b\b\b\b\b\b\b\b\b\b\b\b\b\b\b\b\b\b\b\b\b\b\b\b\b\b\b\b\b\b\b\b\b\b\b\b\b\b\b\b\b\b\b\b\b\b\b\b\b\b\b\b\b\b\b\b\b\b\b\b\b\b\b\b\b\b\b\b\b\b\b\b\b\b\b\b\b\b\b\b\b\b\b\b\b\b\b\b\b\b\b\b\b\b\b\b\b\b\b\b\b\b\b\b\b\b\b\b\b\b\b\b\b\b\b\b\b\b\b\b\b\b\b\b\b\b\b\b\b\b\b\b\b\b\b\b\b\b\b\b\b\b\b\b\b\b\b\b\b\b\b\b\b\b\b\b\b\b\b\b\b\b\b\b\b\b\b\b\b\b\b\b\b\b\b\b\b\b\b\b\b\b\b\b\b\b\b\b\b\b\b\b\b\b\b\b\b\b\b\b\b\b\b\b\b\b\b\b\b\b\b\b\b\b\b\b\b\b\b\b\b\b\b\b\b\b\b\b\b\b\b\b\b\b\b\b\b\b\b\b\b\b\b\b\b\b\b\b\b\b\b\b\b\b\b\b\b\b\b\b\b\b\b\b\b\b\b\b\b\b\b\b\b\b\b\b\b\b\b\b\b\b\b\b\b\b\b\b\b\b\b\b\b\b\b\b\b\b\b\b\b\b\b\b\b\b\b\b\b\b\b\b\b\b\b\b\b\b\b\b\b\b\b\b\b\b\b\b\b\b\b\b\b\b\b\b\b\b\b\b\b\b\b\b\b\b\b\b\b\b\b\b\b\b\b\b\b\b\b\b\b\b\b\b\b\b\b\b\b\b\b\b\b\b\b\b\b\b\b\b\b\b\b\b\b\b\b\b\b\b\b\b\b\b\b\b\b\b\b\b\b\b\b\b\b\b\b\b\b\b\b\b\b\b\b\b\b\b\b\b\b\b\b\b\b\b\b\b\b\b\b\b\b\b\b\b\b\b\b\b\b\b\b\b\b\b\b\b\b\b\b\b\b\b\b\b\b\b\b\b\b\b\b\b\b\b\b\b\b\b\b\b\b\b\b\b\b\b\b\b\b\b\b\b\b\b\b\b\b\b\b\b\b\b\b\b\b\b\b\b\b\b\b\b\b\b\b\b\b\b\b\b\b\b\b\b\b\b\b\b\b\b\b\b\b\b\b\b\b\b\b\b\b\b\b\b\b\b\b\b\b\b\b\b\b\b\b\b\b\b\b\b\b\b\b\b\b\b\b\b\b\b\b\b\b\b\b\b\b\b\b\b\b\b\b\b\b\b\b\b\b\b\b\b\b\b\b\b\b\b\b\b\b\b\b\b\b\b\b\b\b\b\b\b\b\b\b\b\b\b\b\b\b\b\b\b\b\b\b\b\b\b\b\b\b\b\b\b\b\b\b\b\b\b\b\b\b\b\b\b\b\b\b\b\b\b\b\b\b\b\b\b\b\b\b\b\b\b\b\b\b\b\b\b\b\b\b\b\b\b\b\b\b\b\b\b\b\b\b\b\b\b\b\b\b\b\b\b\b\b\b\b\b\b\b\b\b\b\b\b\b\b\b\b\b\b\b\b\b\b\b\b\b\b\b\b\b\b\b\b\b\b\b\b\b\b\b\b\b\b\b\b\b\b\b\b\b\b\b\b\b\b\b\b\b\b\b\b\b\b\b\b\b\b\b\b\b\b\b\b\b\b\b\b\b\b\b\b\b\b\b\b\b\b\b\b\b\b\b\b\b\b\b\b\b\b\b\b\b\b\n",
      "Test accuracy: 0.747378945350647\n"
     ]
    }
   ],
   "source": [
    "#score\n",
    "score = model.evaluate(test_data, test_label)\n",
    "print('Test accuracy:', score[1])"
   ],
   "metadata": {
    "collapsed": false,
    "pycharm": {
     "name": "#%%\n"
    }
   }
  },
  {
   "cell_type": "code",
   "execution_count": 57,
   "outputs": [
    {
     "name": "stdout",
     "output_type": "stream",
     "text": [
      "[4 5 2 ... 3 5 5]\n",
      "predict   0   1    2   3   4     5   6\n",
      "label                                 \n",
      "0        11  13   21   8   1    11   0\n",
      "1         9  50   16   7   2    18   1\n",
      "2         6  11  123   7   5    66   2\n",
      "3         0   4    3  12   0     3   1\n",
      "4         1  11   62   2  40   106   1\n",
      "5         2  10   65   8  11  1242   3\n",
      "6         0   4    0   0   0     5  19\n",
      "predict  akiex  bcc  bkl  df  mel    nv  vasc\n",
      "label                                        \n",
      "akiex       11   13   21   8    1    11     0\n",
      "bcc          9   50   16   7    2    18     1\n",
      "bkl          6   11  123   7    5    66     2\n",
      "df           0    4    3  12    0     3     1\n",
      "mel          1   11   62   2   40   106     1\n",
      "nv           2   10   65   8   11  1242     3\n",
      "vasc         0    4    0   0    0     5    19\n"
     ]
    }
   ],
   "source": [
    "#predictions\n",
    "\n",
    "prediction = model.predict(test_data)\n",
    "\n",
    "prediction_class = np.argmax(prediction,axis=1)\n",
    "print(prediction_class)\n",
    "prediction_label = np.argmax(test_label,axis=1)\n",
    "\n",
    "#confusion matrix\n",
    "print(pd.crosstab(prediction_label,prediction_class,rownames=['label'],colnames=['predict']))\n",
    "mapping = lambda x:features_dict[x]\n",
    "pred_class_to_feature = np.array([mapping(x) for x in prediction_class])\n",
    "pred_label_to_feature = np.array([mapping(x) for x in prediction_label])\n",
    "#pred_label_to_feature = prediction_label.map(lambda x:features_dict[x])\n",
    "\n",
    "#confusion matrix\n",
    "print(pd.crosstab(pred_label_to_feature,pred_class_to_feature,rownames=['label'],colnames=['predict']))\n"
   ],
   "metadata": {
    "collapsed": false,
    "pycharm": {
     "name": "#%%\n"
    }
   }
  }
 ],
 "metadata": {
  "kernelspec": {
   "display_name": "Python 3",
   "language": "python",
   "name": "python3"
  },
  "language_info": {
   "codemirror_mode": {
    "name": "ipython",
    "version": 3
   },
   "file_extension": ".py",
   "mimetype": "text/x-python",
   "name": "python",
   "nbconvert_exporter": "python",
   "pygments_lexer": "ipython3",
   "version": "3.9.4"
  }
 },
 "nbformat": 4,
 "nbformat_minor": 1
}