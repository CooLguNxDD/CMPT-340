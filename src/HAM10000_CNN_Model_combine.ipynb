{
 "cells": [
  {
   "cell_type": "markdown",
   "metadata": {
    "collapsed": true
   },
   "source": [
    "# In this notebook, we are going to implement custom CNN model to analysis the data\n",
    "\n",
    "# CNN V1 will use \"Class weight\" base on logarithm of the weights for the imbalance data\n",
    "\n",
    "# CNN V2 will use over sampling (SMOTE) for the imbalance data\n",
    "\n",
    "## https://en.wikipedia.org/wiki/Convolutional_neural_network\n"
   ]
  },
  {
   "cell_type": "code",
   "execution_count": 1,
   "metadata": {},
   "outputs": [],
   "source": [
    "import matplotlib.pyplot as plt\n",
    "import tensorflow as tf\n",
    "import numpy as np\n",
    "import os\n",
    "import pandas as pd\n",
    "from PIL import Image\n"
   ]
  },
  {
   "cell_type": "markdown",
   "source": [
    "# load metadata.csv"
   ],
   "metadata": {
    "collapsed": false,
    "pycharm": {
     "name": "#%% md\n"
    }
   }
  },
  {
   "cell_type": "code",
   "metadata": {
    "pycharm": {
     "name": "#%% read csv\n"
    }
   },
   "source": [
    "df = pd.read_csv('input/HAM10000_metadata.csv', delimiter=',')\n",
    "df.dataframeName = 'HAM10000_metadata.csv'"
   ],
   "execution_count": 2,
   "outputs": []
  },
  {
   "cell_type": "markdown",
   "source": [
    "# preprocess labels"
   ],
   "metadata": {
    "collapsed": false,
    "pycharm": {
     "name": "#%% md\n"
    }
   }
  },
  {
   "cell_type": "code",
   "execution_count": 3,
   "metadata": {
    "pycharm": {
     "name": "#%%\n"
    }
   },
   "outputs": [
    {
     "name": "stdout",
     "output_type": "stream",
     "text": [
      "['akiec', 'bcc', 'bkl', 'df', 'mel', 'nv', 'vasc']\n",
      "        lesion_id      image_id   dx    dx_type   age     sex  \\\n",
      "195   HAM_0002327  ISIC_0033606  bkl      histo  60.0  female   \n",
      "4418  HAM_0001850  ISIC_0030947   nv  follow_up  45.0    male   \n",
      "263   HAM_0001837  ISIC_0033868  bkl      histo  80.0    male   \n",
      "4575  HAM_0003111  ISIC_0030495   nv  follow_up  45.0  female   \n",
      "1944  HAM_0000433  ISIC_0031554  mel      histo  55.0    male   \n",
      "\n",
      "         localization  label  \n",
      "195              neck      2  \n",
      "4418  lower extremity      5  \n",
      "263             trunk      2  \n",
      "4575  lower extremity      5  \n",
      "1944             back      4  \n"
     ]
    }
   ],
   "source": [
    "from sklearn.preprocessing import LabelEncoder\n",
    "label_encoder = LabelEncoder()\n",
    "label_encoder.fit(df['dx'])\n",
    "print(list(label_encoder.classes_))\n",
    "df['label'] = label_encoder.transform(df[\"dx\"])\n",
    "print(df.sample(5))"
   ]
  },
  {
   "cell_type": "markdown",
   "metadata": {
    "pycharm": {
     "name": "#%% md\n"
    }
   },
   "source": [
    "# features to label\n",
    "akiex -> 0\n",
    "bcc -> 1\n",
    "bkl -> 2\n",
    "df -> 3\n",
    "mel -> 4\n",
    "nv -> 5\n",
    "vasc -> 6"
   ]
  },
  {
   "cell_type": "code",
   "execution_count": 4,
   "outputs": [],
   "source": [
    "features_dict = {0:\"akiex\",1:\"bcc\",2:\"bkl\",3:\"df\",\n",
    "                 4:\"mel\",5:\"nv\",6:\"vasc\"}\n",
    "\n",
    "labels = ['akiec','bcc','bkl','df','mel','nv','vasc']"
   ],
   "metadata": {
    "collapsed": false,
    "pycharm": {
     "name": "#%%\n"
    }
   }
  },
  {
   "cell_type": "markdown",
   "source": [
    "# Calculate Class Weight"
   ],
   "metadata": {
    "collapsed": false,
    "pycharm": {
     "name": "#%% md\n"
    }
   }
  },
  {
   "cell_type": "code",
   "execution_count": 5,
   "outputs": [
    {
     "name": "stdout",
     "output_type": "stream",
     "text": [
      "total number of data:  10015\n",
      "5    6705\n",
      "4    1113\n",
      "2    1099\n",
      "1     514\n",
      "0     327\n",
      "6     142\n",
      "3     115\n",
      "Name: label, dtype: int64\n",
      "5   1.0\n",
      "4   1.0\n",
      "2   1.0\n",
      "1   1.0237058335894402\n",
      "0   1.4759689281473518\n",
      "6   2.310102041443345\n",
      "3   2.520996970681355\n"
     ]
    }
   ],
   "source": [
    "import math\n",
    "total_data = 0\n",
    "num_classes = 7\n",
    "for num_of_data in df['label'].value_counts():\n",
    "    total_data+=num_of_data\n",
    "print(\"total number of data: \",total_data)\n",
    "print(df['label'].value_counts())\n",
    "#calc weight for each class\n",
    "class_weight ={}\n",
    "for index, value in df.label.value_counts().iteritems():\n",
    "    v1 = math.log(total_data/(float(value)*num_classes))\n",
    "    class_weight[index] = v1 if v1>1.0 else 1.0\n",
    "\n",
    "for i in class_weight:\n",
    "    print(i,\" \",class_weight[i])\n"
   ],
   "metadata": {
    "collapsed": false,
    "pycharm": {
     "name": "#%%\n"
    }
   }
  },
  {
   "cell_type": "markdown",
   "source": [
    "# Preprocess image"
   ],
   "metadata": {
    "collapsed": false,
    "pycharm": {
     "name": "#%% md\n"
    }
   }
  },
  {
   "cell_type": "code",
   "execution_count": 6,
   "outputs": [],
   "source": [
    "from glob import glob\n",
    "image_size = 32 #the size that the image will resize to\n",
    "image_path = {os.path.splitext(os.path.basename(x))[0]: x\n",
    "              for x in glob(os.path.join('input/','*','*.jpg'))}\n",
    "#image path\n",
    "df['path'] = df['image_id'].map(lambda id: image_path.get(id))"
   ],
   "metadata": {
    "collapsed": false,
    "pycharm": {
     "name": "#%%\n"
    }
   }
  },
  {
   "cell_type": "code",
   "execution_count": 7,
   "outputs": [],
   "source": [
    "#image_64 is the actual image(resized to 64x64) store in the dataframe\n",
    "#it takes time to process the image\n",
    "df['image_64'] = df['path'].map(lambda path:Image.open(path).resize((image_size,image_size)))"
   ],
   "metadata": {
    "collapsed": false,
    "pycharm": {
     "name": "#%%\n"
    }
   }
  },
  {
   "cell_type": "code",
   "execution_count": 8,
   "outputs": [
    {
     "data": {
      "text/plain": "<Figure size 432x288 with 10 Axes>",
      "image/png": "[encoded data removed]"
     },
     "metadata": {
      "needs_background": "light"
     },
     "output_type": "display_data"
    }
   ],
   "source": [
    "#print some image\n",
    "index = 1\n",
    "for image in df['image_64'].head(10):\n",
    "    plots = plt.subplot(2,5,index)\n",
    "    plots.imshow(image)\n",
    "    index+=1"
   ],
   "metadata": {
    "collapsed": false,
    "pycharm": {
     "name": "#%%\n"
    }
   }
  },
  {
   "cell_type": "markdown",
   "source": [
    "# Image to Array"
   ],
   "metadata": {
    "collapsed": false,
    "pycharm": {
     "name": "#%% md\n"
    }
   }
  },
  {
   "cell_type": "code",
   "execution_count": 9,
   "outputs": [],
   "source": [
    "from tensorflow.keras.utils import to_categorical\n",
    "from tensorflow.keras.models import Sequential\n",
    "from sklearn.model_selection import StratifiedShuffleSplit,train_test_split\n",
    "\n",
    "df['image'] = df['image_64'].map(lambda image: np.asarray(image))\n",
    "data = np.asarray(df['image'].to_list())\n",
    "#data = data.reshape(total_data,image_size*image_size*3).astype('float32')\n",
    "data = data/255.0 #normalise the RGB value to [0...1]\n",
    "label_to_one_hot = to_categorical(df['label'], num_classes=7)\n",
    "#80% data for training\n",
    "#20% data for testing\n",
    "import random\n",
    "train_data,test_data,train_label,test_label = train_test_split(data,label_to_one_hot,test_size=0.20,random_state=87,stratify=label_to_one_hot)"
   ],
   "metadata": {
    "collapsed": false,
    "pycharm": {
     "name": "#%%\n"
    }
   }
  },
  {
   "cell_type": "markdown",
   "source": [
    "# Setup CNN model V1"
   ],
   "metadata": {
    "collapsed": false,
    "pycharm": {
     "name": "#%% md\n"
    }
   },
   "execution_count": 17
  },
  {
   "cell_type": "code",
   "execution_count": 10,
   "outputs": [
    {
     "name": "stdout",
     "output_type": "stream",
     "text": [
      "Model: \"sequential\"\n",
      "_________________________________________________________________\n",
      "Layer (type)                 Output Shape              Param #   \n",
      "=================================================================\n",
      "conv2d (Conv2D)              (None, 32, 32, 32)        896       \n",
      "_________________________________________________________________\n",
      "dropout (Dropout)            (None, 32, 32, 32)        0         \n",
      "_________________________________________________________________\n",
      "conv2d_1 (Conv2D)            (None, 32, 32, 32)        9248      \n",
      "_________________________________________________________________\n",
      "max_pooling2d (MaxPooling2D) (None, 16, 16, 32)        0         \n",
      "_________________________________________________________________\n",
      "conv2d_2 (Conv2D)            (None, 16, 16, 64)        18496     \n",
      "_________________________________________________________________\n",
      "dropout_1 (Dropout)          (None, 16, 16, 64)        0         \n",
      "_________________________________________________________________\n",
      "conv2d_3 (Conv2D)            (None, 16, 16, 64)        36928     \n",
      "_________________________________________________________________\n",
      "max_pooling2d_1 (MaxPooling2 (None, 8, 8, 64)          0         \n",
      "_________________________________________________________________\n",
      "conv2d_4 (Conv2D)            (None, 8, 8, 128)         73856     \n",
      "_________________________________________________________________\n",
      "dropout_2 (Dropout)          (None, 8, 8, 128)         0         \n",
      "_________________________________________________________________\n",
      "conv2d_5 (Conv2D)            (None, 8, 8, 128)         147584    \n",
      "_________________________________________________________________\n",
      "max_pooling2d_2 (MaxPooling2 (None, 4, 4, 128)         0         \n",
      "_________________________________________________________________\n",
      "flatten (Flatten)            (None, 2048)              0         \n",
      "_________________________________________________________________\n",
      "dense (Dense)                (None, 2048)              4196352   \n",
      "_________________________________________________________________\n",
      "dropout_3 (Dropout)          (None, 2048)              0         \n",
      "_________________________________________________________________\n",
      "dense_1 (Dense)              (None, 1024)              2098176   \n",
      "_________________________________________________________________\n",
      "dropout_4 (Dropout)          (None, 1024)              0         \n",
      "_________________________________________________________________\n",
      "dense_2 (Dense)              (None, 7)                 7175      \n",
      "=================================================================\n",
      "Total params: 6,588,711\n",
      "Trainable params: 6,588,711\n",
      "Non-trainable params: 0\n",
      "_________________________________________________________________\n"
     ]
    }
   ],
   "source": [
    "from tensorflow.keras.layers import Dense, Dropout,Flatten,Conv2D,MaxPooling2D\n",
    "num_classes = 7\n",
    "dimension = image_size*image_size*3\n",
    "\n",
    "model_CNN_V1 = Sequential()\n",
    "\n",
    "#CNN layer 1:\n",
    "model_CNN_V1.add(Conv2D(filters=32,kernel_size=(3,3),input_shape=(image_size,image_size,3),activation='relu',padding='same'))\n",
    "model_CNN_V1.add(Dropout(0.1))\n",
    "model_CNN_V1.add(Conv2D(filters=32,kernel_size=(3,3),activation='relu',padding='same'))\n",
    "model_CNN_V1.add(MaxPooling2D(pool_size=(2,2)))\n",
    "\n",
    "#CNN layer 2\n",
    "model_CNN_V1.add(Conv2D(filters=64,kernel_size=(3,3),activation='relu',padding='same'))\n",
    "model_CNN_V1.add(Dropout(0.1))\n",
    "model_CNN_V1.add(Conv2D(filters=64,kernel_size=(3,3),activation='relu',padding='same'))\n",
    "model_CNN_V1.add(MaxPooling2D(pool_size=(2,2)))\n",
    "\n",
    "#CNN layer 3\n",
    "model_CNN_V1.add(Conv2D(filters=128,kernel_size=(3,3),activation='relu',padding='same'))\n",
    "model_CNN_V1.add(Dropout(0.1))\n",
    "model_CNN_V1.add(Conv2D(filters=128,kernel_size=(3,3),activation='relu',padding='same'))\n",
    "model_CNN_V1.add(MaxPooling2D(pool_size=(2,2)))\n",
    "\n",
    "#Flatten layer\n",
    "model_CNN_V1.add(Flatten())\n",
    "\n",
    "#hidden layer 1\n",
    "model_CNN_V1.add(Dense(2048,activation='relu'))\n",
    "model_CNN_V1.add(Dropout(0.2))\n",
    "\n",
    "#hidden layer 2\n",
    "model_CNN_V1.add(Dense(1024,activation='relu'))\n",
    "model_CNN_V1.add(Dropout(0.2))\n",
    "\n",
    "#output layer\n",
    "model_CNN_V1.add(Dense(7,activation='softmax'))\n",
    "model_CNN_V1.summary()\n",
    "\n",
    "model_CNN_V1.compile(loss='categorical_crossentropy', optimizer='Adam', metrics=['acc'])"
   ],
   "metadata": {
    "collapsed": false,
    "pycharm": {
     "name": "#%%\n"
    }
   }
  },
  {
   "cell_type": "markdown",
   "source": [
    "# Train CNN V1"
   ],
   "metadata": {
    "collapsed": false,
    "pycharm": {
     "name": "#%% md\n"
    }
   }
  },
  {
   "cell_type": "code",
   "execution_count": 11,
   "outputs": [
    {
     "name": "stdout",
     "output_type": "stream",
     "text": [
      "new model_CNN_V1\n",
      "WARNING:tensorflow:From C:\\Users\\andre\\anaconda3\\envs\\cmpt340_conda\\lib\\site-packages\\tensorflow\\python\\ops\\array_ops.py:5043: calling gather (from tensorflow.python.ops.array_ops) with validate_indices is deprecated and will be removed in a future version.\n",
      "Instructions for updating:\n",
      "The `validate_indices` argument has no effect. Indices are always validated on CPU and never validated on GPU.\n",
      "Epoch 1/200\n",
      "26/26 - 5s - loss: 1.3589 - acc: 0.6528 - val_loss: 1.1761 - val_acc: 0.6569\n",
      "Epoch 2/200\n",
      "26/26 - 0s - loss: 1.1876 - acc: 0.6726 - val_loss: 1.0787 - val_acc: 0.6569\n",
      "Epoch 3/200\n",
      "26/26 - 0s - loss: 1.1410 - acc: 0.6726 - val_loss: 1.0098 - val_acc: 0.6569\n",
      "Epoch 4/200\n",
      "26/26 - 0s - loss: 1.0957 - acc: 0.6741 - val_loss: 1.0311 - val_acc: 0.6569\n",
      "Epoch 5/200\n",
      "26/26 - 0s - loss: 1.0781 - acc: 0.6772 - val_loss: 0.9939 - val_acc: 0.6538\n",
      "Epoch 6/200\n",
      "26/26 - 0s - loss: 1.0643 - acc: 0.6839 - val_loss: 0.9372 - val_acc: 0.6694\n",
      "Epoch 7/200\n",
      "26/26 - 0s - loss: 1.0081 - acc: 0.6859 - val_loss: 0.8925 - val_acc: 0.6669\n",
      "Epoch 8/200\n",
      "26/26 - 0s - loss: 0.9874 - acc: 0.6851 - val_loss: 0.9176 - val_acc: 0.6806\n",
      "Epoch 9/200\n",
      "26/26 - 0s - loss: 0.9801 - acc: 0.6850 - val_loss: 0.9130 - val_acc: 0.6762\n",
      "Epoch 10/200\n",
      "26/26 - 0s - loss: 0.9409 - acc: 0.6918 - val_loss: 0.9220 - val_acc: 0.6744\n",
      "Epoch 11/200\n",
      "26/26 - 0s - loss: 0.9435 - acc: 0.6975 - val_loss: 0.8721 - val_acc: 0.6931\n",
      "Epoch 12/200\n",
      "26/26 - 0s - loss: 0.9209 - acc: 0.7026 - val_loss: 0.8702 - val_acc: 0.6812\n",
      "Epoch 13/200\n",
      "26/26 - 0s - loss: 0.9017 - acc: 0.7004 - val_loss: 0.8635 - val_acc: 0.6856\n",
      "Epoch 14/200\n",
      "26/26 - 0s - loss: 0.8917 - acc: 0.7059 - val_loss: 0.9257 - val_acc: 0.6725\n",
      "Epoch 15/200\n",
      "26/26 - 0s - loss: 0.8980 - acc: 0.7115 - val_loss: 0.8306 - val_acc: 0.6943\n",
      "Epoch 16/200\n",
      "26/26 - 0s - loss: 0.8440 - acc: 0.7259 - val_loss: 0.8023 - val_acc: 0.7037\n",
      "Epoch 17/200\n",
      "26/26 - 0s - loss: 0.8061 - acc: 0.7327 - val_loss: 0.9666 - val_acc: 0.6494\n",
      "Epoch 18/200\n",
      "26/26 - 0s - loss: 0.8226 - acc: 0.7301 - val_loss: 0.9122 - val_acc: 0.6769\n",
      "Epoch 19/200\n",
      "26/26 - 0s - loss: 0.8619 - acc: 0.7190 - val_loss: 0.8490 - val_acc: 0.7062\n",
      "Epoch 20/200\n",
      "26/26 - 0s - loss: 0.8126 - acc: 0.7268 - val_loss: 0.7774 - val_acc: 0.7174\n",
      "Epoch 21/200\n",
      "26/26 - 0s - loss: 0.7247 - acc: 0.7577 - val_loss: 0.7782 - val_acc: 0.7293\n",
      "Epoch 22/200\n",
      "26/26 - 0s - loss: 0.7090 - acc: 0.7589 - val_loss: 0.7684 - val_acc: 0.7224\n",
      "Epoch 23/200\n",
      "26/26 - 0s - loss: 0.6521 - acc: 0.7781 - val_loss: 1.0240 - val_acc: 0.6825\n",
      "Epoch 24/200\n",
      "26/26 - 0s - loss: 0.7115 - acc: 0.7555 - val_loss: 0.7878 - val_acc: 0.7249\n",
      "Epoch 25/200\n",
      "26/26 - 0s - loss: 0.6849 - acc: 0.7669 - val_loss: 0.8700 - val_acc: 0.7130\n",
      "Epoch 26/200\n",
      "26/26 - 0s - loss: 0.6237 - acc: 0.7822 - val_loss: 0.7676 - val_acc: 0.7205\n",
      "Epoch 27/200\n",
      "26/26 - 0s - loss: 0.5756 - acc: 0.7920 - val_loss: 0.7983 - val_acc: 0.7093\n",
      "Epoch 28/200\n",
      "26/26 - 0s - loss: 0.5286 - acc: 0.8104 - val_loss: 0.7751 - val_acc: 0.7355\n",
      "Epoch 29/200\n",
      "26/26 - 0s - loss: 0.5063 - acc: 0.8185 - val_loss: 0.8719 - val_acc: 0.7006\n",
      "Epoch 30/200\n",
      "26/26 - 0s - loss: 0.4845 - acc: 0.8190 - val_loss: 0.8421 - val_acc: 0.7112\n",
      "Epoch 31/200\n",
      "26/26 - 0s - loss: 0.5173 - acc: 0.8193 - val_loss: 0.8020 - val_acc: 0.7374\n",
      "Epoch 32/200\n",
      "26/26 - 0s - loss: 0.4469 - acc: 0.8365 - val_loss: 0.9863 - val_acc: 0.6937\n",
      "Epoch 33/200\n",
      "26/26 - 0s - loss: 0.6004 - acc: 0.7970 - val_loss: 0.8022 - val_acc: 0.7230\n",
      "Epoch 34/200\n",
      "26/26 - 0s - loss: 0.4530 - acc: 0.8337 - val_loss: 0.9332 - val_acc: 0.7093\n",
      "Epoch 35/200\n",
      "26/26 - 0s - loss: 0.4655 - acc: 0.8376 - val_loss: 0.9087 - val_acc: 0.7442\n",
      "Epoch 36/200\n",
      "26/26 - 0s - loss: 0.3655 - acc: 0.8644 - val_loss: 1.0044 - val_acc: 0.7224\n",
      "Epoch 37/200\n",
      "26/26 - 0s - loss: 0.3197 - acc: 0.8819 - val_loss: 0.9973 - val_acc: 0.7218\n",
      "Epoch 38/200\n",
      "26/26 - 0s - loss: 0.3425 - acc: 0.8800 - val_loss: 0.9837 - val_acc: 0.7224\n",
      "Epoch 39/200\n",
      "26/26 - 0s - loss: 0.3070 - acc: 0.8930 - val_loss: 1.0635 - val_acc: 0.7099\n",
      "Epoch 40/200\n",
      "26/26 - 0s - loss: 0.2569 - acc: 0.9048 - val_loss: 1.2873 - val_acc: 0.7255\n",
      "Epoch 41/200\n",
      "26/26 - 0s - loss: 0.3556 - acc: 0.8783 - val_loss: 1.1236 - val_acc: 0.7137\n",
      "Epoch 42/200\n",
      "26/26 - 0s - loss: 0.2455 - acc: 0.9118 - val_loss: 1.1146 - val_acc: 0.7305\n",
      "Epoch 43/200\n",
      "26/26 - 0s - loss: 0.1707 - acc: 0.9352 - val_loss: 1.2832 - val_acc: 0.7293\n",
      "Epoch 44/200\n",
      "26/26 - 0s - loss: 0.1926 - acc: 0.9334 - val_loss: 1.2110 - val_acc: 0.7342\n",
      "Epoch 45/200\n",
      "26/26 - 0s - loss: 0.1655 - acc: 0.9391 - val_loss: 1.3963 - val_acc: 0.7318\n",
      "Epoch 46/200\n",
      "26/26 - 0s - loss: 0.1145 - acc: 0.9597 - val_loss: 1.6104 - val_acc: 0.7255\n",
      "Epoch 47/200\n",
      "26/26 - 0s - loss: 0.1187 - acc: 0.9572 - val_loss: 1.6128 - val_acc: 0.7230\n",
      "Epoch 48/200\n",
      "26/26 - 0s - loss: 0.1285 - acc: 0.9530 - val_loss: 1.4265 - val_acc: 0.6931\n",
      "Epoch 49/200\n",
      "26/26 - 0s - loss: 0.1946 - acc: 0.9303 - val_loss: 1.3348 - val_acc: 0.7261\n",
      "Epoch 50/200\n",
      "26/26 - 0s - loss: 0.1264 - acc: 0.9558 - val_loss: 1.4747 - val_acc: 0.7293\n",
      "Epoch 51/200\n",
      "26/26 - 0s - loss: 0.0916 - acc: 0.9668 - val_loss: 1.8853 - val_acc: 0.7130\n",
      "Epoch 52/200\n",
      "26/26 - 0s - loss: 0.3310 - acc: 0.8923 - val_loss: 1.1138 - val_acc: 0.7330\n",
      "Epoch 53/200\n",
      "26/26 - 0s - loss: 0.1234 - acc: 0.9587 - val_loss: 1.6444 - val_acc: 0.7417\n",
      "Epoch 54/200\n",
      "26/26 - 0s - loss: 0.0836 - acc: 0.9716 - val_loss: 1.5415 - val_acc: 0.7380\n",
      "Epoch 55/200\n",
      "26/26 - 0s - loss: 0.0738 - acc: 0.9743 - val_loss: 1.7240 - val_acc: 0.7342\n",
      "Epoch 56/200\n",
      "26/26 - 0s - loss: 0.0788 - acc: 0.9724 - val_loss: 1.8264 - val_acc: 0.7411\n",
      "Epoch 57/200\n",
      "26/26 - 0s - loss: 0.0835 - acc: 0.9733 - val_loss: 1.5771 - val_acc: 0.7330\n",
      "Epoch 58/200\n",
      "26/26 - 0s - loss: 0.0590 - acc: 0.9791 - val_loss: 1.5837 - val_acc: 0.7424\n",
      "Epoch 59/200\n",
      "26/26 - 0s - loss: 0.0444 - acc: 0.9849 - val_loss: 1.9685 - val_acc: 0.7411\n",
      "Epoch 60/200\n",
      "26/26 - 0s - loss: 0.0360 - acc: 0.9867 - val_loss: 1.8341 - val_acc: 0.7392\n",
      "Epoch 61/200\n",
      "26/26 - 0s - loss: 0.0861 - acc: 0.9697 - val_loss: 1.6762 - val_acc: 0.7230\n",
      "Epoch 62/200\n",
      "26/26 - 0s - loss: 0.0582 - acc: 0.9796 - val_loss: 1.6317 - val_acc: 0.7318\n",
      "Epoch 63/200\n",
      "26/26 - 0s - loss: 0.0360 - acc: 0.9880 - val_loss: 1.8882 - val_acc: 0.7342\n",
      "Epoch 64/200\n",
      "26/26 - 0s - loss: 0.0418 - acc: 0.9860 - val_loss: 2.0073 - val_acc: 0.7380\n",
      "Epoch 65/200\n",
      "26/26 - 0s - loss: 0.0590 - acc: 0.9819 - val_loss: 1.8837 - val_acc: 0.7268\n",
      "Epoch 66/200\n",
      "26/26 - 0s - loss: 0.0696 - acc: 0.9768 - val_loss: 1.7667 - val_acc: 0.7411\n",
      "Epoch 67/200\n",
      "26/26 - 0s - loss: 0.0596 - acc: 0.9817 - val_loss: 2.1003 - val_acc: 0.7274\n",
      "Epoch 68/200\n",
      "26/26 - 0s - loss: 0.0447 - acc: 0.9867 - val_loss: 1.6972 - val_acc: 0.7355\n",
      "Epoch 69/200\n",
      "26/26 - 0s - loss: 0.0376 - acc: 0.9886 - val_loss: 1.8647 - val_acc: 0.7405\n",
      "Epoch 70/200\n",
      "26/26 - 0s - loss: 0.0202 - acc: 0.9936 - val_loss: 2.0863 - val_acc: 0.7473\n",
      "Epoch 71/200\n",
      "26/26 - 0s - loss: 0.0233 - acc: 0.9920 - val_loss: 1.8437 - val_acc: 0.7380\n",
      "Epoch 72/200\n",
      "26/26 - 0s - loss: 0.0321 - acc: 0.9889 - val_loss: 1.8613 - val_acc: 0.7386\n",
      "Epoch 73/200\n",
      "26/26 - 0s - loss: 0.0239 - acc: 0.9914 - val_loss: 1.9796 - val_acc: 0.7355\n",
      "Epoch 74/200\n",
      "26/26 - 0s - loss: 0.0276 - acc: 0.9905 - val_loss: 2.0061 - val_acc: 0.7143\n",
      "Epoch 75/200\n",
      "26/26 - 0s - loss: 0.0289 - acc: 0.9900 - val_loss: 2.1924 - val_acc: 0.7342\n",
      "Epoch 76/200\n",
      "26/26 - 0s - loss: 0.0338 - acc: 0.9889 - val_loss: 2.2870 - val_acc: 0.7218\n",
      "Epoch 77/200\n",
      "26/26 - 0s - loss: 0.0299 - acc: 0.9903 - val_loss: 2.0312 - val_acc: 0.7342\n",
      "Epoch 78/200\n",
      "26/26 - 0s - loss: 0.0296 - acc: 0.9903 - val_loss: 2.2682 - val_acc: 0.7330\n",
      "Epoch 79/200\n",
      "26/26 - 0s - loss: 0.0617 - acc: 0.9827 - val_loss: 1.9461 - val_acc: 0.7330\n",
      "Epoch 80/200\n",
      "26/26 - 0s - loss: 0.1716 - acc: 0.9529 - val_loss: 1.4739 - val_acc: 0.7311\n",
      "Epoch 81/200\n",
      "26/26 - 0s - loss: 0.0641 - acc: 0.9797 - val_loss: 1.7139 - val_acc: 0.7436\n",
      "Epoch 82/200\n",
      "26/26 - 0s - loss: 0.0328 - acc: 0.9906 - val_loss: 2.1313 - val_acc: 0.7286\n",
      "Epoch 83/200\n",
      "26/26 - 1s - loss: 0.0375 - acc: 0.9877 - val_loss: 1.8815 - val_acc: 0.7311\n",
      "Epoch 84/200\n",
      "26/26 - 0s - loss: 0.0556 - acc: 0.9827 - val_loss: 1.9399 - val_acc: 0.7392\n",
      "Epoch 85/200\n",
      "26/26 - 0s - loss: 0.0373 - acc: 0.9891 - val_loss: 1.8401 - val_acc: 0.7436\n",
      "Epoch 86/200\n",
      "26/26 - 0s - loss: 0.0310 - acc: 0.9914 - val_loss: 2.0048 - val_acc: 0.7461\n",
      "Epoch 87/200\n",
      "26/26 - 0s - loss: 0.0308 - acc: 0.9906 - val_loss: 1.9512 - val_acc: 0.7548\n",
      "Epoch 88/200\n",
      "26/26 - 0s - loss: 0.0295 - acc: 0.9917 - val_loss: 2.1191 - val_acc: 0.7280\n",
      "Epoch 89/200\n",
      "26/26 - 0s - loss: 0.0899 - acc: 0.9710 - val_loss: 1.8400 - val_acc: 0.7311\n",
      "Epoch 90/200\n",
      "26/26 - 0s - loss: 0.0555 - acc: 0.9819 - val_loss: 1.8588 - val_acc: 0.7405\n",
      "Epoch 91/200\n",
      "26/26 - 0s - loss: 0.0537 - acc: 0.9835 - val_loss: 1.6093 - val_acc: 0.7467\n",
      "Epoch 92/200\n",
      "26/26 - 0s - loss: 0.0268 - acc: 0.9913 - val_loss: 2.0928 - val_acc: 0.6875\n",
      "Epoch 93/200\n",
      "26/26 - 0s - loss: 0.7747 - acc: 0.7688 - val_loss: 1.1471 - val_acc: 0.6725\n",
      "Epoch 94/200\n",
      "26/26 - 0s - loss: 0.6511 - acc: 0.7794 - val_loss: 0.9538 - val_acc: 0.7024\n",
      "Epoch 95/200\n",
      "26/26 - 0s - loss: 0.3523 - acc: 0.8707 - val_loss: 1.1744 - val_acc: 0.7199\n",
      "Epoch 96/200\n",
      "26/26 - 0s - loss: 0.1778 - acc: 0.9407 - val_loss: 1.3659 - val_acc: 0.7280\n",
      "Epoch 97/200\n",
      "26/26 - 0s - loss: 0.0991 - acc: 0.9669 - val_loss: 1.6768 - val_acc: 0.7230\n",
      "Epoch 98/200\n",
      "26/26 - 0s - loss: 0.0659 - acc: 0.9783 - val_loss: 1.7247 - val_acc: 0.7274\n",
      "Epoch 99/200\n",
      "26/26 - 0s - loss: 0.0472 - acc: 0.9836 - val_loss: 1.8701 - val_acc: 0.7305\n",
      "Epoch 100/200\n",
      "26/26 - 0s - loss: 0.0378 - acc: 0.9870 - val_loss: 2.0317 - val_acc: 0.7293\n",
      "Epoch 101/200\n",
      "26/26 - 0s - loss: 0.0408 - acc: 0.9860 - val_loss: 1.8531 - val_acc: 0.7243\n",
      "Epoch 102/200\n",
      "26/26 - 0s - loss: 0.0317 - acc: 0.9905 - val_loss: 2.0422 - val_acc: 0.7243\n",
      "Epoch 103/200\n",
      "26/26 - 0s - loss: 0.0351 - acc: 0.9881 - val_loss: 2.1135 - val_acc: 0.7261\n",
      "Epoch 104/200\n",
      "26/26 - 0s - loss: 0.0394 - acc: 0.9878 - val_loss: 2.0576 - val_acc: 0.7274\n",
      "Epoch 105/200\n",
      "26/26 - 0s - loss: 0.0393 - acc: 0.9892 - val_loss: 2.0412 - val_acc: 0.7305\n",
      "Epoch 106/200\n",
      "26/26 - 0s - loss: 0.0303 - acc: 0.9910 - val_loss: 2.2030 - val_acc: 0.7249\n",
      "Epoch 107/200\n",
      "26/26 - 0s - loss: 0.0231 - acc: 0.9931 - val_loss: 2.1678 - val_acc: 0.7274\n",
      "Epoch 108/200\n",
      "26/26 - 0s - loss: 0.0329 - acc: 0.9885 - val_loss: 2.2881 - val_acc: 0.7374\n",
      "Epoch 109/200\n",
      "26/26 - 0s - loss: 0.0383 - acc: 0.9902 - val_loss: 2.0524 - val_acc: 0.7193\n",
      "Epoch 110/200\n",
      "26/26 - 0s - loss: 0.0182 - acc: 0.9944 - val_loss: 1.8339 - val_acc: 0.7436\n",
      "Epoch 111/200\n",
      "26/26 - 0s - loss: 0.0265 - acc: 0.9922 - val_loss: 2.1025 - val_acc: 0.7268\n",
      "Epoch 112/200\n",
      "26/26 - 0s - loss: 0.0184 - acc: 0.9934 - val_loss: 2.2347 - val_acc: 0.7274\n",
      "Epoch 113/200\n",
      "26/26 - 0s - loss: 0.0680 - acc: 0.9785 - val_loss: 1.9401 - val_acc: 0.7293\n",
      "Epoch 114/200\n",
      "26/26 - 0s - loss: 0.0659 - acc: 0.9799 - val_loss: 1.9510 - val_acc: 0.7280\n",
      "Epoch 115/200\n",
      "26/26 - 0s - loss: 0.0524 - acc: 0.9830 - val_loss: 1.8863 - val_acc: 0.7311\n",
      "Epoch 116/200\n",
      "26/26 - 0s - loss: 0.0396 - acc: 0.9852 - val_loss: 2.0468 - val_acc: 0.7305\n",
      "Epoch 117/200\n",
      "26/26 - 0s - loss: 0.0232 - acc: 0.9936 - val_loss: 1.9610 - val_acc: 0.7305\n",
      "Epoch 118/200\n",
      "26/26 - 0s - loss: 0.0141 - acc: 0.9958 - val_loss: 2.0827 - val_acc: 0.7330\n",
      "Epoch 119/200\n",
      "26/26 - 0s - loss: 0.0173 - acc: 0.9936 - val_loss: 2.2496 - val_acc: 0.7324\n",
      "Epoch 120/200\n",
      "26/26 - 0s - loss: 0.0125 - acc: 0.9958 - val_loss: 2.2177 - val_acc: 0.7436\n",
      "Epoch 121/200\n",
      "26/26 - 0s - loss: 0.0156 - acc: 0.9961 - val_loss: 2.1742 - val_acc: 0.7411\n",
      "Epoch 122/200\n",
      "26/26 - 0s - loss: 0.0124 - acc: 0.9963 - val_loss: 2.3451 - val_acc: 0.7355\n",
      "Epoch 123/200\n",
      "26/26 - 0s - loss: 0.0101 - acc: 0.9963 - val_loss: 2.5996 - val_acc: 0.7280\n",
      "Epoch 124/200\n",
      "26/26 - 0s - loss: 0.1803 - acc: 0.9540 - val_loss: 1.5357 - val_acc: 0.7155\n",
      "Epoch 125/200\n",
      "26/26 - 0s - loss: 0.0769 - acc: 0.9755 - val_loss: 1.6066 - val_acc: 0.7436\n",
      "Epoch 126/200\n",
      "26/26 - 0s - loss: 0.0223 - acc: 0.9942 - val_loss: 1.9663 - val_acc: 0.7486\n",
      "Epoch 127/200\n",
      "26/26 - 0s - loss: 0.0254 - acc: 0.9928 - val_loss: 1.9205 - val_acc: 0.7361\n",
      "Epoch 128/200\n",
      "26/26 - 0s - loss: 0.0221 - acc: 0.9939 - val_loss: 1.9862 - val_acc: 0.7311\n",
      "Epoch 129/200\n",
      "26/26 - 0s - loss: 0.0338 - acc: 0.9891 - val_loss: 1.9278 - val_acc: 0.7205\n",
      "Epoch 130/200\n",
      "26/26 - 0s - loss: 0.0937 - acc: 0.9721 - val_loss: 1.6556 - val_acc: 0.7274\n",
      "Epoch 131/200\n",
      "26/26 - 0s - loss: 0.0624 - acc: 0.9813 - val_loss: 1.9350 - val_acc: 0.7274\n",
      "Epoch 132/200\n",
      "26/26 - 0s - loss: 0.0269 - acc: 0.9928 - val_loss: 1.9065 - val_acc: 0.7286\n",
      "Epoch 133/200\n",
      "26/26 - 0s - loss: 0.0113 - acc: 0.9969 - val_loss: 2.1159 - val_acc: 0.7417\n",
      "Epoch 134/200\n",
      "26/26 - 0s - loss: 0.0082 - acc: 0.9975 - val_loss: 2.1170 - val_acc: 0.7324\n",
      "Epoch 135/200\n",
      "26/26 - 0s - loss: 0.0066 - acc: 0.9975 - val_loss: 2.2543 - val_acc: 0.7330\n",
      "Epoch 136/200\n",
      "26/26 - 0s - loss: 0.0118 - acc: 0.9966 - val_loss: 2.2877 - val_acc: 0.7342\n",
      "Epoch 137/200\n",
      "26/26 - 0s - loss: 0.0089 - acc: 0.9970 - val_loss: 2.4761 - val_acc: 0.7311\n",
      "Epoch 138/200\n",
      "26/26 - 0s - loss: 0.0117 - acc: 0.9961 - val_loss: 2.3841 - val_acc: 0.7336\n",
      "Epoch 139/200\n",
      "26/26 - 0s - loss: 0.0119 - acc: 0.9958 - val_loss: 2.3654 - val_acc: 0.7293\n",
      "Epoch 140/200\n",
      "26/26 - 0s - loss: 0.0080 - acc: 0.9972 - val_loss: 2.3178 - val_acc: 0.7299\n",
      "Epoch 141/200\n",
      "26/26 - 0s - loss: 0.0101 - acc: 0.9978 - val_loss: 2.3248 - val_acc: 0.7330\n",
      "Epoch 142/200\n",
      "26/26 - 0s - loss: 0.0077 - acc: 0.9981 - val_loss: 2.3862 - val_acc: 0.7330\n",
      "Epoch 143/200\n",
      "26/26 - 0s - loss: 0.0055 - acc: 0.9978 - val_loss: 2.4923 - val_acc: 0.7293\n",
      "Epoch 144/200\n",
      "26/26 - 0s - loss: 0.0059 - acc: 0.9981 - val_loss: 2.5051 - val_acc: 0.7342\n",
      "Epoch 145/200\n",
      "26/26 - 0s - loss: 0.0075 - acc: 0.9977 - val_loss: 2.4222 - val_acc: 0.7436\n",
      "Epoch 146/200\n",
      "26/26 - 0s - loss: 0.0075 - acc: 0.9975 - val_loss: 2.5795 - val_acc: 0.7342\n",
      "Epoch 147/200\n",
      "26/26 - 0s - loss: 0.0061 - acc: 0.9986 - val_loss: 2.5708 - val_acc: 0.7374\n",
      "Epoch 148/200\n",
      "26/26 - 0s - loss: 0.0069 - acc: 0.9978 - val_loss: 2.8541 - val_acc: 0.7286\n",
      "Epoch 149/200\n",
      "26/26 - 0s - loss: 0.0194 - acc: 0.9938 - val_loss: 2.4855 - val_acc: 0.7211\n",
      "Epoch 150/200\n",
      "26/26 - 0s - loss: 0.0191 - acc: 0.9944 - val_loss: 2.5028 - val_acc: 0.7424\n",
      "Epoch 151/200\n",
      "26/26 - 0s - loss: 0.0142 - acc: 0.9949 - val_loss: 2.3255 - val_acc: 0.7361\n",
      "Epoch 152/200\n",
      "26/26 - 0s - loss: 0.0130 - acc: 0.9961 - val_loss: 2.3467 - val_acc: 0.7349\n",
      "Epoch 153/200\n",
      "26/26 - 0s - loss: 0.0120 - acc: 0.9953 - val_loss: 2.3152 - val_acc: 0.7386\n",
      "Epoch 154/200\n",
      "26/26 - 0s - loss: 0.0204 - acc: 0.9931 - val_loss: 2.6821 - val_acc: 0.7299\n",
      "Epoch 155/200\n",
      "26/26 - 0s - loss: 0.1183 - acc: 0.9677 - val_loss: 2.0829 - val_acc: 0.6862\n",
      "Epoch 156/200\n",
      "26/26 - 0s - loss: 0.3794 - acc: 0.8870 - val_loss: 1.3140 - val_acc: 0.7130\n",
      "Epoch 157/200\n",
      "26/26 - 0s - loss: 0.1074 - acc: 0.9660 - val_loss: 1.5664 - val_acc: 0.7305\n",
      "Epoch 158/200\n",
      "26/26 - 0s - loss: 0.0409 - acc: 0.9869 - val_loss: 1.6858 - val_acc: 0.7455\n",
      "Epoch 159/200\n",
      "26/26 - 0s - loss: 0.0310 - acc: 0.9911 - val_loss: 1.8452 - val_acc: 0.7261\n",
      "Epoch 160/200\n",
      "26/26 - 0s - loss: 0.0281 - acc: 0.9924 - val_loss: 1.8889 - val_acc: 0.7417\n",
      "Epoch 161/200\n",
      "26/26 - 0s - loss: 0.0311 - acc: 0.9916 - val_loss: 1.9073 - val_acc: 0.7330\n",
      "Epoch 162/200\n",
      "26/26 - 0s - loss: 0.0135 - acc: 0.9955 - val_loss: 1.9047 - val_acc: 0.7355\n",
      "Epoch 163/200\n",
      "26/26 - 0s - loss: 0.0052 - acc: 0.9989 - val_loss: 2.0519 - val_acc: 0.7367\n",
      "Epoch 164/200\n",
      "26/26 - 0s - loss: 0.0038 - acc: 0.9992 - val_loss: 2.2402 - val_acc: 0.7461\n",
      "Epoch 165/200\n",
      "26/26 - 0s - loss: 0.0046 - acc: 0.9984 - val_loss: 2.3745 - val_acc: 0.7355\n",
      "Epoch 166/200\n",
      "26/26 - 0s - loss: 0.0087 - acc: 0.9975 - val_loss: 2.4055 - val_acc: 0.7336\n",
      "Epoch 167/200\n",
      "26/26 - 0s - loss: 0.0107 - acc: 0.9967 - val_loss: 2.1412 - val_acc: 0.7286\n",
      "Epoch 168/200\n",
      "26/26 - 0s - loss: 0.0133 - acc: 0.9952 - val_loss: 2.1141 - val_acc: 0.7380\n",
      "Epoch 169/200\n",
      "26/26 - 0s - loss: 0.0095 - acc: 0.9972 - val_loss: 2.1855 - val_acc: 0.7374\n",
      "Epoch 170/200\n",
      "26/26 - 0s - loss: 0.0064 - acc: 0.9981 - val_loss: 2.3902 - val_acc: 0.7374\n",
      "Epoch 171/200\n",
      "26/26 - 0s - loss: 0.0111 - acc: 0.9966 - val_loss: 2.1566 - val_acc: 0.7293\n",
      "Epoch 172/200\n",
      "26/26 - 0s - loss: 0.0073 - acc: 0.9977 - val_loss: 2.2799 - val_acc: 0.7330\n",
      "Epoch 173/200\n",
      "26/26 - 0s - loss: 0.0081 - acc: 0.9967 - val_loss: 2.4327 - val_acc: 0.7236\n",
      "Epoch 174/200\n",
      "26/26 - 0s - loss: 0.0071 - acc: 0.9972 - val_loss: 2.3898 - val_acc: 0.7367\n",
      "Epoch 175/200\n",
      "26/26 - 0s - loss: 0.0087 - acc: 0.9972 - val_loss: 2.1406 - val_acc: 0.7330\n",
      "Epoch 176/200\n",
      "26/26 - 0s - loss: 0.0047 - acc: 0.9983 - val_loss: 2.3362 - val_acc: 0.7380\n",
      "Epoch 177/200\n",
      "26/26 - 0s - loss: 0.0072 - acc: 0.9980 - val_loss: 2.4971 - val_acc: 0.7411\n",
      "Epoch 178/200\n",
      "26/26 - 0s - loss: 0.0061 - acc: 0.9980 - val_loss: 2.4099 - val_acc: 0.7455\n",
      "Epoch 179/200\n",
      "26/26 - 0s - loss: 0.0119 - acc: 0.9981 - val_loss: 2.4342 - val_acc: 0.7399\n",
      "Epoch 180/200\n",
      "26/26 - 0s - loss: 0.0320 - acc: 0.9931 - val_loss: 2.3589 - val_acc: 0.7349\n",
      "Epoch 181/200\n",
      "26/26 - 0s - loss: 0.0779 - acc: 0.9766 - val_loss: 1.7939 - val_acc: 0.7236\n",
      "Epoch 182/200\n",
      "26/26 - 0s - loss: 0.0269 - acc: 0.9919 - val_loss: 1.9202 - val_acc: 0.7405\n",
      "Epoch 183/200\n",
      "26/26 - 0s - loss: 0.0146 - acc: 0.9969 - val_loss: 2.0275 - val_acc: 0.7286\n",
      "Epoch 184/200\n",
      "26/26 - 0s - loss: 0.0076 - acc: 0.9972 - val_loss: 2.1899 - val_acc: 0.7399\n",
      "Epoch 185/200\n",
      "26/26 - 0s - loss: 0.0057 - acc: 0.9983 - val_loss: 2.2466 - val_acc: 0.7355\n",
      "Epoch 186/200\n",
      "26/26 - 0s - loss: 0.0044 - acc: 0.9983 - val_loss: 2.3034 - val_acc: 0.7367\n",
      "Epoch 187/200\n",
      "26/26 - 0s - loss: 0.0043 - acc: 0.9989 - val_loss: 2.4976 - val_acc: 0.7417\n",
      "Epoch 188/200\n",
      "26/26 - 0s - loss: 0.0032 - acc: 0.9991 - val_loss: 2.5408 - val_acc: 0.7405\n",
      "Epoch 189/200\n",
      "26/26 - 0s - loss: 0.0078 - acc: 0.9972 - val_loss: 2.3947 - val_acc: 0.7324\n",
      "Epoch 190/200\n",
      "26/26 - 0s - loss: 0.0094 - acc: 0.9969 - val_loss: 2.3591 - val_acc: 0.7361\n",
      "Epoch 191/200\n",
      "26/26 - 0s - loss: 0.0054 - acc: 0.9988 - val_loss: 2.3104 - val_acc: 0.7392\n",
      "Epoch 192/200\n",
      "26/26 - 0s - loss: 0.0057 - acc: 0.9983 - val_loss: 2.2001 - val_acc: 0.7361\n",
      "Epoch 193/200\n",
      "26/26 - 0s - loss: 0.0093 - acc: 0.9980 - val_loss: 2.2858 - val_acc: 0.7417\n",
      "Epoch 194/200\n",
      "26/26 - 0s - loss: 0.0122 - acc: 0.9961 - val_loss: 2.2449 - val_acc: 0.7399\n",
      "Epoch 195/200\n",
      "26/26 - 0s - loss: 0.0177 - acc: 0.9950 - val_loss: 2.2142 - val_acc: 0.7405\n",
      "Epoch 196/200\n",
      "26/26 - 0s - loss: 0.0095 - acc: 0.9972 - val_loss: 2.2920 - val_acc: 0.7374\n",
      "Epoch 197/200\n",
      "26/26 - 0s - loss: 0.0043 - acc: 0.9988 - val_loss: 2.3294 - val_acc: 0.7305\n",
      "Epoch 198/200\n",
      "26/26 - 0s - loss: 0.0058 - acc: 0.9983 - val_loss: 2.5520 - val_acc: 0.7318\n",
      "Epoch 199/200\n",
      "26/26 - 0s - loss: 0.0046 - acc: 0.9983 - val_loss: 2.5060 - val_acc: 0.7336\n",
      "Epoch 200/200\n",
      "26/26 - 0s - loss: 0.0061 - acc: 0.9980 - val_loss: 2.3175 - val_acc: 0.7467\n"
     ]
    }
   ],
   "source": [
    "try:\n",
    "    model_CNN_V1.load_weights('model/CNN_weight.h5')\n",
    "except:\n",
    "    print(\"new model_CNN_V1\")\n",
    "\n",
    "batch_size = 256\n",
    "epochs = 200\n",
    "\n",
    "train_history = model_CNN_V1.fit(\n",
    "    train_data,train_label,\n",
    "    epochs=epochs,\n",
    "    validation_split=0.2,\n",
    "    batch_size=batch_size,\n",
    "    verbose=2,class_weight=class_weight)"
   ],
   "metadata": {
    "collapsed": false,
    "pycharm": {
     "name": "#%%\n"
    }
   }
  },
  {
   "cell_type": "code",
   "execution_count": 12,
   "outputs": [],
   "source": [
    "model_CNN_V1.save_weights('model/CNN_weight.h5')\n",
    "model_CNN_V1.save('model/CNN_V1.h5')"
   ],
   "metadata": {
    "collapsed": false,
    "pycharm": {
     "name": "#%%\n"
    }
   }
  },
  {
   "cell_type": "markdown",
   "source": [
    "# Applying Over Sampling"
   ],
   "metadata": {
    "collapsed": false,
    "pycharm": {
     "name": "#%% md\n"
    }
   }
  },
  {
   "cell_type": "code",
   "execution_count": 13,
   "outputs": [
    {
     "name": "stderr",
     "output_type": "stream",
     "text": [
      "C:\\Users\\andre\\anaconda3\\envs\\cmpt340_conda\\lib\\site-packages\\sklearn\\utils\\validation.py:70: FutureWarning: Pass classes=[0 1 2 3 4 5 6] as keyword args. From version 1.0 (renaming of 0.25) passing these as positional arguments will result in an error\n",
      "  warnings.warn(f\"Pass {args_msg} as keyword args. From version \"\n"
     ]
    }
   ],
   "source": [
    "from imblearn.over_sampling import SMOTE\n",
    "smote_sample = SMOTE(random_state=87)\n",
    "train_data = train_data.reshape(-1,image_size*image_size*3)\n",
    "train_data_oversample, train_label_oversample = smote_sample.fit_resample(train_data, train_label)\n",
    "train_data_oversample = train_data_oversample.reshape(-1,image_size,image_size,3)\n",
    "train_data = train_data.reshape(-1,image_size,image_size,3)"
   ],
   "metadata": {
    "collapsed": false,
    "pycharm": {
     "name": "#%%\n"
    }
   }
  },
  {
   "cell_type": "markdown",
   "source": [
    "# Setup CNN Model V2"
   ],
   "metadata": {
    "collapsed": false,
    "pycharm": {
     "name": "#%% md\n"
    }
   }
  },
  {
   "cell_type": "code",
   "execution_count": 14,
   "outputs": [
    {
     "name": "stdout",
     "output_type": "stream",
     "text": [
      "Model: \"sequential_1\"\n",
      "_________________________________________________________________\n",
      "Layer (type)                 Output Shape              Param #   \n",
      "=================================================================\n",
      "conv2d_6 (Conv2D)            (None, 32, 32, 32)        896       \n",
      "_________________________________________________________________\n",
      "dropout_5 (Dropout)          (None, 32, 32, 32)        0         \n",
      "_________________________________________________________________\n",
      "conv2d_7 (Conv2D)            (None, 32, 32, 32)        9248      \n",
      "_________________________________________________________________\n",
      "max_pooling2d_3 (MaxPooling2 (None, 16, 16, 32)        0         \n",
      "_________________________________________________________________\n",
      "conv2d_8 (Conv2D)            (None, 16, 16, 64)        18496     \n",
      "_________________________________________________________________\n",
      "dropout_6 (Dropout)          (None, 16, 16, 64)        0         \n",
      "_________________________________________________________________\n",
      "conv2d_9 (Conv2D)            (None, 16, 16, 64)        36928     \n",
      "_________________________________________________________________\n",
      "max_pooling2d_4 (MaxPooling2 (None, 8, 8, 64)          0         \n",
      "_________________________________________________________________\n",
      "conv2d_10 (Conv2D)           (None, 8, 8, 128)         73856     \n",
      "_________________________________________________________________\n",
      "dropout_7 (Dropout)          (None, 8, 8, 128)         0         \n",
      "_________________________________________________________________\n",
      "conv2d_11 (Conv2D)           (None, 8, 8, 128)         147584    \n",
      "_________________________________________________________________\n",
      "max_pooling2d_5 (MaxPooling2 (None, 4, 4, 128)         0         \n",
      "_________________________________________________________________\n",
      "flatten_1 (Flatten)          (None, 2048)              0         \n",
      "_________________________________________________________________\n",
      "dropout_8 (Dropout)          (None, 2048)              0         \n",
      "_________________________________________________________________\n",
      "dense_3 (Dense)              (None, 2048)              4196352   \n",
      "_________________________________________________________________\n",
      "dropout_9 (Dropout)          (None, 2048)              0         \n",
      "_________________________________________________________________\n",
      "dense_4 (Dense)              (None, 1024)              2098176   \n",
      "_________________________________________________________________\n",
      "dropout_10 (Dropout)         (None, 1024)              0         \n",
      "_________________________________________________________________\n",
      "dense_5 (Dense)              (None, 7)                 7175      \n",
      "=================================================================\n",
      "Total params: 6,588,711\n",
      "Trainable params: 6,588,711\n",
      "Non-trainable params: 0\n",
      "_________________________________________________________________\n"
     ]
    }
   ],
   "source": [
    "from tensorflow.keras.models import Sequential\n",
    "from tensorflow.keras.layers import Dense,Dropout,Flatten,Conv2D,MaxPooling2D,BatchNormalization\n",
    "num_classes = 7\n",
    "dimension = image_size*image_size*3\n",
    "\n",
    "model_CNN_V2 = Sequential()\n",
    "\n",
    "#CNN layer 1:\n",
    "model_CNN_V2.add(Conv2D(filters=32,kernel_size=(3,3),input_shape=(image_size,image_size,3),activation='relu',padding='same'))\n",
    "model_CNN_V2.add(Dropout(0.2))\n",
    "model_CNN_V2.add(Conv2D(filters=32,kernel_size=(3,3),activation='relu',padding='same'))\n",
    "model_CNN_V2.add(MaxPooling2D(pool_size=(2,2)))\n",
    "\n",
    "#CNN layer 2\n",
    "model_CNN_V2.add(Conv2D(filters=64,kernel_size=(3,3),activation='relu',padding='same'))\n",
    "model_CNN_V2.add(Dropout(0.2))\n",
    "model_CNN_V2.add(Conv2D(filters=64,kernel_size=(3,3),activation='relu',padding='same'))\n",
    "model_CNN_V2.add(MaxPooling2D(pool_size=(2,2)))\n",
    "\n",
    "#CNN layer 3\n",
    "model_CNN_V2.add(Conv2D(filters=128,kernel_size=(3,3),activation='relu',padding='same'))\n",
    "model_CNN_V2.add(Dropout(0.2))\n",
    "model_CNN_V2.add(Conv2D(filters=128,kernel_size=(3,3),activation='relu',padding='same'))\n",
    "model_CNN_V2.add(MaxPooling2D(pool_size=(2,2)))\n",
    "\n",
    "#Flatten layer\n",
    "model_CNN_V2.add(Flatten())\n",
    "model_CNN_V2.add(Dropout(0.4))\n",
    "\n",
    "#hidden layer 1\n",
    "model_CNN_V2.add(Dense(2048,activation='relu'))\n",
    "model_CNN_V2.add(Dropout(0.4))\n",
    "\n",
    "#hidden layer 2\n",
    "model_CNN_V2.add(Dense(1024,activation='relu'))\n",
    "model_CNN_V2.add(Dropout(0.4))\n",
    "\n",
    "#output layer\n",
    "model_CNN_V2.add(Dense(7,activation='softmax'))\n",
    "model_CNN_V2.summary()\n",
    "\n",
    "model_CNN_V2.compile(loss='categorical_crossentropy', optimizer='Adam', metrics=['acc'])\n"
   ],
   "metadata": {
    "collapsed": false,
    "pycharm": {
     "name": "#%%\n"
    }
   }
  },
  {
   "cell_type": "markdown",
   "source": [
    "# Train CNN V2"
   ],
   "metadata": {
    "collapsed": false,
    "pycharm": {
     "name": "#%% md\n"
    }
   }
  },
  {
   "cell_type": "code",
   "execution_count": 15,
   "outputs": [
    {
     "name": "stdout",
     "output_type": "stream",
     "text": [
      "new model_CNN_V2\n",
      "Epoch 1/200\n",
      "118/118 - 2s - loss: 1.7469 - acc: 0.2230 - val_loss: 3.5960 - val_acc: 0.0059\n",
      "Epoch 2/200\n",
      "118/118 - 2s - loss: 1.4328 - acc: 0.3757 - val_loss: 3.7772 - val_acc: 0.1012\n",
      "Epoch 3/200\n",
      "118/118 - 2s - loss: 1.2334 - acc: 0.5019 - val_loss: 4.4782 - val_acc: 0.0936\n",
      "Epoch 4/200\n",
      "118/118 - 2s - loss: 1.0265 - acc: 0.6054 - val_loss: 4.4333 - val_acc: 0.1298\n",
      "Epoch 5/200\n",
      "118/118 - 2s - loss: 0.8018 - acc: 0.7028 - val_loss: 3.1145 - val_acc: 0.2100\n",
      "Epoch 6/200\n",
      "118/118 - 2s - loss: 0.6639 - acc: 0.7532 - val_loss: 3.0063 - val_acc: 0.2153\n",
      "Epoch 7/200\n",
      "118/118 - 2s - loss: 0.5440 - acc: 0.7973 - val_loss: 2.1700 - val_acc: 0.2718\n",
      "Epoch 8/200\n",
      "118/118 - 2s - loss: 0.4505 - acc: 0.8335 - val_loss: 1.5187 - val_acc: 0.5238\n",
      "Epoch 9/200\n",
      "118/118 - 2s - loss: 0.3904 - acc: 0.8544 - val_loss: 1.3178 - val_acc: 0.5827\n",
      "Epoch 10/200\n",
      "118/118 - 2s - loss: 0.3650 - acc: 0.8630 - val_loss: 1.3989 - val_acc: 0.5411\n",
      "Epoch 11/200\n",
      "118/118 - 2s - loss: 0.3118 - acc: 0.8835 - val_loss: 1.0671 - val_acc: 0.6827\n",
      "Epoch 12/200\n",
      "118/118 - 2s - loss: 0.2854 - acc: 0.8937 - val_loss: 0.9850 - val_acc: 0.6751\n",
      "Epoch 13/200\n",
      "118/118 - 2s - loss: 0.2598 - acc: 0.9030 - val_loss: 0.8288 - val_acc: 0.7249\n",
      "Epoch 14/200\n",
      "118/118 - 2s - loss: 0.2330 - acc: 0.9136 - val_loss: 0.8287 - val_acc: 0.7527\n",
      "Epoch 15/200\n",
      "118/118 - 2s - loss: 0.2134 - acc: 0.9200 - val_loss: 0.7716 - val_acc: 0.7638\n",
      "Epoch 16/200\n",
      "118/118 - 2s - loss: 0.2232 - acc: 0.9171 - val_loss: 0.5786 - val_acc: 0.8198\n",
      "Epoch 17/200\n",
      "118/118 - 2s - loss: 0.1835 - acc: 0.9313 - val_loss: 0.2648 - val_acc: 0.9197\n",
      "Epoch 18/200\n",
      "118/118 - 2s - loss: 0.1764 - acc: 0.9332 - val_loss: 0.3800 - val_acc: 0.8770\n",
      "Epoch 19/200\n",
      "118/118 - 2s - loss: 0.1643 - acc: 0.9390 - val_loss: 0.2300 - val_acc: 0.9316\n",
      "Epoch 20/200\n",
      "118/118 - 2s - loss: 0.1621 - acc: 0.9391 - val_loss: 0.3296 - val_acc: 0.8939\n",
      "Epoch 21/200\n",
      "118/118 - 2s - loss: 0.1550 - acc: 0.9423 - val_loss: 0.2969 - val_acc: 0.8911\n",
      "Epoch 22/200\n",
      "118/118 - 2s - loss: 0.1454 - acc: 0.9465 - val_loss: 0.2470 - val_acc: 0.9297\n",
      "Epoch 23/200\n",
      "118/118 - 2s - loss: 0.1357 - acc: 0.9485 - val_loss: 0.2785 - val_acc: 0.9091\n",
      "Epoch 24/200\n",
      "118/118 - 2s - loss: 0.1418 - acc: 0.9483 - val_loss: 0.4213 - val_acc: 0.8662\n",
      "Epoch 25/200\n",
      "118/118 - 2s - loss: 0.1271 - acc: 0.9538 - val_loss: 0.2713 - val_acc: 0.9186\n",
      "Epoch 26/200\n",
      "118/118 - 2s - loss: 0.1238 - acc: 0.9557 - val_loss: 0.1611 - val_acc: 0.9458\n",
      "Epoch 27/200\n",
      "118/118 - 2s - loss: 0.1145 - acc: 0.9584 - val_loss: 0.1453 - val_acc: 0.9605\n",
      "Epoch 28/200\n",
      "118/118 - 2s - loss: 0.1107 - acc: 0.9599 - val_loss: 0.1586 - val_acc: 0.9561\n",
      "Epoch 29/200\n",
      "118/118 - 2s - loss: 0.1169 - acc: 0.9567 - val_loss: 0.1846 - val_acc: 0.9403\n",
      "Epoch 30/200\n",
      "118/118 - 2s - loss: 0.1004 - acc: 0.9629 - val_loss: 0.1381 - val_acc: 0.9670\n",
      "Epoch 31/200\n",
      "118/118 - 2s - loss: 0.1111 - acc: 0.9592 - val_loss: 0.1856 - val_acc: 0.9510\n",
      "Epoch 32/200\n",
      "118/118 - 2s - loss: 0.0932 - acc: 0.9653 - val_loss: 0.1502 - val_acc: 0.9585\n",
      "Epoch 33/200\n",
      "118/118 - 2s - loss: 0.0938 - acc: 0.9662 - val_loss: 0.1507 - val_acc: 0.9636\n",
      "Epoch 34/200\n",
      "118/118 - 2s - loss: 0.0971 - acc: 0.9639 - val_loss: 0.1074 - val_acc: 0.9698\n",
      "Epoch 35/200\n",
      "118/118 - 2s - loss: 0.0927 - acc: 0.9668 - val_loss: 0.1210 - val_acc: 0.9703\n",
      "Epoch 36/200\n",
      "118/118 - 2s - loss: 0.1063 - acc: 0.9623 - val_loss: 0.1032 - val_acc: 0.9752\n",
      "Epoch 37/200\n",
      "118/118 - 2s - loss: 0.0965 - acc: 0.9657 - val_loss: 0.1441 - val_acc: 0.9607\n",
      "Epoch 38/200\n",
      "118/118 - 2s - loss: 0.0824 - acc: 0.9707 - val_loss: 0.1201 - val_acc: 0.9663\n",
      "Epoch 39/200\n",
      "118/118 - 2s - loss: 0.0824 - acc: 0.9704 - val_loss: 0.1179 - val_acc: 0.9662\n",
      "Epoch 40/200\n",
      "118/118 - 2s - loss: 0.0884 - acc: 0.9691 - val_loss: 0.1366 - val_acc: 0.9582\n",
      "Epoch 41/200\n",
      "118/118 - 2s - loss: 0.0769 - acc: 0.9722 - val_loss: 0.0604 - val_acc: 0.9855\n",
      "Epoch 42/200\n",
      "118/118 - 2s - loss: 0.0811 - acc: 0.9719 - val_loss: 0.2014 - val_acc: 0.9426\n",
      "Epoch 43/200\n",
      "118/118 - 2s - loss: 0.0716 - acc: 0.9739 - val_loss: 0.1804 - val_acc: 0.9575\n",
      "Epoch 44/200\n",
      "118/118 - 2s - loss: 0.0753 - acc: 0.9742 - val_loss: 0.1542 - val_acc: 0.9542\n",
      "Epoch 45/200\n",
      "118/118 - 2s - loss: 0.0811 - acc: 0.9723 - val_loss: 0.0811 - val_acc: 0.9774\n",
      "Epoch 46/200\n",
      "118/118 - 2s - loss: 0.0816 - acc: 0.9711 - val_loss: 0.0841 - val_acc: 0.9804\n",
      "Epoch 47/200\n",
      "118/118 - 2s - loss: 0.0682 - acc: 0.9758 - val_loss: 0.0673 - val_acc: 0.9827\n",
      "Epoch 48/200\n",
      "118/118 - 2s - loss: 0.0632 - acc: 0.9781 - val_loss: 0.2206 - val_acc: 0.9433\n",
      "Epoch 49/200\n",
      "118/118 - 5s - loss: 0.0707 - acc: 0.9750 - val_loss: 0.2167 - val_acc: 0.9373\n",
      "Epoch 50/200\n",
      "118/118 - 2s - loss: 0.0715 - acc: 0.9749 - val_loss: 0.0463 - val_acc: 0.9891\n",
      "Epoch 51/200\n",
      "118/118 - 2s - loss: 0.0700 - acc: 0.9749 - val_loss: 0.1406 - val_acc: 0.9663\n",
      "Epoch 52/200\n",
      "118/118 - 2s - loss: 0.0655 - acc: 0.9769 - val_loss: 0.1019 - val_acc: 0.9731\n",
      "Epoch 53/200\n",
      "118/118 - 2s - loss: 0.0724 - acc: 0.9751 - val_loss: 0.0919 - val_acc: 0.9775\n",
      "Epoch 54/200\n",
      "118/118 - 2s - loss: 0.0582 - acc: 0.9792 - val_loss: 0.0682 - val_acc: 0.9835\n",
      "Epoch 55/200\n",
      "118/118 - 2s - loss: 0.0600 - acc: 0.9797 - val_loss: 0.0783 - val_acc: 0.9756\n",
      "Epoch 56/200\n",
      "118/118 - 2s - loss: 0.0577 - acc: 0.9794 - val_loss: 0.0565 - val_acc: 0.9844\n",
      "Epoch 57/200\n",
      "118/118 - 2s - loss: 0.0620 - acc: 0.9789 - val_loss: 0.0876 - val_acc: 0.9756\n",
      "Epoch 58/200\n",
      "118/118 - 2s - loss: 0.0811 - acc: 0.9714 - val_loss: 0.0499 - val_acc: 0.9871\n",
      "Epoch 59/200\n",
      "118/118 - 2s - loss: 0.0696 - acc: 0.9765 - val_loss: 0.0274 - val_acc: 0.9932\n",
      "Epoch 60/200\n",
      "118/118 - 2s - loss: 0.0602 - acc: 0.9789 - val_loss: 0.0771 - val_acc: 0.9798\n",
      "Epoch 61/200\n",
      "118/118 - 2s - loss: 0.0652 - acc: 0.9767 - val_loss: 0.0538 - val_acc: 0.9832\n",
      "Epoch 62/200\n",
      "118/118 - 2s - loss: 0.0655 - acc: 0.9773 - val_loss: 0.0715 - val_acc: 0.9820\n",
      "Epoch 63/200\n",
      "118/118 - 2s - loss: 0.0591 - acc: 0.9795 - val_loss: 0.0399 - val_acc: 0.9899\n",
      "Epoch 64/200\n",
      "118/118 - 2s - loss: 0.0633 - acc: 0.9783 - val_loss: 0.5401 - val_acc: 0.9024\n",
      "Epoch 65/200\n",
      "118/118 - 2s - loss: 0.0640 - acc: 0.9789 - val_loss: 0.0694 - val_acc: 0.9828\n",
      "Epoch 66/200\n",
      "118/118 - 2s - loss: 0.0596 - acc: 0.9796 - val_loss: 0.0369 - val_acc: 0.9901\n",
      "Epoch 67/200\n",
      "118/118 - 2s - loss: 0.0584 - acc: 0.9789 - val_loss: 0.1272 - val_acc: 0.9628\n",
      "Epoch 68/200\n",
      "118/118 - 2s - loss: 0.0508 - acc: 0.9821 - val_loss: 0.0949 - val_acc: 0.9790\n",
      "Epoch 69/200\n",
      "118/118 - 2s - loss: 0.0460 - acc: 0.9849 - val_loss: 0.0657 - val_acc: 0.9832\n",
      "Epoch 70/200\n",
      "118/118 - 2s - loss: 0.0486 - acc: 0.9830 - val_loss: 0.0950 - val_acc: 0.9802\n",
      "Epoch 71/200\n",
      "118/118 - 2s - loss: 0.0498 - acc: 0.9836 - val_loss: 0.0647 - val_acc: 0.9838\n",
      "Epoch 72/200\n",
      "118/118 - 2s - loss: 0.0488 - acc: 0.9834 - val_loss: 0.1690 - val_acc: 0.9650\n",
      "Epoch 73/200\n",
      "118/118 - 2s - loss: 0.0571 - acc: 0.9809 - val_loss: 0.0774 - val_acc: 0.9795\n",
      "Epoch 74/200\n",
      "118/118 - 2s - loss: 0.0597 - acc: 0.9802 - val_loss: 0.0673 - val_acc: 0.9818\n",
      "Epoch 75/200\n",
      "118/118 - 2s - loss: 0.0641 - acc: 0.9780 - val_loss: 0.0760 - val_acc: 0.9800\n",
      "Epoch 76/200\n",
      "118/118 - 2s - loss: 0.0487 - acc: 0.9831 - val_loss: 0.0863 - val_acc: 0.9791\n",
      "Epoch 77/200\n",
      "118/118 - 2s - loss: 0.0568 - acc: 0.9818 - val_loss: 0.0515 - val_acc: 0.9844\n",
      "Epoch 78/200\n",
      "118/118 - 2s - loss: 0.0477 - acc: 0.9839 - val_loss: 0.0338 - val_acc: 0.9900\n",
      "Epoch 79/200\n",
      "118/118 - 2s - loss: 0.0525 - acc: 0.9829 - val_loss: 0.1036 - val_acc: 0.9691\n",
      "Epoch 80/200\n",
      "118/118 - 2s - loss: 0.0553 - acc: 0.9810 - val_loss: 0.0996 - val_acc: 0.9748\n",
      "Epoch 81/200\n",
      "118/118 - 2s - loss: 0.0432 - acc: 0.9852 - val_loss: 0.0551 - val_acc: 0.9871\n",
      "Epoch 82/200\n",
      "118/118 - 2s - loss: 0.0490 - acc: 0.9840 - val_loss: 0.1096 - val_acc: 0.9755\n",
      "Epoch 83/200\n",
      "118/118 - 2s - loss: 0.0623 - acc: 0.9797 - val_loss: 0.0830 - val_acc: 0.9735\n",
      "Epoch 84/200\n",
      "118/118 - 2s - loss: 0.0456 - acc: 0.9847 - val_loss: 0.0953 - val_acc: 0.9735\n",
      "Epoch 85/200\n",
      "118/118 - 2s - loss: 0.0445 - acc: 0.9853 - val_loss: 0.1021 - val_acc: 0.9719\n",
      "Epoch 86/200\n",
      "118/118 - 2s - loss: 0.0512 - acc: 0.9823 - val_loss: 0.0437 - val_acc: 0.9891\n",
      "Epoch 87/200\n",
      "118/118 - 2s - loss: 0.0587 - acc: 0.9812 - val_loss: 0.0466 - val_acc: 0.9868\n",
      "Epoch 88/200\n",
      "118/118 - 2s - loss: 0.0435 - acc: 0.9857 - val_loss: 0.0633 - val_acc: 0.9863\n",
      "Epoch 89/200\n",
      "118/118 - 2s - loss: 0.0520 - acc: 0.9827 - val_loss: 0.0803 - val_acc: 0.9779\n",
      "Epoch 90/200\n",
      "118/118 - 2s - loss: 0.0516 - acc: 0.9824 - val_loss: 0.0372 - val_acc: 0.9903\n",
      "Epoch 91/200\n",
      "118/118 - 2s - loss: 0.0487 - acc: 0.9843 - val_loss: 0.1444 - val_acc: 0.9594\n",
      "Epoch 92/200\n",
      "118/118 - 2s - loss: 0.0701 - acc: 0.9776 - val_loss: 0.0724 - val_acc: 0.9826\n",
      "Epoch 93/200\n",
      "118/118 - 2s - loss: 0.0524 - acc: 0.9824 - val_loss: 0.0637 - val_acc: 0.9840\n",
      "Epoch 94/200\n",
      "118/118 - 2s - loss: 0.0406 - acc: 0.9858 - val_loss: 0.0389 - val_acc: 0.9893\n",
      "Epoch 95/200\n",
      "118/118 - 6s - loss: 0.0453 - acc: 0.9844 - val_loss: 0.0445 - val_acc: 0.9867\n",
      "Epoch 96/200\n",
      "118/118 - 2s - loss: 0.0445 - acc: 0.9845 - val_loss: 0.0406 - val_acc: 0.9892\n",
      "Epoch 97/200\n",
      "118/118 - 2s - loss: 0.0515 - acc: 0.9836 - val_loss: 0.0396 - val_acc: 0.9880\n",
      "Epoch 98/200\n",
      "118/118 - 2s - loss: 0.0346 - acc: 0.9877 - val_loss: 0.0652 - val_acc: 0.9850\n",
      "Epoch 99/200\n",
      "118/118 - 2s - loss: 0.0492 - acc: 0.9833 - val_loss: 0.0565 - val_acc: 0.9862\n",
      "Epoch 100/200\n",
      "118/118 - 2s - loss: 0.0498 - acc: 0.9833 - val_loss: 0.0584 - val_acc: 0.9847\n",
      "Epoch 101/200\n",
      "118/118 - 2s - loss: 0.0417 - acc: 0.9858 - val_loss: 0.0466 - val_acc: 0.9839\n",
      "Epoch 102/200\n",
      "118/118 - 2s - loss: 0.0524 - acc: 0.9830 - val_loss: 0.0803 - val_acc: 0.9832\n",
      "Epoch 103/200\n",
      "118/118 - 2s - loss: 0.0489 - acc: 0.9835 - val_loss: 0.1827 - val_acc: 0.9437\n",
      "Epoch 104/200\n",
      "118/118 - 2s - loss: 0.0368 - acc: 0.9879 - val_loss: 0.0799 - val_acc: 0.9826\n",
      "Epoch 105/200\n",
      "118/118 - 2s - loss: 0.0362 - acc: 0.9883 - val_loss: 0.0542 - val_acc: 0.9888\n",
      "Epoch 106/200\n",
      "118/118 - 2s - loss: 0.0519 - acc: 0.9834 - val_loss: 0.0572 - val_acc: 0.9851\n",
      "Epoch 107/200\n",
      "118/118 - 2s - loss: 0.0467 - acc: 0.9840 - val_loss: 0.0358 - val_acc: 0.9916\n",
      "Epoch 108/200\n",
      "118/118 - 2s - loss: 0.0384 - acc: 0.9871 - val_loss: 0.0439 - val_acc: 0.9888\n",
      "Epoch 109/200\n",
      "118/118 - 2s - loss: 0.0517 - acc: 0.9846 - val_loss: 0.0737 - val_acc: 0.9822\n",
      "Epoch 110/200\n",
      "118/118 - 2s - loss: 0.0456 - acc: 0.9853 - val_loss: 0.0635 - val_acc: 0.9846\n",
      "Epoch 111/200\n",
      "118/118 - 2s - loss: 0.0490 - acc: 0.9838 - val_loss: 0.0706 - val_acc: 0.9839\n",
      "Epoch 112/200\n",
      "118/118 - 2s - loss: 0.0363 - acc: 0.9884 - val_loss: 0.0853 - val_acc: 0.9784\n",
      "Epoch 113/200\n",
      "118/118 - 2s - loss: 0.0417 - acc: 0.9862 - val_loss: 0.0500 - val_acc: 0.9888\n",
      "Epoch 114/200\n",
      "118/118 - 2s - loss: 0.0463 - acc: 0.9853 - val_loss: 0.1595 - val_acc: 0.9609\n",
      "Epoch 115/200\n",
      "118/118 - 2s - loss: 0.0469 - acc: 0.9858 - val_loss: 0.0665 - val_acc: 0.9838\n",
      "Epoch 116/200\n",
      "118/118 - 2s - loss: 0.0527 - acc: 0.9831 - val_loss: 0.1094 - val_acc: 0.9722\n",
      "Epoch 117/200\n",
      "118/118 - 2s - loss: 0.0554 - acc: 0.9820 - val_loss: 0.0938 - val_acc: 0.9784\n",
      "Epoch 118/200\n",
      "118/118 - 2s - loss: 0.0300 - acc: 0.9896 - val_loss: 0.0291 - val_acc: 0.9913\n",
      "Epoch 119/200\n",
      "118/118 - 2s - loss: 0.0466 - acc: 0.9855 - val_loss: 0.0532 - val_acc: 0.9832\n",
      "Epoch 120/200\n",
      "118/118 - 2s - loss: 0.0578 - acc: 0.9815 - val_loss: 0.0847 - val_acc: 0.9812\n",
      "Epoch 121/200\n",
      "118/118 - 2s - loss: 0.0354 - acc: 0.9878 - val_loss: 0.0259 - val_acc: 0.9925\n",
      "Epoch 122/200\n",
      "118/118 - 2s - loss: 0.0404 - acc: 0.9865 - val_loss: 0.0727 - val_acc: 0.9822\n",
      "Epoch 123/200\n",
      "118/118 - 2s - loss: 0.0443 - acc: 0.9851 - val_loss: 0.0674 - val_acc: 0.9818\n",
      "Epoch 124/200\n",
      "118/118 - 2s - loss: 0.0403 - acc: 0.9871 - val_loss: 0.0499 - val_acc: 0.9889\n",
      "Epoch 125/200\n",
      "118/118 - 2s - loss: 0.0430 - acc: 0.9857 - val_loss: 0.0358 - val_acc: 0.9911\n",
      "Epoch 126/200\n",
      "118/118 - 2s - loss: 0.0409 - acc: 0.9868 - val_loss: 0.0485 - val_acc: 0.9876\n",
      "Epoch 127/200\n",
      "118/118 - 2s - loss: 0.0387 - acc: 0.9867 - val_loss: 0.0767 - val_acc: 0.9808\n",
      "Epoch 128/200\n",
      "118/118 - 2s - loss: 0.0397 - acc: 0.9879 - val_loss: 0.0547 - val_acc: 0.9876\n",
      "Epoch 129/200\n",
      "118/118 - 2s - loss: 0.0324 - acc: 0.9895 - val_loss: 0.0304 - val_acc: 0.9924\n",
      "Epoch 130/200\n",
      "118/118 - 2s - loss: 0.0335 - acc: 0.9900 - val_loss: 0.0671 - val_acc: 0.9868\n",
      "Epoch 131/200\n",
      "118/118 - 2s - loss: 0.0372 - acc: 0.9873 - val_loss: 0.0500 - val_acc: 0.9905\n",
      "Epoch 132/200\n",
      "118/118 - 2s - loss: 0.0421 - acc: 0.9866 - val_loss: 0.2217 - val_acc: 0.9644\n",
      "Epoch 133/200\n",
      "118/118 - 2s - loss: 0.0537 - acc: 0.9829 - val_loss: 0.1327 - val_acc: 0.9744\n",
      "Epoch 134/200\n",
      "118/118 - 2s - loss: 0.0422 - acc: 0.9862 - val_loss: 0.0688 - val_acc: 0.9816\n",
      "Epoch 135/200\n",
      "118/118 - 2s - loss: 0.0451 - acc: 0.9852 - val_loss: 0.0217 - val_acc: 0.9952\n",
      "Epoch 136/200\n",
      "118/118 - 2s - loss: 0.0554 - acc: 0.9825 - val_loss: 0.0517 - val_acc: 0.9880\n",
      "Epoch 137/200\n",
      "118/118 - 2s - loss: 0.0447 - acc: 0.9855 - val_loss: 0.0520 - val_acc: 0.9887\n",
      "Epoch 138/200\n",
      "118/118 - 2s - loss: 0.0290 - acc: 0.9898 - val_loss: 0.0370 - val_acc: 0.9909\n",
      "Epoch 139/200\n",
      "118/118 - 2s - loss: 0.0392 - acc: 0.9873 - val_loss: 0.0425 - val_acc: 0.9887\n",
      "Epoch 140/200\n",
      "118/118 - 2s - loss: 0.0373 - acc: 0.9878 - val_loss: 0.0652 - val_acc: 0.9860\n",
      "Epoch 141/200\n",
      "118/118 - 2s - loss: 0.0386 - acc: 0.9870 - val_loss: 0.0426 - val_acc: 0.9872\n",
      "Epoch 142/200\n",
      "118/118 - 4s - loss: 0.0378 - acc: 0.9884 - val_loss: 0.0708 - val_acc: 0.9824\n",
      "Epoch 143/200\n",
      "118/118 - 2s - loss: 0.0392 - acc: 0.9875 - val_loss: 0.0401 - val_acc: 0.9897\n",
      "Epoch 144/200\n",
      "118/118 - 2s - loss: 0.0367 - acc: 0.9885 - val_loss: 0.0294 - val_acc: 0.9932\n",
      "Epoch 145/200\n",
      "118/118 - 2s - loss: 0.0352 - acc: 0.9894 - val_loss: 0.1299 - val_acc: 0.9690\n",
      "Epoch 146/200\n",
      "118/118 - 2s - loss: 0.0372 - acc: 0.9884 - val_loss: 0.0442 - val_acc: 0.9854\n",
      "Epoch 147/200\n",
      "118/118 - 2s - loss: 0.0490 - acc: 0.9845 - val_loss: 0.0484 - val_acc: 0.9871\n",
      "Epoch 148/200\n",
      "118/118 - 2s - loss: 0.0481 - acc: 0.9856 - val_loss: 0.0458 - val_acc: 0.9863\n",
      "Epoch 149/200\n",
      "118/118 - 2s - loss: 0.0380 - acc: 0.9886 - val_loss: 0.0494 - val_acc: 0.9832\n",
      "Epoch 150/200\n",
      "118/118 - 2s - loss: 0.0370 - acc: 0.9878 - val_loss: 0.0546 - val_acc: 0.9859\n",
      "Epoch 151/200\n",
      "118/118 - 2s - loss: 0.0440 - acc: 0.9866 - val_loss: 0.0299 - val_acc: 0.9900\n",
      "Epoch 152/200\n",
      "118/118 - 2s - loss: 0.0373 - acc: 0.9877 - val_loss: 0.1646 - val_acc: 0.9565\n",
      "Epoch 153/200\n",
      "118/118 - 2s - loss: 0.0366 - acc: 0.9884 - val_loss: 0.0357 - val_acc: 0.9870\n",
      "Epoch 154/200\n",
      "118/118 - 2s - loss: 0.0375 - acc: 0.9888 - val_loss: 0.0392 - val_acc: 0.9905\n",
      "Epoch 155/200\n",
      "118/118 - 2s - loss: 0.0450 - acc: 0.9856 - val_loss: 0.0994 - val_acc: 0.9744\n",
      "Epoch 156/200\n",
      "118/118 - 2s - loss: 0.0360 - acc: 0.9885 - val_loss: 0.0381 - val_acc: 0.9903\n",
      "Epoch 157/200\n",
      "118/118 - 2s - loss: 0.0413 - acc: 0.9865 - val_loss: 0.0701 - val_acc: 0.9840\n",
      "Epoch 158/200\n",
      "118/118 - 2s - loss: 0.0368 - acc: 0.9884 - val_loss: 0.0468 - val_acc: 0.9844\n",
      "Epoch 159/200\n",
      "118/118 - 2s - loss: 0.0279 - acc: 0.9907 - val_loss: 0.0304 - val_acc: 0.9921\n",
      "Epoch 160/200\n",
      "118/118 - 2s - loss: 0.0424 - acc: 0.9869 - val_loss: 0.0771 - val_acc: 0.9810\n",
      "Epoch 161/200\n",
      "118/118 - 2s - loss: 0.0394 - acc: 0.9885 - val_loss: 0.0648 - val_acc: 0.9836\n",
      "Epoch 162/200\n",
      "118/118 - 2s - loss: 0.0378 - acc: 0.9879 - val_loss: 0.0408 - val_acc: 0.9876\n",
      "Epoch 163/200\n",
      "118/118 - 2s - loss: 0.0290 - acc: 0.9905 - val_loss: 0.0647 - val_acc: 0.9871\n",
      "Epoch 164/200\n",
      "118/118 - 2s - loss: 0.0397 - acc: 0.9875 - val_loss: 0.1200 - val_acc: 0.9719\n",
      "Epoch 165/200\n",
      "118/118 - 2s - loss: 0.0496 - acc: 0.9837 - val_loss: 0.0414 - val_acc: 0.9888\n",
      "Epoch 166/200\n",
      "118/118 - 2s - loss: 0.0354 - acc: 0.9892 - val_loss: 0.0342 - val_acc: 0.9895\n",
      "Epoch 167/200\n",
      "118/118 - 2s - loss: 0.0369 - acc: 0.9885 - val_loss: 0.0282 - val_acc: 0.9916\n",
      "Epoch 168/200\n",
      "118/118 - 2s - loss: 0.0368 - acc: 0.9882 - val_loss: 0.0636 - val_acc: 0.9866\n",
      "Epoch 169/200\n",
      "118/118 - 2s - loss: 0.0308 - acc: 0.9903 - val_loss: 0.0401 - val_acc: 0.9868\n",
      "Epoch 170/200\n",
      "118/118 - 2s - loss: 0.0355 - acc: 0.9887 - val_loss: 0.0454 - val_acc: 0.9895\n",
      "Epoch 171/200\n",
      "118/118 - 2s - loss: 0.0390 - acc: 0.9875 - val_loss: 0.0838 - val_acc: 0.9786\n",
      "Epoch 172/200\n",
      "118/118 - 2s - loss: 0.0419 - acc: 0.9866 - val_loss: 0.0654 - val_acc: 0.9820\n",
      "Epoch 173/200\n",
      "118/118 - 2s - loss: 0.0431 - acc: 0.9871 - val_loss: 0.0845 - val_acc: 0.9859\n",
      "Epoch 174/200\n",
      "118/118 - 2s - loss: 0.0425 - acc: 0.9872 - val_loss: 0.0773 - val_acc: 0.9814\n",
      "Epoch 175/200\n",
      "118/118 - 2s - loss: 0.0372 - acc: 0.9881 - val_loss: 0.0323 - val_acc: 0.9908\n",
      "Epoch 176/200\n",
      "118/118 - 2s - loss: 0.0423 - acc: 0.9867 - val_loss: 0.1619 - val_acc: 0.9628\n",
      "Epoch 177/200\n",
      "118/118 - 2s - loss: 0.0412 - acc: 0.9869 - val_loss: 0.1295 - val_acc: 0.9674\n",
      "Epoch 178/200\n",
      "118/118 - 2s - loss: 0.0313 - acc: 0.9896 - val_loss: 0.0769 - val_acc: 0.9827\n",
      "Epoch 179/200\n",
      "118/118 - 2s - loss: 0.0434 - acc: 0.9868 - val_loss: 0.0548 - val_acc: 0.9828\n",
      "Epoch 180/200\n",
      "118/118 - 2s - loss: 0.0361 - acc: 0.9882 - val_loss: 0.2000 - val_acc: 0.9639\n",
      "Epoch 181/200\n",
      "118/118 - 2s - loss: 0.0316 - acc: 0.9898 - val_loss: 0.0703 - val_acc: 0.9824\n",
      "Epoch 182/200\n",
      "118/118 - 2s - loss: 0.0307 - acc: 0.9906 - val_loss: 0.0253 - val_acc: 0.9943\n",
      "Epoch 183/200\n",
      "118/118 - 2s - loss: 0.0415 - acc: 0.9865 - val_loss: 0.2054 - val_acc: 0.9478\n",
      "Epoch 184/200\n",
      "118/118 - 2s - loss: 0.0385 - acc: 0.9880 - val_loss: 0.1578 - val_acc: 0.9613\n",
      "Epoch 185/200\n",
      "118/118 - 2s - loss: 0.0393 - acc: 0.9883 - val_loss: 0.1444 - val_acc: 0.9703\n",
      "Epoch 186/200\n",
      "118/118 - 2s - loss: 0.0330 - acc: 0.9900 - val_loss: 0.0742 - val_acc: 0.9840\n",
      "Epoch 187/200\n",
      "118/118 - 2s - loss: 0.0340 - acc: 0.9894 - val_loss: 0.0938 - val_acc: 0.9818\n",
      "Epoch 188/200\n",
      "118/118 - 2s - loss: 0.0322 - acc: 0.9894 - val_loss: 0.0560 - val_acc: 0.9838\n",
      "Epoch 189/200\n",
      "118/118 - 2s - loss: 0.0481 - acc: 0.9848 - val_loss: 0.2242 - val_acc: 0.9356\n",
      "Epoch 190/200\n",
      "118/118 - 2s - loss: 0.0367 - acc: 0.9894 - val_loss: 0.0958 - val_acc: 0.9799\n",
      "Epoch 191/200\n",
      "118/118 - 2s - loss: 0.0356 - acc: 0.9888 - val_loss: 0.0742 - val_acc: 0.9842\n",
      "Epoch 192/200\n",
      "118/118 - 2s - loss: 0.0343 - acc: 0.9899 - val_loss: 0.0711 - val_acc: 0.9792\n",
      "Epoch 193/200\n",
      "118/118 - 2s - loss: 0.0352 - acc: 0.9895 - val_loss: 0.1242 - val_acc: 0.9731\n",
      "Epoch 194/200\n",
      "118/118 - 2s - loss: 0.0390 - acc: 0.9883 - val_loss: 0.0595 - val_acc: 0.9848\n",
      "Epoch 195/200\n",
      "118/118 - 2s - loss: 0.0386 - acc: 0.9872 - val_loss: 0.0615 - val_acc: 0.9844\n",
      "Epoch 196/200\n",
      "118/118 - 2s - loss: 0.0468 - acc: 0.9858 - val_loss: 0.0379 - val_acc: 0.9892\n",
      "Epoch 197/200\n",
      "118/118 - 2s - loss: 0.0330 - acc: 0.9890 - val_loss: 0.0720 - val_acc: 0.9804\n",
      "Epoch 198/200\n",
      "118/118 - 2s - loss: 0.0379 - acc: 0.9885 - val_loss: 0.0901 - val_acc: 0.9756\n",
      "Epoch 199/200\n",
      "118/118 - 2s - loss: 0.0485 - acc: 0.9849 - val_loss: 0.0805 - val_acc: 0.9824\n",
      "Epoch 200/200\n",
      "118/118 - 2s - loss: 0.0362 - acc: 0.9887 - val_loss: 0.0294 - val_acc: 0.9921\n"
     ]
    }
   ],
   "source": [
    "try:\n",
    "    model_CNN_V2.load_weights('model/CNN_V2_weight.h5')\n",
    "except:\n",
    "    print(\"new model_CNN_V2\")\n",
    "\n",
    "# Train\n",
    "batch_size = 256\n",
    "epochs = 200\n",
    "\n",
    "train_history_2 = model_CNN_V2.fit(\n",
    "    train_data_oversample,train_label_oversample,\n",
    "    epochs=epochs,\n",
    "    batch_size= batch_size,\n",
    "    validation_split=0.2,\n",
    "    verbose=2,shuffle=True)"
   ],
   "metadata": {
    "collapsed": false,
    "pycharm": {
     "name": "#%%\n"
    }
   }
  },
  {
   "cell_type": "code",
   "execution_count": 16,
   "outputs": [],
   "source": [
    "model_CNN_V2.save_weights('model/CNN_V2_weight.h5')\n",
    "model_CNN_V2.save('model/CNN_V2.h5')"
   ],
   "metadata": {
    "collapsed": false,
    "pycharm": {
     "name": "#%%\n"
    }
   }
  },
  {
   "cell_type": "code",
   "execution_count": 17,
   "outputs": [],
   "source": [
    "def plot_train_history(t_history, train,validation):\n",
    "    plt.plot(t_history.history[train])\n",
    "    plt.plot(t_history.history[validation])\n",
    "    plt.title(\"train_history\")\n",
    "    plt.ylabel(train)\n",
    "    plt.xlabel(\"epochs\")\n",
    "    plt.legend(['train','validation'],loc='upper left')\n",
    "    plt.show()"
   ],
   "metadata": {
    "collapsed": false,
    "pycharm": {
     "name": "#%%\n"
    }
   }
  },
  {
   "cell_type": "markdown",
   "source": [
    "# Train History"
   ],
   "metadata": {
    "collapsed": false,
    "pycharm": {
     "name": "#%% md\n"
    }
   }
  },
  {
   "cell_type": "code",
   "execution_count": 18,
   "outputs": [
    {
     "name": "stdout",
     "output_type": "stream",
     "text": [
      "V1\n"
     ]
    },
    {
     "data": {
      "text/plain": "<Figure size 432x288 with 1 Axes>",
      "image/png": "[encoded data removed]"
     },
     "metadata": {
      "needs_background": "light"
     },
     "output_type": "display_data"
    },
    {
     "name": "stdout",
     "output_type": "stream",
     "text": [
      "V2\n"
     ]
    },
    {
     "data": {
      "text/plain": "<Figure size 432x288 with 1 Axes>",
      "image/png": "[encoded data removed]"
     },
     "metadata": {
      "needs_background": "light"
     },
     "output_type": "display_data"
    }
   ],
   "source": [
    "#plot train history\n",
    "print(\"V1\")\n",
    "plot_train_history(train_history,'acc','val_acc')\n",
    "print(\"V2\")\n",
    "plot_train_history(train_history_2,'acc','val_acc')"
   ],
   "metadata": {
    "collapsed": false,
    "pycharm": {
     "name": "#%%\n"
    }
   }
  },
  {
   "cell_type": "markdown",
   "source": [
    "# Loss"
   ],
   "metadata": {
    "collapsed": false,
    "pycharm": {
     "name": "#%% md\n"
    }
   }
  },
  {
   "cell_type": "code",
   "execution_count": 19,
   "outputs": [
    {
     "name": "stdout",
     "output_type": "stream",
     "text": [
      "V1\n"
     ]
    },
    {
     "data": {
      "text/plain": "<Figure size 432x288 with 1 Axes>",
      "image/png": "[encoded data removed]"
     },
     "metadata": {
      "needs_background": "light"
     },
     "output_type": "display_data"
    },
    {
     "name": "stdout",
     "output_type": "stream",
     "text": [
      "V2\n"
     ]
    },
    {
     "data": {
      "text/plain": "<Figure size 432x288 with 1 Axes>",
      "image/png": "[encoded data removed]"
     },
     "metadata": {
      "needs_background": "light"
     },
     "output_type": "display_data"
    }
   ],
   "source": [
    "print(\"V1\")\n",
    "plot_train_history(train_history,'loss','val_loss')\n",
    "print(\"V2\")\n",
    "plot_train_history(train_history_2,'loss','val_loss')"
   ],
   "metadata": {
    "collapsed": false,
    "pycharm": {
     "name": "#%%\n"
    }
   }
  },
  {
   "cell_type": "markdown",
   "source": [
    "# Prediction score"
   ],
   "metadata": {
    "collapsed": false,
    "pycharm": {
     "name": "#%% md\n"
    }
   }
  },
  {
   "cell_type": "code",
   "execution_count": 20,
   "outputs": [
    {
     "name": "stdout",
     "output_type": "stream",
     "text": [
      "63/63 [==============================] - 3s 43ms/step - loss: 2.5008 - acc: 0.7294\b\b\b\b\b\b\b\b\b\b\b\b\b\b\b\b\b\b\b\b\b\b\b\b\b\b\b\b\b\b\b\b\b\b\b\b\b\b\b\b\b\b\b\b\b\b\b\b\b\b\b\b\b\b\b\b\b\b\b\b\b\b\b\b\b\b\b\b\b\b\b\b\b\b\b\b\b\b\b\b\b\b\b\b\b\b\b\b\b\b\b\b\b\b\b\b\b\b\b\b\b\b\b\b\b\b\b\b\b\b\b\b\b\b\b\b\b\b\b\b\b\b\b\b\b\b\b\b\b\b\b\b\b\b\b\b\b\b\b\b\b\b\b\b\b\b\b\b\b\b\b\b\b\b\b\b\b\b\b\b\b\b\b\b\b\b\b\b\b\b\b\b\b\b\b\b\b\b\b\b\b\b\b\b\b\b\b\b\b\b\b\b\b\b\b\b\b\b\b\b\b\b\b\b\b\b\b\b\b\b\b\b\b\b\b\b\b\b\b\b\b\b\b\b\b\b\b\b\b\b\b\b\b\b\b\b\b\b\b\b\b\b\b\b\b\b\b\b\b\b\b\b\b\b\b\b\b\b\b\b\b\b\b\b\b\b\b\b\b\b\b\b\b\b\b\b\b\b\b\b\b\b\b\b\b\b\b\b\b\b\b\b\b\b\b\b\b\b\b\b\b\b\b\b\b\b\b\b\b\b\b\b\b\b\b\b\b\b\b\b\b\b\b\b\b\b\b\b\b\b\b\b\b\b\b\b\b\b\b\b\b\b\b\b\b\b\b\b\b\b\b\b\b\b\b\b\b\b\b\b\b\b\b\b\b\b\b\b\b\b\b\b\b\b\b\b\b\b\b\b\n",
      "Test accuracy for CNN V1: 0.7294058799743652\n",
      "63/63 [==============================] - 0s 3ms/step - loss: 1.1161 - acc: 0.7439\b\b\b\b\b\b\b\b\b\b\b\b\b\b\b\b\b\b\b\b\b\b\b\b\b\b\b\b\b\b\b\b\b\b\b\b\b\b\b\b\b\b\b\b\b\b\b\b\b\b\b\b\b\b\b\b\b\b\b\b\b\b\b\b\b\b\b\b\b\b\b\b\b\b\b\b\b\b\b\b\b\b\b\b\b\b\b\b\b\b\b\b\b\b\b\b\b\b\b\b\b\b\b\b\b\b\b\b\b\b\b\b\b\b\b\b\b\b\b\b\b\b\b\b\b\b\b\b\b\b\b\b\b\b\b\b\b\b\b\b\b\b\b\b\b\b\b\b\b\b\b\b\b\b\b\b\b\b\b\b\b\b\b\b\b\b\b\b\b\b\b\b\b\b\b\b\b\b\b\b\b\b\b\b\b\b\b\b\b\b\b\b\b\b\b\b\b\b\b\b\b\b\b\b\b\b\b\b\b\b\b\b\b\b\b\b\b\b\b\b\b\b\b\b\b\b\b\b\b\b\b\b\b\b\b\b\b\b\b\b\b\b\b\b\b\b\b\b\b\b\b\b\b\b\b\b\b\b\b\b\b\b\b\b\b\b\b\b\b\b\b\b\b\b\b\b\b\b\b\b\b\b\b\b\b\b\b\b\b\b\b\b\b\b\b\b\b\b\b\b\b\b\b\b\n",
      "Test accuracy: for CNN V2 0.7438841462135315\n"
     ]
    }
   ],
   "source": [
    "#score\n",
    "score = model_CNN_V1.evaluate(test_data, test_label)\n",
    "print('Test accuracy for CNN V1:', score[1])\n",
    "\n",
    "#score\n",
    "score2 = model_CNN_V2.evaluate(test_data, test_label)\n",
    "print('Test accuracy: for CNN V2', score2[1])"
   ],
   "metadata": {
    "collapsed": false,
    "pycharm": {
     "name": "#%%\n"
    }
   }
  },
  {
   "cell_type": "markdown",
   "source": [
    "# Confusion Matrix"
   ],
   "metadata": {
    "collapsed": false,
    "pycharm": {
     "name": "#%% md\n"
    }
   }
  },
  {
   "cell_type": "code",
   "execution_count": null,
   "outputs": [],
   "source": [
    "from sklearn.metrics import confusion_matrix, ConfusionMatrixDisplay, classification_report\n",
    "def print_confusion_matrix(model):\n",
    "    score = model.evaluate(test_data, test_label)\n",
    "    print('Test accuracy:', score[1])\n",
    "\n",
    "    prediction = model.predict(test_data)\n",
    "    prediction_class = np.argmax(prediction,axis=1)\n",
    "    prediction_label = np.argmax(test_label,axis=1)\n",
    "\n",
    "    mapping = lambda x:features_dict[x]\n",
    "    pred_class_to_feature = np.array([mapping(x) for x in prediction_class])\n",
    "    pred_label_to_feature = np.array([mapping(x) for x in prediction_label])\n",
    "    matrix = confusion_matrix(pred_label_to_feature,pred_class_to_feature)\n",
    "    matrix_display = ConfusionMatrixDisplay(matrix)\n",
    "    fig,x = plt.subplots(figsize =(12,12))\n",
    "    matrix_display.plot(ax=x)\n",
    "    print(classification_report(pred_label_to_feature,pred_class_to_feature,target_names=labels))\n",
    "    #print(pd.crosstab(pred_label_to_feature,pred_class_to_feature,colnames=['predicted']))"
   ],
   "metadata": {
    "collapsed": false,
    "pycharm": {
     "name": "#%%\n"
    }
   }
  },
  {
   "cell_type": "code",
   "execution_count": 21,
   "outputs": [
    {
     "name": "stdout",
     "output_type": "stream",
     "text": [
      "confusion matrix for CNN V1\n",
      "predicted  akiex  bcc  bkl  df  mel    nv  vasc\n",
      "actual                                         \n",
      "akiex         23   11    6   5   10    10     0\n",
      "bcc           10   40   10   2   10    26     5\n",
      "bkl           10   14   82   3   32    79     0\n",
      "df             2    5    0   8    0     7     1\n",
      "mel            3    5   29   1   67   118     0\n",
      "nv             2   14   41   1   55  1223     5\n",
      "vasc           0    1    0   0    3     6    18\n",
      "confusion matrix for CNN V2\n",
      "predicted  akiex  bcc  bkl  df  mel    nv  vasc\n",
      "actual                                         \n",
      "akiex         27   13    8   1    7     9     0\n",
      "bcc           13   51    8   3    7    19     2\n",
      "bkl           12    8  100   3   35    62     0\n",
      "df             2    9    2   6    1     3     0\n",
      "mel            6    2   25   0   89   101     0\n",
      "nv             4    8   55   4   69  1198     3\n",
      "vasc           0    1    0   0    2     6    19\n"
     ]
    }
   ],
   "source": [
    "print(\"V1\")\n",
    "print_confusion_matrix(model_CNN_V1)\n",
    "print(\"V2\")\n",
    "print_confusion_matrix(model_CNN_V2)"
   ],
   "metadata": {
    "collapsed": false,
    "pycharm": {
     "name": "#%%\n"
    }
   }
  }
 ],
 "metadata": {
  "kernelspec": {
   "display_name": "Python 3",
   "language": "python",
   "name": "python3"
  },
  "language_info": {
   "codemirror_mode": {
    "name": "ipython",
    "version": 3
   },
   "file_extension": ".py",
   "mimetype": "text/x-python",
   "name": "python",
   "nbconvert_exporter": "python",
   "pygments_lexer": "ipython3",
   "version": "3.9.4"
  }
 },
 "nbformat": 4,
 "nbformat_minor": 1
}