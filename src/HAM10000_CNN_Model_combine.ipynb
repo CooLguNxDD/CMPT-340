{
 "cells": [
  {
   "cell_type": "markdown",
   "metadata": {
    "collapsed": true
   },
   "source": [
    "# In this notebook, we are going to implement custom CNN model to analysis the data\n",
    "\n",
    "# CNN V1 will use \"Class weight\" based on logarithm of the weights for the imbalance data\n",
    "\n",
    "# CNN V2 will use over sampling (SMOTE) for the imbalance data\n",
    "\n",
    "## https://en.wikipedia.org/wiki/Convolutional_neural_network\n"
   ]
  },
  {
   "cell_type": "code",
   "execution_count": 1,
   "metadata": {},
   "outputs": [],
   "source": [
    "import os\n",
    "import math\n",
    "import random\n",
    "from glob import glob\n",
    "from PIL import Image\n",
    "\n",
    "import numpy as np\n",
    "import pandas as pd\n",
    "import matplotlib.pyplot as plt\n",
    "\n",
    "import tensorflow as tf\n",
    "from tensorflow.keras.models import Sequential\n",
    "from tensorflow.keras.utils import to_categorical\n",
    "from tensorflow.keras.layers import Dense, Dropout, Flatten, Conv2D, MaxPooling2D, BatchNormalization\n",
    "\n",
    "from imblearn.over_sampling import SMOTE\n",
    "from sklearn.preprocessing import LabelEncoder\n",
    "from sklearn.model_selection import StratifiedShuffleSplit,train_test_split"
   ]
  },
  {
   "cell_type": "markdown",
   "metadata": {
    "pycharm": {
     "name": "#%% md\n"
    }
   },
   "source": [
    "# Load metadata.csv"
   ]
  },
  {
   "cell_type": "code",
   "execution_count": 2,
   "metadata": {
    "pycharm": {
     "name": "#%% read csv\n"
    }
   },
   "outputs": [],
   "source": [
    "df = pd.read_csv('../data/HAM10000_metadata.csv', delimiter=',')\n",
    "df.dataframeName = 'HAM10000_metadata.csv'"
   ]
  },
  {
   "cell_type": "markdown",
   "metadata": {
    "pycharm": {
     "name": "#%% md\n"
    }
   },
   "source": [
    "# Preprocess labels"
   ]
  },
  {
   "cell_type": "code",
   "execution_count": 3,
   "metadata": {
    "pycharm": {
     "name": "#%%\n"
    }
   },
   "outputs": [
    {
     "name": "stdout",
     "output_type": "stream",
     "text": [
      "['akiec', 'bcc', 'bkl', 'df', 'mel', 'nv', 'vasc']\n",
      "        lesion_id      image_id    dx    dx_type   age     sex  \\\n",
      "6222  HAM_0002725  ISIC_0025523    nv  follow_up  30.0  female   \n",
      "5721  HAM_0005337  ISIC_0025098    nv  follow_up  55.0    male   \n",
      "3077  HAM_0006178  ISIC_0031100    nv  follow_up  55.0    male   \n",
      "5085  HAM_0000809  ISIC_0030572    nv  follow_up  50.0  female   \n",
      "2376  HAM_0007097  ISIC_0033230  vasc      histo  60.0    male   \n",
      "\n",
      "         localization  label  \n",
      "6222            trunk      5  \n",
      "5721            trunk      5  \n",
      "3077  lower extremity      5  \n",
      "5085             back      5  \n",
      "2376            trunk      6  \n"
     ]
    }
   ],
   "source": [
    "label_encoder = LabelEncoder()\n",
    "label_encoder.fit(df['dx'])\n",
    "print(list(label_encoder.classes_))\n",
    "df['label'] = label_encoder.transform(df[\"dx\"])\n",
    "print(df.sample(5))"
   ]
  },
  {
   "cell_type": "markdown",
   "metadata": {
    "pycharm": {
     "name": "#%% md\n"
    }
   },
   "source": [
    "# Features to label\n",
    "akiex -> 0\n",
    "bcc -> 1\n",
    "bkl -> 2\n",
    "df -> 3\n",
    "mel -> 4\n",
    "nv -> 5\n",
    "vasc -> 6"
   ]
  },
  {
   "cell_type": "code",
   "execution_count": 4,
   "metadata": {
    "pycharm": {
     "name": "#%%\n"
    }
   },
   "outputs": [],
   "source": [
    "features_dict = {0:\"akiex\",1:\"bcc\",2:\"bkl\",3:\"df\",4:\"mel\",5:\"nv\",6:\"vasc\"}"
   ]
  },
  {
   "cell_type": "markdown",
   "metadata": {
    "pycharm": {
     "name": "#%% md\n"
    }
   },
   "source": [
    "# Calculate Class Weight"
   ]
  },
  {
   "cell_type": "code",
   "execution_count": 5,
   "metadata": {
    "pycharm": {
     "name": "#%%\n"
    }
   },
   "outputs": [
    {
     "name": "stdout",
     "output_type": "stream",
     "text": [
      "total number of data:  10015\n",
      "5    6705\n",
      "4    1113\n",
      "2    1099\n",
      "1     514\n",
      "0     327\n",
      "6     142\n",
      "3     115\n",
      "Name: label, dtype: int64\n",
      "5   1.0\n",
      "4   1.0\n",
      "2   1.0\n",
      "1   1.0237058335894402\n",
      "0   1.4759689281473518\n",
      "6   2.310102041443345\n",
      "3   2.520996970681355\n"
     ]
    }
   ],
   "source": [
    "total_data = 0\n",
    "num_classes = 7\n",
    "for num_of_data in df['label'].value_counts():\n",
    "    total_data+=num_of_data\n",
    "print(\"total number of data: \",total_data)\n",
    "print(df['label'].value_counts())\n",
    "#calc weight for each class\n",
    "class_weight ={}\n",
    "for index, value in df.label.value_counts().iteritems():\n",
    "    v1 = math.log(total_data/(float(value)*num_classes))\n",
    "    class_weight[index] = v1 if v1>1.0 else 1.0\n",
    "\n",
    "for i in class_weight:\n",
    "    print(i,\" \",class_weight[i])\n"
   ]
  },
  {
   "cell_type": "markdown",
   "metadata": {
    "pycharm": {
     "name": "#%% md\n"
    }
   },
   "source": [
    "# Preprocess image"
   ]
  },
  {
   "cell_type": "code",
   "execution_count": 6,
   "metadata": {
    "pycharm": {
     "name": "#%%\n"
    }
   },
   "outputs": [],
   "source": [
    "image_size = 32 #the size that the image will resize to\n",
    "image_path = {os.path.splitext(os.path.basename(x))[0]: x\n",
    "              for x in glob(os.path.join('../data/','*','*.jpg'))}\n",
    "#image path\n",
    "df['path'] = df['image_id'].map(lambda id: image_path.get(id))"
   ]
  },
  {
   "cell_type": "code",
   "execution_count": 7,
   "metadata": {
    "pycharm": {
     "name": "#%%\n"
    }
   },
   "outputs": [],
   "source": [
    "#image_64 is the actual image(resized to 64x64) store in the dataframe\n",
    "#it takes time to process the image\n",
    "df['image_64'] = df['path'].map(lambda path:Image.open(path).resize((image_size,image_size)))"
   ]
  },
  {
   "cell_type": "code",
   "execution_count": 8,
   "metadata": {
    "pycharm": {
     "name": "#%%\n"
    }
   },
   "outputs": [
    {
     "data": {
      "image/png": "[encoded data removed]",
      "text/plain": [
       "<Figure size 432x288 with 10 Axes>"
      ]
     },
     "metadata": {
      "needs_background": "light"
     },
     "output_type": "display_data"
    }
   ],
   "source": [
    "#print some image\n",
    "index = 1\n",
    "for image in df['image_64'].head(10):\n",
    "    plots = plt.subplot(2,5,index)\n",
    "    plots.imshow(image)\n",
    "    index+=1"
   ]
  },
  {
   "cell_type": "markdown",
   "metadata": {
    "pycharm": {
     "name": "#%% md\n"
    }
   },
   "source": [
    "# Image to Array"
   ]
  },
  {
   "cell_type": "code",
   "execution_count": 9,
   "metadata": {
    "pycharm": {
     "name": "#%%\n"
    }
   },
   "outputs": [],
   "source": [
    "df['image'] = df['image_64'].map(lambda image: np.asarray(image))\n",
    "data = np.asarray(df['image'].to_list())\n",
    "#data = data.reshape(total_data,image_size*image_size*3).astype('float32')\n",
    "data = data/255.0 #normalise the RGB value to [0...1]\n",
    "label_to_one_hot = to_categorical(df['label'], num_classes=7)\n",
    "#80% data for training\n",
    "#20% data for testing\n",
    "train_data,test_data,train_label,test_label = train_test_split(data,label_to_one_hot,test_size=0.20,random_state=87,stratify=label_to_one_hot)"
   ]
  },
  {
   "cell_type": "markdown",
   "metadata": {
    "pycharm": {
     "name": "#%% md\n"
    }
   },
   "source": [
    "# Setup CNN model V1"
   ]
  },
  {
   "cell_type": "code",
   "execution_count": 10,
   "metadata": {
    "pycharm": {
     "name": "#%%\n"
    }
   },
   "outputs": [
    {
     "name": "stdout",
     "output_type": "stream",
     "text": [
      "Model: \"sequential\"\n",
      "_________________________________________________________________\n",
      "Layer (type)                 Output Shape              Param #   \n",
      "=================================================================\n",
      "conv2d (Conv2D)              (None, 32, 32, 32)        896       \n",
      "_________________________________________________________________\n",
      "dropout (Dropout)            (None, 32, 32, 32)        0         \n",
      "_________________________________________________________________\n",
      "conv2d_1 (Conv2D)            (None, 32, 32, 32)        9248      \n",
      "_________________________________________________________________\n",
      "max_pooling2d (MaxPooling2D) (None, 16, 16, 32)        0         \n",
      "_________________________________________________________________\n",
      "conv2d_2 (Conv2D)            (None, 16, 16, 64)        18496     \n",
      "_________________________________________________________________\n",
      "dropout_1 (Dropout)          (None, 16, 16, 64)        0         \n",
      "_________________________________________________________________\n",
      "conv2d_3 (Conv2D)            (None, 16, 16, 64)        36928     \n",
      "_________________________________________________________________\n",
      "max_pooling2d_1 (MaxPooling2 (None, 8, 8, 64)          0         \n",
      "_________________________________________________________________\n",
      "conv2d_4 (Conv2D)            (None, 8, 8, 128)         73856     \n",
      "_________________________________________________________________\n",
      "dropout_2 (Dropout)          (None, 8, 8, 128)         0         \n",
      "_________________________________________________________________\n",
      "conv2d_5 (Conv2D)            (None, 8, 8, 128)         147584    \n",
      "_________________________________________________________________\n",
      "max_pooling2d_2 (MaxPooling2 (None, 4, 4, 128)         0         \n",
      "_________________________________________________________________\n",
      "flatten (Flatten)            (None, 2048)              0         \n",
      "_________________________________________________________________\n",
      "dense (Dense)                (None, 2048)              4196352   \n",
      "_________________________________________________________________\n",
      "dropout_3 (Dropout)          (None, 2048)              0         \n",
      "_________________________________________________________________\n",
      "dense_1 (Dense)              (None, 1024)              2098176   \n",
      "_________________________________________________________________\n",
      "dropout_4 (Dropout)          (None, 1024)              0         \n",
      "_________________________________________________________________\n",
      "dense_2 (Dense)              (None, 7)                 7175      \n",
      "=================================================================\n",
      "Total params: 6,588,711\n",
      "Trainable params: 6,588,711\n",
      "Non-trainable params: 0\n",
      "_________________________________________________________________\n"
     ]
    }
   ],
   "source": [
    "num_classes = 7\n",
    "dimension = image_size*image_size*3\n",
    "\n",
    "model_CNN_V1 = Sequential()\n",
    "\n",
    "#CNN layer 1:\n",
    "model_CNN_V1.add(Conv2D(filters=32,kernel_size=(3,3),input_shape=(image_size,image_size,3),activation='relu',padding='same'))\n",
    "model_CNN_V1.add(Dropout(0.1))\n",
    "model_CNN_V1.add(Conv2D(filters=32,kernel_size=(3,3),activation='relu',padding='same'))\n",
    "model_CNN_V1.add(MaxPooling2D(pool_size=(2,2)))\n",
    "\n",
    "#CNN layer 2\n",
    "model_CNN_V1.add(Conv2D(filters=64,kernel_size=(3,3),activation='relu',padding='same'))\n",
    "model_CNN_V1.add(Dropout(0.1))\n",
    "model_CNN_V1.add(Conv2D(filters=64,kernel_size=(3,3),activation='relu',padding='same'))\n",
    "model_CNN_V1.add(MaxPooling2D(pool_size=(2,2)))\n",
    "\n",
    "#CNN layer 3\n",
    "model_CNN_V1.add(Conv2D(filters=128,kernel_size=(3,3),activation='relu',padding='same'))\n",
    "model_CNN_V1.add(Dropout(0.1))\n",
    "model_CNN_V1.add(Conv2D(filters=128,kernel_size=(3,3),activation='relu',padding='same'))\n",
    "model_CNN_V1.add(MaxPooling2D(pool_size=(2,2)))\n",
    "\n",
    "#Flatten layer\n",
    "model_CNN_V1.add(Flatten())\n",
    "\n",
    "#hidden layer 1\n",
    "model_CNN_V1.add(Dense(2048,activation='relu'))\n",
    "model_CNN_V1.add(Dropout(0.2))\n",
    "\n",
    "#hidden layer 2\n",
    "model_CNN_V1.add(Dense(1024,activation='relu'))\n",
    "model_CNN_V1.add(Dropout(0.2))\n",
    "\n",
    "#output layer\n",
    "model_CNN_V1.add(Dense(7,activation='softmax'))\n",
    "model_CNN_V1.summary()\n",
    "\n",
    "model_CNN_V1.compile(loss='categorical_crossentropy', optimizer='Adam', metrics=['acc'])"
   ]
  },
  {
   "cell_type": "markdown",
   "metadata": {
    "pycharm": {
     "name": "#%% md\n"
    }
   },
   "source": [
    "# Train CNN V1"
   ]
  },
  {
   "cell_type": "code",
   "execution_count": 11,
   "metadata": {
    "pycharm": {
     "name": "#%%\n"
    }
   },
   "outputs": [
    {
     "name": "stdout",
     "output_type": "stream",
     "text": [
      "new model_CNN_V1\n",
      "Epoch 1/200\n",
      "26/26 - 41s - loss: 1.7977 - acc: 0.6506 - val_loss: 1.1499 - val_acc: 0.6569\n",
      "Epoch 2/200\n",
      "26/26 - 36s - loss: 1.2466 - acc: 0.6726 - val_loss: 1.0643 - val_acc: 0.6569\n",
      "Epoch 3/200\n",
      "26/26 - 35s - loss: 1.1769 - acc: 0.6726 - val_loss: 1.0435 - val_acc: 0.6569\n",
      "Epoch 4/200\n",
      "26/26 - 36s - loss: 1.1402 - acc: 0.6726 - val_loss: 1.0224 - val_acc: 0.6569\n",
      "Epoch 5/200\n",
      "26/26 - 36s - loss: 1.1019 - acc: 0.6728 - val_loss: 0.9835 - val_acc: 0.6644\n",
      "Epoch 6/200\n",
      "26/26 - 36s - loss: 1.0665 - acc: 0.6822 - val_loss: 1.0651 - val_acc: 0.6563\n",
      "Epoch 7/200\n",
      "26/26 - 37s - loss: 1.1051 - acc: 0.6761 - val_loss: 0.9911 - val_acc: 0.6719\n",
      "Epoch 8/200\n",
      "26/26 - 35s - loss: 1.0497 - acc: 0.6844 - val_loss: 0.9368 - val_acc: 0.6675\n",
      "Epoch 9/200\n",
      "26/26 - 36s - loss: 1.0318 - acc: 0.6853 - val_loss: 0.9036 - val_acc: 0.6694\n",
      "Epoch 10/200\n",
      "26/26 - 36s - loss: 1.0012 - acc: 0.6883 - val_loss: 0.8639 - val_acc: 0.6806\n",
      "Epoch 11/200\n",
      "26/26 - 34s - loss: 0.9555 - acc: 0.6943 - val_loss: 0.9646 - val_acc: 0.6712\n",
      "Epoch 12/200\n",
      "26/26 - 34s - loss: 0.9414 - acc: 0.7035 - val_loss: 0.8648 - val_acc: 0.6843\n",
      "Epoch 13/200\n",
      "26/26 - 35s - loss: 0.9575 - acc: 0.6886 - val_loss: 0.8304 - val_acc: 0.6912\n",
      "Epoch 14/200\n",
      "26/26 - 32s - loss: 0.9072 - acc: 0.7059 - val_loss: 0.8202 - val_acc: 0.6868\n",
      "Epoch 15/200\n",
      "26/26 - 32s - loss: 0.8793 - acc: 0.7195 - val_loss: 0.8627 - val_acc: 0.6875\n",
      "Epoch 16/200\n",
      "26/26 - 32s - loss: 0.8797 - acc: 0.7157 - val_loss: 0.8009 - val_acc: 0.6968\n",
      "Epoch 17/200\n",
      "26/26 - 32s - loss: 0.8255 - acc: 0.7273 - val_loss: 0.8175 - val_acc: 0.6906\n",
      "Epoch 18/200\n",
      "26/26 - 32s - loss: 0.8185 - acc: 0.7277 - val_loss: 0.8259 - val_acc: 0.7006\n",
      "Epoch 19/200\n",
      "26/26 - 34s - loss: 0.8288 - acc: 0.7290 - val_loss: 0.7966 - val_acc: 0.6925\n",
      "Epoch 20/200\n",
      "26/26 - 36s - loss: 0.8042 - acc: 0.7354 - val_loss: 0.7938 - val_acc: 0.7080\n",
      "Epoch 21/200\n",
      "26/26 - 31s - loss: 0.8020 - acc: 0.7362 - val_loss: 0.7886 - val_acc: 0.7174\n",
      "Epoch 22/200\n",
      "26/26 - 26s - loss: 0.7433 - acc: 0.7567 - val_loss: 0.8931 - val_acc: 0.6263\n",
      "Epoch 23/200\n",
      "26/26 - 24s - loss: 0.7806 - acc: 0.7299 - val_loss: 0.7671 - val_acc: 0.7130\n",
      "Epoch 24/200\n",
      "26/26 - 25s - loss: 0.7314 - acc: 0.7611 - val_loss: 0.8325 - val_acc: 0.7062\n",
      "Epoch 25/200\n",
      "26/26 - 25s - loss: 0.7399 - acc: 0.7588 - val_loss: 0.9016 - val_acc: 0.6775\n",
      "Epoch 26/200\n",
      "26/26 - 25s - loss: 0.7050 - acc: 0.7602 - val_loss: 0.8053 - val_acc: 0.7305\n",
      "Epoch 27/200\n",
      "26/26 - 25s - loss: 0.6493 - acc: 0.7794 - val_loss: 0.9807 - val_acc: 0.6675\n",
      "Epoch 28/200\n",
      "26/26 - 25s - loss: 0.7472 - acc: 0.7547 - val_loss: 0.7492 - val_acc: 0.7224\n",
      "Epoch 29/200\n",
      "26/26 - 25s - loss: 0.6612 - acc: 0.7795 - val_loss: 0.7335 - val_acc: 0.7293\n",
      "Epoch 30/200\n",
      "26/26 - 25s - loss: 0.6211 - acc: 0.7934 - val_loss: 0.7727 - val_acc: 0.7243\n",
      "Epoch 31/200\n",
      "26/26 - 25s - loss: 0.6309 - acc: 0.7856 - val_loss: 0.9502 - val_acc: 0.6825\n",
      "Epoch 32/200\n",
      "26/26 - 24s - loss: 0.5684 - acc: 0.8023 - val_loss: 0.7648 - val_acc: 0.7211\n",
      "Epoch 33/200\n",
      "26/26 - 26s - loss: 0.5886 - acc: 0.7964 - val_loss: 0.7792 - val_acc: 0.7243\n",
      "Epoch 34/200\n",
      "26/26 - 26s - loss: 0.5862 - acc: 0.7934 - val_loss: 0.8500 - val_acc: 0.7056\n",
      "Epoch 35/200\n",
      "26/26 - 25s - loss: 0.5235 - acc: 0.8143 - val_loss: 0.8189 - val_acc: 0.7305\n",
      "Epoch 36/200\n",
      "26/26 - 26s - loss: 0.4407 - acc: 0.8424 - val_loss: 0.8483 - val_acc: 0.7367\n",
      "Epoch 37/200\n",
      "26/26 - 25s - loss: 0.4040 - acc: 0.8557 - val_loss: 0.9099 - val_acc: 0.7218\n",
      "Epoch 38/200\n",
      "26/26 - 26s - loss: 0.3801 - acc: 0.8657 - val_loss: 0.9544 - val_acc: 0.7224\n",
      "Epoch 39/200\n",
      "26/26 - 27s - loss: 0.3995 - acc: 0.8610 - val_loss: 0.8929 - val_acc: 0.7361\n",
      "Epoch 40/200\n",
      "26/26 - 25s - loss: 0.3522 - acc: 0.8733 - val_loss: 1.0730 - val_acc: 0.7056\n",
      "Epoch 41/200\n",
      "26/26 - 26s - loss: 0.5592 - acc: 0.8070 - val_loss: 0.9051 - val_acc: 0.7286\n",
      "Epoch 42/200\n",
      "26/26 - 24s - loss: 0.4303 - acc: 0.8526 - val_loss: 0.9999 - val_acc: 0.7049\n",
      "Epoch 43/200\n",
      "26/26 - 22s - loss: 0.4224 - acc: 0.8536 - val_loss: 1.0226 - val_acc: 0.7392\n",
      "Epoch 44/200\n",
      "26/26 - 23s - loss: 0.3595 - acc: 0.8744 - val_loss: 1.1774 - val_acc: 0.6993\n",
      "Epoch 45/200\n",
      "26/26 - 23s - loss: 0.3648 - acc: 0.8641 - val_loss: 0.9691 - val_acc: 0.7236\n",
      "Epoch 46/200\n",
      "26/26 - 24s - loss: 0.2543 - acc: 0.9073 - val_loss: 1.2035 - val_acc: 0.7112\n",
      "Epoch 47/200\n",
      "26/26 - 23s - loss: 0.2160 - acc: 0.9187 - val_loss: 1.2451 - val_acc: 0.7411\n",
      "Epoch 48/200\n",
      "26/26 - 24s - loss: 0.2447 - acc: 0.9173 - val_loss: 1.1214 - val_acc: 0.7399\n",
      "Epoch 49/200\n",
      "26/26 - 24s - loss: 0.1876 - acc: 0.9328 - val_loss: 1.1725 - val_acc: 0.7187\n",
      "Epoch 50/200\n",
      "26/26 - 23s - loss: 0.1488 - acc: 0.9445 - val_loss: 1.4769 - val_acc: 0.7056\n",
      "Epoch 51/200\n",
      "26/26 - 23s - loss: 0.2466 - acc: 0.9150 - val_loss: 1.2502 - val_acc: 0.7305\n",
      "Epoch 52/200\n",
      "26/26 - 24s - loss: 0.2061 - acc: 0.9267 - val_loss: 1.3173 - val_acc: 0.7399\n",
      "Epoch 53/200\n",
      "26/26 - 24s - loss: 0.2243 - acc: 0.9234 - val_loss: 1.2425 - val_acc: 0.7311\n",
      "Epoch 54/200\n",
      "26/26 - 25s - loss: 0.2388 - acc: 0.9187 - val_loss: 1.2759 - val_acc: 0.7255\n",
      "Epoch 55/200\n",
      "26/26 - 24s - loss: 0.1382 - acc: 0.9527 - val_loss: 1.3565 - val_acc: 0.7311\n",
      "Epoch 56/200\n",
      "26/26 - 23s - loss: 0.1053 - acc: 0.9629 - val_loss: 1.5652 - val_acc: 0.7473\n",
      "Epoch 57/200\n",
      "26/26 - 22s - loss: 0.0848 - acc: 0.9721 - val_loss: 1.6153 - val_acc: 0.7417\n",
      "Epoch 58/200\n",
      "26/26 - 24s - loss: 0.0637 - acc: 0.9764 - val_loss: 1.7721 - val_acc: 0.6862\n",
      "Epoch 59/200\n",
      "26/26 - 24s - loss: 0.3308 - acc: 0.8897 - val_loss: 1.2488 - val_acc: 0.7149\n",
      "Epoch 60/200\n",
      "26/26 - 25s - loss: 0.2357 - acc: 0.9251 - val_loss: 1.2546 - val_acc: 0.7293\n",
      "Epoch 61/200\n",
      "26/26 - 26s - loss: 0.1078 - acc: 0.9633 - val_loss: 1.4731 - val_acc: 0.7367\n",
      "Epoch 62/200\n",
      "26/26 - 25s - loss: 0.0832 - acc: 0.9707 - val_loss: 1.6717 - val_acc: 0.7399\n",
      "Epoch 63/200\n",
      "26/26 - 26s - loss: 0.0730 - acc: 0.9753 - val_loss: 1.5937 - val_acc: 0.7311\n",
      "Epoch 64/200\n",
      "26/26 - 25s - loss: 0.1031 - acc: 0.9638 - val_loss: 1.5975 - val_acc: 0.7224\n",
      "Epoch 65/200\n",
      "26/26 - 26s - loss: 0.1386 - acc: 0.9509 - val_loss: 1.4836 - val_acc: 0.7417\n",
      "Epoch 66/200\n",
      "26/26 - 26s - loss: 0.0842 - acc: 0.9725 - val_loss: 1.7226 - val_acc: 0.7299\n",
      "Epoch 67/200\n",
      "26/26 - 25s - loss: 0.0603 - acc: 0.9780 - val_loss: 1.8440 - val_acc: 0.7155\n",
      "Epoch 68/200\n",
      "26/26 - 25s - loss: 0.0915 - acc: 0.9675 - val_loss: 1.8031 - val_acc: 0.7299\n",
      "Epoch 69/200\n",
      "26/26 - 26s - loss: 0.0826 - acc: 0.9722 - val_loss: 1.6413 - val_acc: 0.7342\n",
      "Epoch 70/200\n",
      "26/26 - 23s - loss: 0.0977 - acc: 0.9671 - val_loss: 1.6469 - val_acc: 0.7255\n",
      "Epoch 71/200\n",
      "26/26 - 22s - loss: 0.1131 - acc: 0.9627 - val_loss: 1.6028 - val_acc: 0.7230\n",
      "Epoch 72/200\n",
      "26/26 - 22s - loss: 0.0756 - acc: 0.9755 - val_loss: 1.7120 - val_acc: 0.7342\n",
      "Epoch 73/200\n",
      "26/26 - 22s - loss: 0.0815 - acc: 0.9713 - val_loss: 1.6957 - val_acc: 0.7367\n",
      "Epoch 74/200\n",
      "26/26 - 22s - loss: 0.0371 - acc: 0.9886 - val_loss: 1.8211 - val_acc: 0.7374\n",
      "Epoch 75/200\n",
      "26/26 - 22s - loss: 0.0304 - acc: 0.9883 - val_loss: 2.0319 - val_acc: 0.7405\n",
      "Epoch 76/200\n",
      "26/26 - 23s - loss: 0.0306 - acc: 0.9889 - val_loss: 1.9931 - val_acc: 0.7268\n",
      "Epoch 77/200\n",
      "26/26 - 24s - loss: 0.0476 - acc: 0.9833 - val_loss: 1.8728 - val_acc: 0.7411\n",
      "Epoch 78/200\n",
      "26/26 - 24s - loss: 0.0275 - acc: 0.9911 - val_loss: 1.8962 - val_acc: 0.7498\n",
      "Epoch 79/200\n",
      "26/26 - 22s - loss: 0.0310 - acc: 0.9906 - val_loss: 1.9408 - val_acc: 0.7205\n",
      "Epoch 80/200\n",
      "26/26 - 15s - loss: 0.1724 - acc: 0.9445 - val_loss: 1.5241 - val_acc: 0.7280\n",
      "Epoch 81/200\n",
      "26/26 - 15s - loss: 0.0927 - acc: 0.9725 - val_loss: 1.6918 - val_acc: 0.7361\n",
      "Epoch 82/200\n",
      "26/26 - 15s - loss: 0.0531 - acc: 0.9839 - val_loss: 1.7339 - val_acc: 0.7436\n",
      "Epoch 83/200\n",
      "26/26 - 14s - loss: 0.0660 - acc: 0.9794 - val_loss: 1.7660 - val_acc: 0.7286\n",
      "Epoch 84/200\n",
      "26/26 - 14s - loss: 0.0497 - acc: 0.9844 - val_loss: 1.8872 - val_acc: 0.7243\n",
      "Epoch 85/200\n",
      "26/26 - 14s - loss: 0.0602 - acc: 0.9799 - val_loss: 1.7330 - val_acc: 0.7324\n",
      "Epoch 86/200\n",
      "26/26 - 14s - loss: 0.0302 - acc: 0.9899 - val_loss: 1.8395 - val_acc: 0.7424\n",
      "Epoch 87/200\n",
      "26/26 - 14s - loss: 0.0230 - acc: 0.9925 - val_loss: 1.8644 - val_acc: 0.7324\n",
      "Epoch 88/200\n",
      "26/26 - 14s - loss: 0.0190 - acc: 0.9941 - val_loss: 1.9511 - val_acc: 0.7417\n",
      "Epoch 89/200\n",
      "26/26 - 14s - loss: 0.0136 - acc: 0.9955 - val_loss: 2.1056 - val_acc: 0.7336\n",
      "Epoch 90/200\n",
      "26/26 - 14s - loss: 0.0163 - acc: 0.9944 - val_loss: 2.2132 - val_acc: 0.7386\n"
     ]
    },
    {
     "name": "stdout",
     "output_type": "stream",
     "text": [
      "Epoch 91/200\n",
      "26/26 - 16s - loss: 0.0104 - acc: 0.9975 - val_loss: 2.2821 - val_acc: 0.7367\n",
      "Epoch 92/200\n",
      "26/26 - 16s - loss: 0.0155 - acc: 0.9939 - val_loss: 2.3384 - val_acc: 0.7305\n",
      "Epoch 93/200\n",
      "26/26 - 15s - loss: 0.0232 - acc: 0.9927 - val_loss: 2.0376 - val_acc: 0.7305\n",
      "Epoch 94/200\n",
      "26/26 - 15s - loss: 0.0203 - acc: 0.9942 - val_loss: 2.1826 - val_acc: 0.7492\n",
      "Epoch 95/200\n",
      "26/26 - 15s - loss: 0.0158 - acc: 0.9955 - val_loss: 2.3220 - val_acc: 0.7399\n",
      "Epoch 96/200\n",
      "26/26 - 14s - loss: 0.0180 - acc: 0.9942 - val_loss: 2.2204 - val_acc: 0.7342\n",
      "Epoch 97/200\n",
      "26/26 - 15s - loss: 0.0110 - acc: 0.9966 - val_loss: 2.3158 - val_acc: 0.7361\n",
      "Epoch 98/200\n",
      "26/26 - 21s - loss: 0.0151 - acc: 0.9950 - val_loss: 2.3169 - val_acc: 0.7417\n",
      "Epoch 99/200\n",
      "26/26 - 25s - loss: 0.0186 - acc: 0.9938 - val_loss: 2.4475 - val_acc: 0.7392\n",
      "Epoch 100/200\n",
      "26/26 - 25s - loss: 0.0245 - acc: 0.9911 - val_loss: 2.1885 - val_acc: 0.7467\n",
      "Epoch 101/200\n",
      "26/26 - 24s - loss: 0.0306 - acc: 0.9906 - val_loss: 2.0201 - val_acc: 0.7367\n",
      "Epoch 102/200\n",
      "26/26 - 23s - loss: 0.0374 - acc: 0.9867 - val_loss: 2.1091 - val_acc: 0.7449\n",
      "Epoch 103/200\n",
      "26/26 - 23s - loss: 0.0277 - acc: 0.9906 - val_loss: 2.2074 - val_acc: 0.7280\n",
      "Epoch 104/200\n",
      "26/26 - 22s - loss: 0.0292 - acc: 0.9900 - val_loss: 2.0297 - val_acc: 0.7417\n",
      "Epoch 105/200\n",
      "26/26 - 21s - loss: 0.0149 - acc: 0.9956 - val_loss: 2.1499 - val_acc: 0.7442\n",
      "Epoch 106/200\n",
      "26/26 - 21s - loss: 0.0305 - acc: 0.9910 - val_loss: 2.1697 - val_acc: 0.7436\n",
      "Epoch 107/200\n",
      "26/26 - 21s - loss: 0.0577 - acc: 0.9831 - val_loss: 2.1373 - val_acc: 0.7374\n",
      "Epoch 108/200\n",
      "26/26 - 23s - loss: 0.0420 - acc: 0.9874 - val_loss: 1.9141 - val_acc: 0.7380\n",
      "Epoch 109/200\n",
      "26/26 - 24s - loss: 0.0380 - acc: 0.9885 - val_loss: 1.9255 - val_acc: 0.7330\n",
      "Epoch 110/200\n",
      "26/26 - 25s - loss: 0.0305 - acc: 0.9905 - val_loss: 2.3383 - val_acc: 0.7361\n",
      "Epoch 111/200\n",
      "26/26 - 23s - loss: 0.0425 - acc: 0.9885 - val_loss: 1.9231 - val_acc: 0.7261\n",
      "Epoch 112/200\n",
      "26/26 - 23s - loss: 0.0331 - acc: 0.9900 - val_loss: 2.1440 - val_acc: 0.7355\n",
      "Epoch 113/200\n",
      "26/26 - 23s - loss: 0.0304 - acc: 0.9889 - val_loss: 2.3019 - val_acc: 0.7236\n",
      "Epoch 114/200\n",
      "26/26 - 24s - loss: 0.1728 - acc: 0.9446 - val_loss: 1.6838 - val_acc: 0.7261\n",
      "Epoch 115/200\n",
      "26/26 - 24s - loss: 0.1057 - acc: 0.9650 - val_loss: 1.5819 - val_acc: 0.7293\n",
      "Epoch 116/200\n",
      "26/26 - 24s - loss: 0.0370 - acc: 0.9891 - val_loss: 2.0405 - val_acc: 0.7424\n",
      "Epoch 117/200\n",
      "26/26 - 24s - loss: 0.0203 - acc: 0.9939 - val_loss: 2.0663 - val_acc: 0.7336\n",
      "Epoch 118/200\n",
      "26/26 - 25s - loss: 0.0223 - acc: 0.9938 - val_loss: 1.9463 - val_acc: 0.7430\n",
      "Epoch 119/200\n",
      "26/26 - 22s - loss: 0.0222 - acc: 0.9938 - val_loss: 2.1662 - val_acc: 0.7442\n",
      "Epoch 120/200\n",
      "26/26 - 26s - loss: 0.0138 - acc: 0.9952 - val_loss: 2.1684 - val_acc: 0.7492\n",
      "Epoch 121/200\n",
      "26/26 - 26s - loss: 0.0115 - acc: 0.9961 - val_loss: 2.2049 - val_acc: 0.7449\n",
      "Epoch 122/200\n",
      "26/26 - 24s - loss: 0.0071 - acc: 0.9978 - val_loss: 2.2292 - val_acc: 0.7530\n",
      "Epoch 123/200\n",
      "26/26 - 25s - loss: 0.0044 - acc: 0.9988 - val_loss: 2.3632 - val_acc: 0.7473\n",
      "Epoch 124/200\n",
      "26/26 - 25s - loss: 0.0114 - acc: 0.9964 - val_loss: 2.3872 - val_acc: 0.7162\n",
      "Epoch 125/200\n",
      "26/26 - 26s - loss: 0.0570 - acc: 0.9819 - val_loss: 2.0538 - val_acc: 0.7268\n",
      "Epoch 126/200\n",
      "26/26 - 25s - loss: 0.0498 - acc: 0.9838 - val_loss: 1.8064 - val_acc: 0.7342\n",
      "Epoch 127/200\n",
      "26/26 - 23s - loss: 0.0189 - acc: 0.9939 - val_loss: 2.2383 - val_acc: 0.7411\n",
      "Epoch 128/200\n",
      "26/26 - 21s - loss: 0.0083 - acc: 0.9973 - val_loss: 2.2907 - val_acc: 0.7380\n",
      "Epoch 129/200\n",
      "26/26 - 21s - loss: 0.0212 - acc: 0.9933 - val_loss: 2.1973 - val_acc: 0.7436\n",
      "Epoch 130/200\n",
      "26/26 - 22s - loss: 0.0252 - acc: 0.9914 - val_loss: 2.1033 - val_acc: 0.7068\n",
      "Epoch 131/200\n",
      "26/26 - 23s - loss: 0.1273 - acc: 0.9618 - val_loss: 1.6718 - val_acc: 0.7293\n",
      "Epoch 132/200\n",
      "26/26 - 24s - loss: 0.0663 - acc: 0.9789 - val_loss: 1.8395 - val_acc: 0.7361\n",
      "Epoch 133/200\n",
      "26/26 - 24s - loss: 0.0169 - acc: 0.9955 - val_loss: 2.0359 - val_acc: 0.7330\n",
      "Epoch 134/200\n",
      "26/26 - 24s - loss: 0.0144 - acc: 0.9956 - val_loss: 2.1184 - val_acc: 0.7380\n",
      "Epoch 135/200\n",
      "26/26 - 23s - loss: 0.0162 - acc: 0.9944 - val_loss: 2.0518 - val_acc: 0.7367\n",
      "Epoch 136/200\n",
      "26/26 - 23s - loss: 0.0146 - acc: 0.9952 - val_loss: 2.2782 - val_acc: 0.7355\n",
      "Epoch 137/200\n",
      "26/26 - 24s - loss: 0.0257 - acc: 0.9942 - val_loss: 2.2464 - val_acc: 0.7336\n",
      "Epoch 138/200\n",
      "26/26 - 24s - loss: 0.0184 - acc: 0.9936 - val_loss: 2.1438 - val_acc: 0.7318\n",
      "Epoch 139/200\n",
      "26/26 - 24s - loss: 0.0109 - acc: 0.9964 - val_loss: 2.1472 - val_acc: 0.7386\n",
      "Epoch 140/200\n",
      "26/26 - 23s - loss: 0.0129 - acc: 0.9952 - val_loss: 2.2787 - val_acc: 0.7399\n",
      "Epoch 141/200\n",
      "26/26 - 24s - loss: 0.0082 - acc: 0.9975 - val_loss: 2.6272 - val_acc: 0.7367\n",
      "Epoch 142/200\n",
      "26/26 - 26s - loss: 0.0080 - acc: 0.9966 - val_loss: 2.4581 - val_acc: 0.7342\n",
      "Epoch 143/200\n",
      "26/26 - 26s - loss: 0.0102 - acc: 0.9963 - val_loss: 2.3049 - val_acc: 0.7374\n",
      "Epoch 144/200\n",
      "26/26 - 26s - loss: 0.0257 - acc: 0.9914 - val_loss: 2.4738 - val_acc: 0.7268\n",
      "Epoch 145/200\n",
      "26/26 - 26s - loss: 0.0238 - acc: 0.9931 - val_loss: 2.2985 - val_acc: 0.7342\n",
      "Epoch 146/200\n",
      "26/26 - 26s - loss: 0.0081 - acc: 0.9972 - val_loss: 2.4096 - val_acc: 0.7442\n",
      "Epoch 147/200\n",
      "26/26 - 25s - loss: 0.0071 - acc: 0.9975 - val_loss: 2.2053 - val_acc: 0.7405\n",
      "Epoch 148/200\n",
      "26/26 - 25s - loss: 0.0496 - acc: 0.9874 - val_loss: 2.1454 - val_acc: 0.7168\n",
      "Epoch 149/200\n",
      "26/26 - 27s - loss: 0.0361 - acc: 0.9874 - val_loss: 2.0553 - val_acc: 0.7187\n",
      "Epoch 150/200\n",
      "26/26 - 26s - loss: 0.0427 - acc: 0.9888 - val_loss: 2.0692 - val_acc: 0.7374\n",
      "Epoch 151/200\n",
      "26/26 - 25s - loss: 0.0258 - acc: 0.9919 - val_loss: 2.5133 - val_acc: 0.7255\n",
      "Epoch 152/200\n",
      "26/26 - 24s - loss: 0.0948 - acc: 0.9735 - val_loss: 1.7476 - val_acc: 0.7374\n",
      "Epoch 153/200\n",
      "26/26 - 24s - loss: 0.0300 - acc: 0.9917 - val_loss: 1.9922 - val_acc: 0.7342\n",
      "Epoch 154/200\n",
      "26/26 - 23s - loss: 0.0203 - acc: 0.9947 - val_loss: 2.0916 - val_acc: 0.7280\n",
      "Epoch 155/200\n",
      "26/26 - 22s - loss: 0.0315 - acc: 0.9889 - val_loss: 2.4972 - val_acc: 0.7305\n",
      "Epoch 156/200\n",
      "26/26 - 22s - loss: 0.0250 - acc: 0.9914 - val_loss: 2.1066 - val_acc: 0.7411\n",
      "Epoch 157/200\n",
      "26/26 - 22s - loss: 0.0121 - acc: 0.9966 - val_loss: 2.2443 - val_acc: 0.7355\n",
      "Epoch 158/200\n",
      "26/26 - 21s - loss: 0.0079 - acc: 0.9977 - val_loss: 2.3059 - val_acc: 0.7330\n",
      "Epoch 159/200\n",
      "26/26 - 23s - loss: 0.0076 - acc: 0.9973 - val_loss: 2.1856 - val_acc: 0.7473\n",
      "Epoch 160/200\n",
      "26/26 - 24s - loss: 0.0084 - acc: 0.9977 - val_loss: 2.3607 - val_acc: 0.7411\n",
      "Epoch 161/200\n",
      "26/26 - 24s - loss: 0.0040 - acc: 0.9989 - val_loss: 2.4842 - val_acc: 0.7386\n",
      "Epoch 162/200\n",
      "26/26 - 22s - loss: 0.0090 - acc: 0.9970 - val_loss: 2.4562 - val_acc: 0.7392\n",
      "Epoch 163/200\n",
      "26/26 - 21s - loss: 0.0086 - acc: 0.9978 - val_loss: 2.4600 - val_acc: 0.7318\n",
      "Epoch 164/200\n",
      "26/26 - 21s - loss: 0.0114 - acc: 0.9958 - val_loss: 2.5453 - val_acc: 0.7355\n",
      "Epoch 165/200\n",
      "26/26 - 23s - loss: 0.0120 - acc: 0.9953 - val_loss: 2.7383 - val_acc: 0.7399\n",
      "Epoch 166/200\n",
      "26/26 - 24s - loss: 0.0143 - acc: 0.9959 - val_loss: 2.5429 - val_acc: 0.7424\n",
      "Epoch 167/200\n",
      "26/26 - 23s - loss: 0.1479 - acc: 0.9613 - val_loss: 1.7827 - val_acc: 0.7193\n",
      "Epoch 168/200\n",
      "26/26 - 22s - loss: 0.0935 - acc: 0.9725 - val_loss: 1.8197 - val_acc: 0.7199\n",
      "Epoch 169/200\n",
      "26/26 - 23s - loss: 0.0349 - acc: 0.9875 - val_loss: 2.0128 - val_acc: 0.7299\n",
      "Epoch 170/200\n",
      "26/26 - 23s - loss: 0.0213 - acc: 0.9939 - val_loss: 1.9454 - val_acc: 0.7399\n",
      "Epoch 171/200\n",
      "26/26 - 25s - loss: 0.0111 - acc: 0.9967 - val_loss: 1.9905 - val_acc: 0.7399\n",
      "Epoch 172/200\n",
      "26/26 - 24s - loss: 0.0118 - acc: 0.9953 - val_loss: 2.2193 - val_acc: 0.7324\n",
      "Epoch 173/200\n",
      "26/26 - 25s - loss: 0.0150 - acc: 0.9955 - val_loss: 2.2718 - val_acc: 0.7367\n",
      "Epoch 174/200\n",
      "26/26 - 25s - loss: 0.0108 - acc: 0.9967 - val_loss: 2.2955 - val_acc: 0.7324\n",
      "Epoch 175/200\n",
      "26/26 - 25s - loss: 0.0122 - acc: 0.9964 - val_loss: 2.3890 - val_acc: 0.7324\n",
      "Epoch 176/200\n",
      "26/26 - 26s - loss: 0.0149 - acc: 0.9953 - val_loss: 2.3645 - val_acc: 0.7380\n",
      "Epoch 177/200\n",
      "26/26 - 27s - loss: 0.0062 - acc: 0.9977 - val_loss: 2.3174 - val_acc: 0.7367\n",
      "Epoch 178/200\n",
      "26/26 - 25s - loss: 0.0081 - acc: 0.9983 - val_loss: 2.2930 - val_acc: 0.7367\n",
      "Epoch 179/200\n",
      "26/26 - 23s - loss: 0.0063 - acc: 0.9983 - val_loss: 2.5311 - val_acc: 0.7286\n",
      "Epoch 180/200\n"
     ]
    },
    {
     "name": "stdout",
     "output_type": "stream",
     "text": [
      "26/26 - 23s - loss: 0.0046 - acc: 0.9984 - val_loss: 2.7237 - val_acc: 0.7336\n",
      "Epoch 181/200\n",
      "26/26 - 22s - loss: 0.0075 - acc: 0.9975 - val_loss: 2.5926 - val_acc: 0.7349\n",
      "Epoch 182/200\n",
      "26/26 - 23s - loss: 0.0108 - acc: 0.9967 - val_loss: 2.5302 - val_acc: 0.7361\n",
      "Epoch 183/200\n",
      "26/26 - 25s - loss: 0.0163 - acc: 0.9939 - val_loss: 2.5953 - val_acc: 0.7342\n",
      "Epoch 184/200\n",
      "26/26 - 26s - loss: 0.0148 - acc: 0.9952 - val_loss: 2.2556 - val_acc: 0.7399\n",
      "Epoch 185/200\n",
      "26/26 - 26s - loss: 0.0101 - acc: 0.9966 - val_loss: 2.3332 - val_acc: 0.7286\n",
      "Epoch 186/200\n",
      "26/26 - 25s - loss: 0.0052 - acc: 0.9983 - val_loss: 2.5183 - val_acc: 0.7255\n",
      "Epoch 187/200\n",
      "26/26 - 26s - loss: 0.0098 - acc: 0.9969 - val_loss: 2.6480 - val_acc: 0.7361\n",
      "Epoch 188/200\n",
      "26/26 - 28s - loss: 0.0191 - acc: 0.9934 - val_loss: 2.4479 - val_acc: 0.7330\n",
      "Epoch 189/200\n",
      "26/26 - 30s - loss: 0.0132 - acc: 0.9958 - val_loss: 2.3350 - val_acc: 0.7336\n",
      "Epoch 190/200\n",
      "26/26 - 29s - loss: 0.0156 - acc: 0.9956 - val_loss: 2.3174 - val_acc: 0.7455\n",
      "Epoch 191/200\n",
      "26/26 - 26s - loss: 0.0237 - acc: 0.9934 - val_loss: 2.5184 - val_acc: 0.7236\n",
      "Epoch 192/200\n",
      "26/26 - 26s - loss: 0.0174 - acc: 0.9945 - val_loss: 2.4342 - val_acc: 0.7255\n",
      "Epoch 193/200\n",
      "26/26 - 28s - loss: 0.0179 - acc: 0.9939 - val_loss: 2.3667 - val_acc: 0.7399\n",
      "Epoch 194/200\n",
      "26/26 - 28s - loss: 0.1249 - acc: 0.9657 - val_loss: 1.8008 - val_acc: 0.7243\n",
      "Epoch 195/200\n",
      "26/26 - 27s - loss: 0.0841 - acc: 0.9760 - val_loss: 1.7104 - val_acc: 0.7367\n",
      "Epoch 196/200\n",
      "26/26 - 28s - loss: 0.0293 - acc: 0.9911 - val_loss: 1.9422 - val_acc: 0.7386\n",
      "Epoch 197/200\n",
      "26/26 - 26s - loss: 0.0219 - acc: 0.9920 - val_loss: 1.9657 - val_acc: 0.7411\n",
      "Epoch 198/200\n",
      "26/26 - 26s - loss: 0.0133 - acc: 0.9953 - val_loss: 2.2363 - val_acc: 0.7374\n",
      "Epoch 199/200\n",
      "26/26 - 26s - loss: 0.0200 - acc: 0.9945 - val_loss: 2.5785 - val_acc: 0.7330\n",
      "Epoch 200/200\n",
      "26/26 - 26s - loss: 0.0794 - acc: 0.9774 - val_loss: 1.8758 - val_acc: 0.7330\n"
     ]
    }
   ],
   "source": [
    "try:\n",
    "    model_CNN_V1.load_weights('../models/CNN_weight.h5')\n",
    "except:\n",
    "    print(\"new model_CNN_V1\")\n",
    "\n",
    "batch_size = 256\n",
    "epochs = 200\n",
    "\n",
    "train_history = model_CNN_V1.fit(\n",
    "    train_data,train_label,\n",
    "    epochs=epochs,\n",
    "    validation_split=0.2,\n",
    "    batch_size=batch_size,\n",
    "    verbose=2,class_weight=class_weight)"
   ]
  },
  {
   "cell_type": "code",
   "execution_count": 12,
   "metadata": {
    "pycharm": {
     "name": "#%%\n"
    }
   },
   "outputs": [],
   "source": [
    "model_CNN_V1.save_weights('../models/CNN_weight.h5')\n",
    "model_CNN_V1.save('../models/CNN_V1.h5')"
   ]
  },
  {
   "cell_type": "markdown",
   "metadata": {
    "pycharm": {
     "name": "#%% md\n"
    }
   },
   "source": [
    "# Apply Over Sampling"
   ]
  },
  {
   "cell_type": "code",
   "execution_count": 13,
   "metadata": {
    "pycharm": {
     "name": "#%%\n"
    }
   },
   "outputs": [
    {
     "name": "stderr",
     "output_type": "stream",
     "text": [
      "/Users/skylan/opt/anaconda3/lib/python3.8/site-packages/sklearn/utils/validation.py:70: FutureWarning: Pass classes=[0 1 2 3 4 5 6] as keyword args. From version 1.0 (renaming of 0.25) passing these as positional arguments will result in an error\n",
      "  warnings.warn(f\"Pass {args_msg} as keyword args. From version \"\n"
     ]
    }
   ],
   "source": [
    "smote_sample = SMOTE(random_state=87)\n",
    "train_data = train_data.reshape(-1,image_size*image_size*3)\n",
    "train_data_oversample, train_label_oversample = smote_sample.fit_resample(train_data, train_label)\n",
    "train_data_oversample = train_data_oversample.reshape(-1,image_size,image_size,3)\n",
    "train_data = train_data.reshape(-1,image_size,image_size,3)"
   ]
  },
  {
   "cell_type": "markdown",
   "metadata": {
    "pycharm": {
     "name": "#%% md\n"
    }
   },
   "source": [
    "# Setup CNN Model V2"
   ]
  },
  {
   "cell_type": "code",
   "execution_count": 14,
   "metadata": {
    "pycharm": {
     "name": "#%%\n"
    }
   },
   "outputs": [
    {
     "name": "stdout",
     "output_type": "stream",
     "text": [
      "Model: \"sequential_1\"\n",
      "_________________________________________________________________\n",
      "Layer (type)                 Output Shape              Param #   \n",
      "=================================================================\n",
      "conv2d_6 (Conv2D)            (None, 32, 32, 32)        896       \n",
      "_________________________________________________________________\n",
      "dropout_5 (Dropout)          (None, 32, 32, 32)        0         \n",
      "_________________________________________________________________\n",
      "conv2d_7 (Conv2D)            (None, 32, 32, 32)        9248      \n",
      "_________________________________________________________________\n",
      "max_pooling2d_3 (MaxPooling2 (None, 16, 16, 32)        0         \n",
      "_________________________________________________________________\n",
      "conv2d_8 (Conv2D)            (None, 16, 16, 64)        18496     \n",
      "_________________________________________________________________\n",
      "dropout_6 (Dropout)          (None, 16, 16, 64)        0         \n",
      "_________________________________________________________________\n",
      "conv2d_9 (Conv2D)            (None, 16, 16, 64)        36928     \n",
      "_________________________________________________________________\n",
      "max_pooling2d_4 (MaxPooling2 (None, 8, 8, 64)          0         \n",
      "_________________________________________________________________\n",
      "conv2d_10 (Conv2D)           (None, 8, 8, 128)         73856     \n",
      "_________________________________________________________________\n",
      "dropout_7 (Dropout)          (None, 8, 8, 128)         0         \n",
      "_________________________________________________________________\n",
      "conv2d_11 (Conv2D)           (None, 8, 8, 128)         147584    \n",
      "_________________________________________________________________\n",
      "max_pooling2d_5 (MaxPooling2 (None, 4, 4, 128)         0         \n",
      "_________________________________________________________________\n",
      "flatten_1 (Flatten)          (None, 2048)              0         \n",
      "_________________________________________________________________\n",
      "dropout_8 (Dropout)          (None, 2048)              0         \n",
      "_________________________________________________________________\n",
      "dense_3 (Dense)              (None, 2048)              4196352   \n",
      "_________________________________________________________________\n",
      "dropout_9 (Dropout)          (None, 2048)              0         \n",
      "_________________________________________________________________\n",
      "dense_4 (Dense)              (None, 1024)              2098176   \n",
      "_________________________________________________________________\n",
      "dropout_10 (Dropout)         (None, 1024)              0         \n",
      "_________________________________________________________________\n",
      "dense_5 (Dense)              (None, 7)                 7175      \n",
      "=================================================================\n",
      "Total params: 6,588,711\n",
      "Trainable params: 6,588,711\n",
      "Non-trainable params: 0\n",
      "_________________________________________________________________\n"
     ]
    }
   ],
   "source": [
    "num_classes = 7\n",
    "dimension = image_size*image_size*3\n",
    "\n",
    "model_CNN_V2 = Sequential()\n",
    "\n",
    "#CNN layer 1:\n",
    "model_CNN_V2.add(Conv2D(filters=32,kernel_size=(3,3),input_shape=(image_size,image_size,3),activation='relu',padding='same'))\n",
    "model_CNN_V2.add(Dropout(0.2))\n",
    "model_CNN_V2.add(Conv2D(filters=32,kernel_size=(3,3),activation='relu',padding='same'))\n",
    "model_CNN_V2.add(MaxPooling2D(pool_size=(2,2)))\n",
    "\n",
    "#CNN layer 2\n",
    "model_CNN_V2.add(Conv2D(filters=64,kernel_size=(3,3),activation='relu',padding='same'))\n",
    "model_CNN_V2.add(Dropout(0.2))\n",
    "model_CNN_V2.add(Conv2D(filters=64,kernel_size=(3,3),activation='relu',padding='same'))\n",
    "model_CNN_V2.add(MaxPooling2D(pool_size=(2,2)))\n",
    "\n",
    "#CNN layer 3\n",
    "model_CNN_V2.add(Conv2D(filters=128,kernel_size=(3,3),activation='relu',padding='same'))\n",
    "model_CNN_V2.add(Dropout(0.2))\n",
    "model_CNN_V2.add(Conv2D(filters=128,kernel_size=(3,3),activation='relu',padding='same'))\n",
    "model_CNN_V2.add(MaxPooling2D(pool_size=(2,2)))\n",
    "\n",
    "#Flatten layer\n",
    "model_CNN_V2.add(Flatten())\n",
    "model_CNN_V2.add(Dropout(0.4))\n",
    "\n",
    "#hidden layer 1\n",
    "model_CNN_V2.add(Dense(2048,activation='relu'))\n",
    "model_CNN_V2.add(Dropout(0.4))\n",
    "\n",
    "#hidden layer 2\n",
    "model_CNN_V2.add(Dense(1024,activation='relu'))\n",
    "model_CNN_V2.add(Dropout(0.4))\n",
    "\n",
    "#output layer\n",
    "model_CNN_V2.add(Dense(7,activation='softmax'))\n",
    "model_CNN_V2.summary()\n",
    "\n",
    "model_CNN_V2.compile(loss='categorical_crossentropy', optimizer='Adam', metrics=['acc'])\n"
   ]
  },
  {
   "cell_type": "markdown",
   "metadata": {
    "pycharm": {
     "name": "#%% md\n"
    }
   },
   "source": [
    "# Train CNN V2"
   ]
  },
  {
   "cell_type": "code",
   "execution_count": null,
   "metadata": {
    "pycharm": {
     "name": "#%%\n"
    }
   },
   "outputs": [],
   "source": [
    "try:\n",
    "    model_CNN_V2.load_weights('../models/CNN_V2_weight.h5')\n",
    "except:\n",
    "    print(\"new model_CNN_V2\")\n",
    "\n",
    "# Train\n",
    "batch_size = 256\n",
    "epochs = 200\n",
    "\n",
    "train_history_2 = model_CNN_V2.fit(\n",
    "    train_data_oversample,train_label_oversample,\n",
    "    epochs=epochs,\n",
    "    batch_size= batch_size,\n",
    "    validation_split=0.2,\n",
    "    verbose=2,shuffle=True)"
   ]
  },
  {
   "cell_type": "code",
   "execution_count": null,
   "metadata": {
    "pycharm": {
     "name": "#%%\n"
    }
   },
   "outputs": [],
   "source": [
    "model_CNN_V2.save_weights('../models/CNN_V2_weight.h5')\n",
    "model_CNN_V2.save('../models/CNN_V2.h5')"
   ]
  },
  {
   "cell_type": "code",
   "execution_count": null,
   "metadata": {
    "pycharm": {
     "name": "#%%\n"
    }
   },
   "outputs": [],
   "source": [
    "def plot_model_accuracy(train_history, path):\n",
    "    plt.plot(train_history.history['acc'])\n",
    "    plt.plot(train_history.history['val_acc'])\n",
    "    plt.title('Model Accuracy')\n",
    "    plt.ylabel('accuracy')\n",
    "    plt.xlabel('epochs')\n",
    "    plt.legend(['train', 'validation'], loc = 'upper left')\n",
    "    plt.savefig(path)\n",
    "    plt.show()\n",
    "    \n",
    "def plot_model_loss(train_history, path):\n",
    "    plt.plot(train_history.history['loss'])\n",
    "    plt.plot(train_history.history['val_loss'])\n",
    "    plt.title(\"Model Loss\")\n",
    "    plt.ylabel('loss')\n",
    "    plt.xlabel('epochs')\n",
    "    plt.legend(['train', 'validation'], loc = 'upper left')\n",
    "    plt.savefig(path)\n",
    "    plt.show()"
   ]
  },
  {
   "cell_type": "markdown",
   "metadata": {
    "pycharm": {
     "name": "#%% md\n"
    }
   },
   "source": [
    "# Train History"
   ]
  },
  {
   "cell_type": "code",
   "execution_count": null,
   "metadata": {
    "pycharm": {
     "name": "#%%\n"
    }
   },
   "outputs": [],
   "source": [
    "#plot train history\n",
    "print(\"V1\")\n",
    "plot_model_accuracy(train_history, '../plots/CNN_V1_training_history.jpg')\n",
    "print(\"V2\")\n",
    "plot_model_accuracy(train_history, '../plots/CNN_V2_training_history.jpg')"
   ]
  },
  {
   "cell_type": "markdown",
   "metadata": {
    "pycharm": {
     "name": "#%% md\n"
    }
   },
   "source": [
    "# Loss"
   ]
  },
  {
   "cell_type": "code",
   "execution_count": null,
   "metadata": {
    "pycharm": {
     "name": "#%%\n"
    }
   },
   "outputs": [],
   "source": [
    "print(\"V1\")\n",
    "plot_model_loss(train_history, '../plots/CNN_V1_training_loss.jpg')\n",
    "print(\"V2\")\n",
    "plot_model_loss(train_history, '../plots/CNN_V2_training_loss.jpg')"
   ]
  },
  {
   "cell_type": "markdown",
   "metadata": {
    "pycharm": {
     "name": "#%% md\n"
    }
   },
   "source": [
    "# Prediction score"
   ]
  },
  {
   "cell_type": "code",
   "execution_count": null,
   "metadata": {
    "pycharm": {
     "name": "#%%\n"
    }
   },
   "outputs": [],
   "source": [
    "#score\n",
    "score = model_CNN_V1.evaluate(test_data, test_label)\n",
    "print('Test accuracy for CNN V1:', score[1])\n",
    "\n",
    "#score\n",
    "score2 = model_CNN_V2.evaluate(test_data, test_label)\n",
    "print('Test accuracy: for CNN V2', score2[1])"
   ]
  },
  {
   "cell_type": "markdown",
   "metadata": {
    "pycharm": {
     "name": "#%% md\n"
    }
   },
   "source": [
    "# Confusion Matrix"
   ]
  },
  {
   "cell_type": "code",
   "execution_count": null,
   "metadata": {
    "pycharm": {
     "name": "#%%\n"
    }
   },
   "outputs": [],
   "source": [
    "#predictions\n",
    "print(\"confusion matrix for CNN V1\")\n",
    "prediction = model_CNN_V1.predict(test_data)\n",
    "\n",
    "prediction_class = np.argmax(prediction,axis=1)\n",
    "prediction_label = np.argmax(test_label,axis=1)\n",
    "\n",
    "#confusion matrix\n",
    "mapping = lambda x:features_dict[x]\n",
    "pred_class_to_feature = np.array([mapping(x) for x in prediction_class])\n",
    "pred_label_to_feature = np.array([mapping(x) for x in prediction_label])\n",
    "#pred_label_to_feature = prediction_label.map(lambda x:features_dict[x])\n",
    "\n",
    "#confusion matrix\n",
    "print(pd.crosstab(pred_label_to_feature,pred_class_to_feature,rownames=['actual'],colnames=['predicted']))\n",
    "\n",
    "#predictions\n",
    "\n",
    "print(\"confusion matrix for CNN V2\")\n",
    "prediction_2 = model_CNN_V2.predict(test_data)\n",
    "\n",
    "prediction_class_2 = np.argmax(prediction_2,axis=1)\n",
    "prediction_label_2 = np.argmax(test_label,axis=1)\n",
    "\n",
    "#confusion matrix\n",
    "mapping = lambda x:features_dict[x]\n",
    "pred_class_to_feature_2 = np.array([mapping(x) for x in prediction_class_2])\n",
    "pred_label_to_feature_2 = np.array([mapping(x) for x in prediction_label_2])\n",
    "#pred_label_to_feature = prediction_label.map(lambda x:features_dict[x])\n",
    "\n",
    "#confusion matrix\n",
    "print(pd.crosstab(pred_label_to_feature_2,pred_class_to_feature_2,rownames=['actual'],colnames=['predicted']))"
   ]
  }
 ],
 "metadata": {
  "kernelspec": {
   "display_name": "Python 3",
   "language": "python",
   "name": "python3"
  },
  "language_info": {
   "codemirror_mode": {
    "name": "ipython",
    "version": 3
   },
   "file_extension": ".py",
   "mimetype": "text/x-python",
   "name": "python",
   "nbconvert_exporter": "python",
   "pygments_lexer": "ipython3",
   "version": "3.8.5"
  }
 },
 "nbformat": 4,
 "nbformat_minor": 1
}
