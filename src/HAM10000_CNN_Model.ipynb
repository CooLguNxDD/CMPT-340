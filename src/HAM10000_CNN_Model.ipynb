{
 "cells": [
  {
   "cell_type": "markdown",
   "metadata": {
    "collapsed": true
   },
   "source": [
    "# In this notebook, we are going to implement CNN model to analysis the data\n",
    "## https://en.wikipedia.org/wiki/Multilayer_perceptron\n"
   ]
  },
  {
   "cell_type": "code",
   "execution_count": 2,
   "metadata": {},
   "outputs": [],
   "source": [
    "import matplotlib.pyplot as plt\n",
    "import tensorflow as tf\n",
    "import numpy as np\n",
    "import os\n",
    "import pandas as pd\n",
    "from PIL import Image"
   ]
  },
  {
   "cell_type": "markdown",
   "metadata": {},
   "source": [
    "# Data Loading"
   ]
  },
  {
   "cell_type": "code",
   "execution_count": 5,
   "metadata": {
    "pycharm": {
     "name": "#%% read csv\n"
    }
   },
   "outputs": [
    {
     "data": {
      "text/html": [
       "<div>\n",
       "<style scoped>\n",
       "    .dataframe tbody tr th:only-of-type {\n",
       "        vertical-align: middle;\n",
       "    }\n",
       "\n",
       "    .dataframe tbody tr th {\n",
       "        vertical-align: top;\n",
       "    }\n",
       "\n",
       "    .dataframe thead th {\n",
       "        text-align: right;\n",
       "    }\n",
       "</style>\n",
       "<table border=\"1\" class=\"dataframe\">\n",
       "  <thead>\n",
       "    <tr style=\"text-align: right;\">\n",
       "      <th></th>\n",
       "      <th>lesion_id</th>\n",
       "      <th>image_id</th>\n",
       "      <th>dx</th>\n",
       "      <th>dx_type</th>\n",
       "      <th>age</th>\n",
       "      <th>sex</th>\n",
       "      <th>localization</th>\n",
       "    </tr>\n",
       "  </thead>\n",
       "  <tbody>\n",
       "    <tr>\n",
       "      <th>0</th>\n",
       "      <td>HAM_0000118</td>\n",
       "      <td>ISIC_0027419</td>\n",
       "      <td>bkl</td>\n",
       "      <td>histo</td>\n",
       "      <td>80.0</td>\n",
       "      <td>male</td>\n",
       "      <td>scalp</td>\n",
       "    </tr>\n",
       "    <tr>\n",
       "      <th>1</th>\n",
       "      <td>HAM_0000118</td>\n",
       "      <td>ISIC_0025030</td>\n",
       "      <td>bkl</td>\n",
       "      <td>histo</td>\n",
       "      <td>80.0</td>\n",
       "      <td>male</td>\n",
       "      <td>scalp</td>\n",
       "    </tr>\n",
       "    <tr>\n",
       "      <th>2</th>\n",
       "      <td>HAM_0002730</td>\n",
       "      <td>ISIC_0026769</td>\n",
       "      <td>bkl</td>\n",
       "      <td>histo</td>\n",
       "      <td>80.0</td>\n",
       "      <td>male</td>\n",
       "      <td>scalp</td>\n",
       "    </tr>\n",
       "    <tr>\n",
       "      <th>3</th>\n",
       "      <td>HAM_0002730</td>\n",
       "      <td>ISIC_0025661</td>\n",
       "      <td>bkl</td>\n",
       "      <td>histo</td>\n",
       "      <td>80.0</td>\n",
       "      <td>male</td>\n",
       "      <td>scalp</td>\n",
       "    </tr>\n",
       "    <tr>\n",
       "      <th>4</th>\n",
       "      <td>HAM_0001466</td>\n",
       "      <td>ISIC_0031633</td>\n",
       "      <td>bkl</td>\n",
       "      <td>histo</td>\n",
       "      <td>75.0</td>\n",
       "      <td>male</td>\n",
       "      <td>ear</td>\n",
       "    </tr>\n",
       "  </tbody>\n",
       "</table>\n",
       "</div>"
      ],
      "text/plain": [
       "     lesion_id      image_id   dx dx_type   age   sex localization\n",
       "0  HAM_0000118  ISIC_0027419  bkl   histo  80.0  male        scalp\n",
       "1  HAM_0000118  ISIC_0025030  bkl   histo  80.0  male        scalp\n",
       "2  HAM_0002730  ISIC_0026769  bkl   histo  80.0  male        scalp\n",
       "3  HAM_0002730  ISIC_0025661  bkl   histo  80.0  male        scalp\n",
       "4  HAM_0001466  ISIC_0031633  bkl   histo  75.0  male          ear"
      ]
     },
     "execution_count": 5,
     "metadata": {},
     "output_type": "execute_result"
    }
   ],
   "source": [
    "df = pd.read_csv('../data/HAM10000_metadata.csv')\n",
    "df.dataframeName = 'HAM10000_metadata.csv'\n",
    "df.head()"
   ]
  },
  {
   "cell_type": "markdown",
   "metadata": {},
   "source": [
    "# Data Preprocessing"
   ]
  },
  {
   "cell_type": "code",
   "execution_count": 3,
   "metadata": {
    "pycharm": {
     "name": "#%%\n"
    }
   },
   "outputs": [
    {
     "name": "stdout",
     "output_type": "stream",
     "text": [
      "['akiec', 'bcc', 'bkl', 'df', 'mel', 'nv', 'vasc']\n",
      "        lesion_id      image_id   dx    dx_type   age     sex  \\\n",
      "662   HAM_0006541  ISIC_0025040  bkl      histo  35.0  female   \n",
      "6493  HAM_0007137  ISIC_0031327   nv  follow_up  65.0    male   \n",
      "4462  HAM_0002656  ISIC_0027116   nv  follow_up  45.0  female   \n",
      "5948  HAM_0004973  ISIC_0025872   nv  follow_up  45.0    male   \n",
      "2495  HAM_0004871  ISIC_0030261  bcc      histo  70.0    male   \n",
      "\n",
      "         localization  label  \n",
      "662   lower extremity      2  \n",
      "6493          abdomen      5  \n",
      "4462            trunk      5  \n",
      "5948            trunk      5  \n",
      "2495             back      1  \n"
     ]
    }
   ],
   "source": [
    "# Preprocess labels\n",
    "from sklearn.preprocessing import LabelEncoder\n",
    "label_encoder = LabelEncoder()\n",
    "label_encoder.fit(df['dx'])\n",
    "print(list(label_encoder.classes_))\n",
    "df['label'] = label_encoder.transform(df[\"dx\"])\n",
    "print(df.sample(5))"
   ]
  },
  {
   "cell_type": "markdown",
   "metadata": {
    "pycharm": {
     "name": "#%% md\n"
    }
   },
   "source": [
    "# features to label\n",
    "akiex -> 0\n",
    "bcc -> 1\n",
    "bkl -> 2\n",
    "df -> 3\n",
    "mel -> 4\n",
    "nv -> 5\n",
    "vasc -> 6"
   ]
  },
  {
   "cell_type": "code",
   "execution_count": 4,
   "metadata": {
    "pycharm": {
     "name": "#%%\n"
    }
   },
   "outputs": [],
   "source": [
    "features_dict = {0:\"akiex\",1:\"bcc\",2:\"bkl\",3:\"df\",\n",
    "                 4:\"mel\",5:\"nv\",6:\"vasc\"}"
   ]
  },
  {
   "cell_type": "code",
   "execution_count": 5,
   "metadata": {
    "pycharm": {
     "name": "#%%\n"
    }
   },
   "outputs": [
    {
     "name": "stdout",
     "output_type": "stream",
     "text": [
      "total number of data:  10015\n",
      "5    6705\n",
      "4    1113\n",
      "2    1099\n",
      "1     514\n",
      "0     327\n",
      "6     142\n",
      "3     115\n",
      "Name: label, dtype: int64\n",
      "5   1.0\n",
      "4   1.0\n",
      "2   1.0\n",
      "1   1.0237058335894402\n",
      "0   1.4759689281473518\n",
      "6   2.310102041443345\n",
      "3   2.520996970681355\n"
     ]
    }
   ],
   "source": [
    "import math\n",
    "#assign weight\n",
    "#sum of the data\n",
    "total_data = 0\n",
    "num_classes = 7\n",
    "for num_of_data in df['label'].value_counts():\n",
    "    total_data+=num_of_data\n",
    "print(\"total number of data: \",total_data)\n",
    "print(df['label'].value_counts())\n",
    "#calc weight for each class\n",
    "class_weight ={}\n",
    "for index, value in df.label.value_counts().iteritems():\n",
    "    v1 = math.log(total_data/(float(value)*num_classes))\n",
    "    class_weight[index] = v1 if v1>1.0 else 1.0\n",
    "\n",
    "for i in class_weight:\n",
    "    print(i,\" \",class_weight[i])\n"
   ]
  },
  {
   "cell_type": "code",
   "execution_count": 6,
   "metadata": {
    "pycharm": {
     "name": "#%% preprocess image\n"
    }
   },
   "outputs": [],
   "source": [
    "from glob import glob\n",
    "image_size = 32 #the size that the image will resize to\n",
    "image_path = {os.path.splitext(os.path.basename(x))[0]: x\n",
    "              for x in glob(os.path.join('input/','*','*.jpg'))}\n",
    "#image path\n",
    "df['path'] = df['image_id'].map(lambda id: image_path.get(id))"
   ]
  },
  {
   "cell_type": "code",
   "execution_count": 7,
   "metadata": {
    "pycharm": {
     "name": "#%%\n"
    }
   },
   "outputs": [],
   "source": [
    "#image_64 is the actual image(resized to 64x64) store in the dataframe\n",
    "#it takes time to process the image\n",
    "df['image_64'] = df['path'].map(lambda path:Image.open(path).resize((image_size,image_size)))"
   ]
  },
  {
   "cell_type": "code",
   "execution_count": 8,
   "metadata": {
    "pycharm": {
     "name": "#%%\n"
    }
   },
   "outputs": [
    {
     "data": {
      "image/png": "[encoded data removed]",
      "text/plain": [
       "<Figure size 432x288 with 10 Axes>"
      ]
     },
     "metadata": {
      "needs_background": "light"
     },
     "output_type": "display_data"
    }
   ],
   "source": [
    "#print some image\n",
    "index = 1\n",
    "for image in df['image_64'].head(10):\n",
    "    plots = plt.subplot(2,5,index)\n",
    "    plots.imshow(image)\n",
    "    index+=1"
   ]
  },
  {
   "cell_type": "code",
   "execution_count": 9,
   "metadata": {
    "pycharm": {
     "name": "#%%\n"
    }
   },
   "outputs": [],
   "source": [
    "#image to array\n",
    "from tensorflow import keras\n",
    "from tensorflow.keras.utils import to_categorical\n",
    "from tensorflow.keras.models import Sequential\n",
    "from sklearn.model_selection import StratifiedShuffleSplit,train_test_split\n",
    "\n",
    "df['image'] = df['image_64'].map(lambda image: np.asarray(image))\n",
    "data = np.asarray(df['image'].to_list())\n",
    "#data = data.reshape(total_data,image_size*image_size*3).astype('float32')\n",
    "data = data/255.0 #normalise the RGB value to [0...1]\n",
    "label_to_one_hot = to_categorical(df['label'], num_classes=7)\n",
    "#80% data for training\n",
    "#20% data for testing\n",
    "import random\n",
    "train_data,test_data,train_label,test_label = train_test_split(data,label_to_one_hot,test_size=0.20,random_state=random.randint(1,99),stratify=label_to_one_hot)"
   ]
  },
  {
   "cell_type": "code",
   "execution_count": 10,
   "metadata": {
    "pycharm": {
     "name": "#%%\n"
    }
   },
   "outputs": [
    {
     "name": "stdout",
     "output_type": "stream",
     "text": [
      "Model: \"sequential\"\n",
      "_________________________________________________________________\n",
      "Layer (type)                 Output Shape              Param #   \n",
      "=================================================================\n",
      "conv2d (Conv2D)              (None, 32, 32, 32)        896       \n",
      "_________________________________________________________________\n",
      "dropout (Dropout)            (None, 32, 32, 32)        0         \n",
      "_________________________________________________________________\n",
      "conv2d_1 (Conv2D)            (None, 32, 32, 32)        9248      \n",
      "_________________________________________________________________\n",
      "max_pooling2d (MaxPooling2D) (None, 16, 16, 32)        0         \n",
      "_________________________________________________________________\n",
      "conv2d_2 (Conv2D)            (None, 16, 16, 64)        18496     \n",
      "_________________________________________________________________\n",
      "dropout_1 (Dropout)          (None, 16, 16, 64)        0         \n",
      "_________________________________________________________________\n",
      "conv2d_3 (Conv2D)            (None, 16, 16, 64)        36928     \n",
      "_________________________________________________________________\n",
      "max_pooling2d_1 (MaxPooling2 (None, 8, 8, 64)          0         \n",
      "_________________________________________________________________\n",
      "conv2d_4 (Conv2D)            (None, 8, 8, 128)         73856     \n",
      "_________________________________________________________________\n",
      "dropout_2 (Dropout)          (None, 8, 8, 128)         0         \n",
      "_________________________________________________________________\n",
      "conv2d_5 (Conv2D)            (None, 8, 8, 128)         147584    \n",
      "_________________________________________________________________\n",
      "max_pooling2d_2 (MaxPooling2 (None, 4, 4, 128)         0         \n",
      "_________________________________________________________________\n",
      "conv2d_6 (Conv2D)            (None, 4, 4, 256)         295168    \n",
      "_________________________________________________________________\n",
      "dropout_3 (Dropout)          (None, 4, 4, 256)         0         \n",
      "_________________________________________________________________\n",
      "conv2d_7 (Conv2D)            (None, 4, 4, 256)         590080    \n",
      "_________________________________________________________________\n",
      "max_pooling2d_3 (MaxPooling2 (None, 2, 2, 256)         0         \n",
      "_________________________________________________________________\n",
      "flatten (Flatten)            (None, 1024)              0         \n",
      "_________________________________________________________________\n",
      "dense (Dense)                (None, 4096)              4198400   \n",
      "_________________________________________________________________\n",
      "dropout_4 (Dropout)          (None, 4096)              0         \n",
      "_________________________________________________________________\n",
      "dense_1 (Dense)              (None, 1024)              4195328   \n",
      "_________________________________________________________________\n",
      "dropout_5 (Dropout)          (None, 1024)              0         \n",
      "_________________________________________________________________\n",
      "dense_2 (Dense)              (None, 7)                 7175      \n",
      "=================================================================\n",
      "Total params: 9,573,159\n",
      "Trainable params: 9,573,159\n",
      "Non-trainable params: 0\n",
      "_________________________________________________________________\n"
     ]
    }
   ],
   "source": [
    "#setup CNN model\n",
    "from tensorflow.keras.models import Model\n",
    "from tensorflow.keras.layers import Dense, Dropout,Flatten,Conv2D,MaxPooling2D\n",
    "num_classes = 7\n",
    "dimension = image_size*image_size*3\n",
    "\n",
    "model = Sequential()\n",
    "\n",
    "#CNN layer 1:\n",
    "model.add(Conv2D(filters=32,kernel_size=(3,3),input_shape=(image_size,image_size,3),activation='relu',padding='same'))\n",
    "model.add(Dropout(0.1))\n",
    "model.add(Conv2D(filters=32,kernel_size=(3,3),activation='relu',padding='same'))\n",
    "model.add(MaxPooling2D(pool_size=(2,2)))\n",
    "\n",
    "\n",
    "#CNN layer 2\n",
    "model.add(Conv2D(filters=64,kernel_size=(3,3),activation='relu',padding='same'))\n",
    "model.add(Dropout(0.1))\n",
    "model.add(Conv2D(filters=64,kernel_size=(3,3),activation='relu',padding='same'))\n",
    "model.add(MaxPooling2D(pool_size=(2,2)))\n",
    "\n",
    "\n",
    "#CNN layer 3\n",
    "model.add(Conv2D(filters=128,kernel_size=(3,3),activation='relu',padding='same'))\n",
    "model.add(Dropout(0.1))\n",
    "model.add(Conv2D(filters=128,kernel_size=(3,3),activation='relu',padding='same'))\n",
    "model.add(MaxPooling2D(pool_size=(2,2)))\n",
    "\n",
    "\n",
    "#CNN layer 4\n",
    "model.add(Conv2D(filters=256,kernel_size=(3,3),activation='relu',padding='same'))\n",
    "model.add(Dropout(0.1))\n",
    "model.add(Conv2D(filters=256,kernel_size=(3,3),activation='relu',padding='same'))\n",
    "model.add(MaxPooling2D(pool_size=(2,2)))\n",
    "\n",
    "\n",
    "#Flatten layer\n",
    "model.add(Flatten())\n",
    "\n",
    "#hidden layer 1\n",
    "model.add(Dense(4096,activation='relu'))\n",
    "model.add(Dropout(0.1))\n",
    "\n",
    "#hidden layer 2\n",
    "model.add(Dense(1024,activation='relu'))\n",
    "model.add(Dropout(0.1))\n",
    "\n",
    "#output layer\n",
    "model.add(Dense(7,activation='softmax'))\n",
    "model.summary()\n",
    "\n",
    "model.compile(loss='categorical_crossentropy', optimizer='Adam', metrics=['acc'])"
   ]
  },
  {
   "cell_type": "code",
   "execution_count": 11,
   "metadata": {
    "pycharm": {
     "name": "#%%\n"
    }
   },
   "outputs": [
    {
     "name": "stdout",
     "output_type": "stream",
     "text": [
      "WARNING:tensorflow:From C:\\Users\\andre\\anaconda3\\envs\\cmpt340_conda\\lib\\site-packages\\tensorflow\\python\\ops\\array_ops.py:5043: calling gather (from tensorflow.python.ops.array_ops) with validate_indices is deprecated and will be removed in a future version.\n",
      "Instructions for updating:\n",
      "The `validate_indices` argument has no effect. Indices are always validated on CPU and never validated on GPU.\n",
      "Epoch 1/50\n",
      "13/13 - 13s - loss: 1.9811 - acc: 0.6285 - val_loss: 1.4086 - val_acc: 0.6663\n",
      "Epoch 2/50\n",
      "13/13 - 11s - loss: 1.3757 - acc: 0.6703 - val_loss: 1.3222 - val_acc: 0.6663\n",
      "Epoch 3/50\n",
      "13/13 - 11s - loss: 1.2602 - acc: 0.6703 - val_loss: 1.1421 - val_acc: 0.6663\n",
      "Epoch 4/50\n",
      "13/13 - 11s - loss: 1.1910 - acc: 0.6703 - val_loss: 1.1429 - val_acc: 0.6663\n",
      "Epoch 5/50\n",
      "13/13 - 11s - loss: 1.1926 - acc: 0.6703 - val_loss: 1.0793 - val_acc: 0.6663\n",
      "Epoch 6/50\n",
      "13/13 - 14s - loss: 1.1778 - acc: 0.6703 - val_loss: 1.1213 - val_acc: 0.6663\n",
      "Epoch 7/50\n",
      "13/13 - 12s - loss: 1.1722 - acc: 0.6703 - val_loss: 1.1337 - val_acc: 0.6663\n",
      "Epoch 8/50\n",
      "13/13 - 13s - loss: 1.1519 - acc: 0.6703 - val_loss: 1.1078 - val_acc: 0.6663\n",
      "Epoch 9/50\n",
      "13/13 - 13s - loss: 1.1362 - acc: 0.6703 - val_loss: 1.0981 - val_acc: 0.6681\n",
      "Epoch 10/50\n",
      "13/13 - 12s - loss: 1.1008 - acc: 0.6770 - val_loss: 1.0520 - val_acc: 0.6781\n",
      "Epoch 11/50\n",
      "13/13 - 13s - loss: 1.0928 - acc: 0.6748 - val_loss: 0.9828 - val_acc: 0.6781\n",
      "Epoch 12/50\n",
      "13/13 - 13s - loss: 1.0902 - acc: 0.6800 - val_loss: 1.0525 - val_acc: 0.6887\n",
      "Epoch 13/50\n",
      "13/13 - 13s - loss: 1.0702 - acc: 0.6829 - val_loss: 1.0683 - val_acc: 0.6862\n",
      "Epoch 14/50\n",
      "13/13 - 13s - loss: 1.0646 - acc: 0.6879 - val_loss: 0.9562 - val_acc: 0.6931\n",
      "Epoch 15/50\n",
      "13/13 - 13s - loss: 1.0516 - acc: 0.6815 - val_loss: 0.9213 - val_acc: 0.6856\n",
      "Epoch 16/50\n",
      "13/13 - 12s - loss: 1.0373 - acc: 0.6865 - val_loss: 0.9320 - val_acc: 0.6868\n",
      "Epoch 17/50\n",
      "13/13 - 12s - loss: 1.0189 - acc: 0.6847 - val_loss: 0.9097 - val_acc: 0.6875\n",
      "Epoch 18/50\n",
      "13/13 - 11s - loss: 1.0098 - acc: 0.6848 - val_loss: 0.9110 - val_acc: 0.6868\n",
      "Epoch 19/50\n",
      "13/13 - 11s - loss: 0.9972 - acc: 0.6840 - val_loss: 0.8647 - val_acc: 0.6887\n",
      "Epoch 20/50\n",
      "13/13 - 13s - loss: 1.0076 - acc: 0.6789 - val_loss: 0.8762 - val_acc: 0.6806\n",
      "Epoch 21/50\n",
      "13/13 - 12s - loss: 0.9725 - acc: 0.6901 - val_loss: 0.8416 - val_acc: 0.6956\n",
      "Epoch 22/50\n",
      "13/13 - 12s - loss: 0.9716 - acc: 0.6886 - val_loss: 0.8327 - val_acc: 0.6918\n",
      "Epoch 23/50\n",
      "13/13 - 12s - loss: 0.9514 - acc: 0.6920 - val_loss: 0.8313 - val_acc: 0.6968\n",
      "Epoch 24/50\n",
      "13/13 - 12s - loss: 0.9164 - acc: 0.6990 - val_loss: 0.8002 - val_acc: 0.7080\n",
      "Epoch 25/50\n",
      "13/13 - 12s - loss: 0.9047 - acc: 0.6976 - val_loss: 0.7990 - val_acc: 0.7018\n",
      "Epoch 26/50\n",
      "13/13 - 12s - loss: 0.9263 - acc: 0.6945 - val_loss: 0.8008 - val_acc: 0.7062\n",
      "Epoch 27/50\n",
      "13/13 - 12s - loss: 0.8966 - acc: 0.7034 - val_loss: 0.7988 - val_acc: 0.6943\n",
      "Epoch 28/50\n",
      "13/13 - 12s - loss: 0.8612 - acc: 0.7142 - val_loss: 0.7789 - val_acc: 0.6949\n",
      "Epoch 29/50\n",
      "13/13 - 12s - loss: 0.8709 - acc: 0.7123 - val_loss: 0.7953 - val_acc: 0.7043\n",
      "Epoch 30/50\n",
      "13/13 - 12s - loss: 0.8659 - acc: 0.7113 - val_loss: 0.7998 - val_acc: 0.7031\n",
      "Epoch 31/50\n",
      "13/13 - 13s - loss: 0.8388 - acc: 0.7193 - val_loss: 0.8067 - val_acc: 0.6974\n",
      "Epoch 32/50\n",
      "13/13 - 11s - loss: 0.8135 - acc: 0.7276 - val_loss: 0.8113 - val_acc: 0.6943\n",
      "Epoch 33/50\n",
      "13/13 - 12s - loss: 0.8158 - acc: 0.7235 - val_loss: 0.7866 - val_acc: 0.7056\n",
      "Epoch 34/50\n",
      "13/13 - 11s - loss: 0.7855 - acc: 0.7315 - val_loss: 0.7442 - val_acc: 0.7180\n",
      "Epoch 35/50\n",
      "13/13 - 12s - loss: 0.7828 - acc: 0.7418 - val_loss: 0.7334 - val_acc: 0.7280\n",
      "Epoch 36/50\n",
      "13/13 - 11s - loss: 0.7728 - acc: 0.7372 - val_loss: 0.7875 - val_acc: 0.7024\n",
      "Epoch 37/50\n",
      "13/13 - 12s - loss: 0.7672 - acc: 0.7357 - val_loss: 0.7598 - val_acc: 0.7124\n",
      "Epoch 38/50\n",
      "13/13 - 12s - loss: 0.7392 - acc: 0.7513 - val_loss: 0.7872 - val_acc: 0.7087\n",
      "Epoch 39/50\n",
      "13/13 - 12s - loss: 0.7450 - acc: 0.7463 - val_loss: 0.7831 - val_acc: 0.7305\n",
      "Epoch 40/50\n",
      "13/13 - 12s - loss: 0.7338 - acc: 0.7499 - val_loss: 0.7397 - val_acc: 0.7230\n",
      "Epoch 41/50\n",
      "13/13 - 12s - loss: 0.7194 - acc: 0.7569 - val_loss: 0.7904 - val_acc: 0.6843\n",
      "Epoch 42/50\n",
      "13/13 - 12s - loss: 0.7059 - acc: 0.7571 - val_loss: 0.7208 - val_acc: 0.7399\n",
      "Epoch 43/50\n",
      "13/13 - 12s - loss: 0.6909 - acc: 0.7599 - val_loss: 0.7620 - val_acc: 0.7405\n",
      "Epoch 44/50\n",
      "13/13 - 12s - loss: 0.7060 - acc: 0.7582 - val_loss: 0.7641 - val_acc: 0.7180\n",
      "Epoch 45/50\n",
      "13/13 - 12s - loss: 0.6498 - acc: 0.7775 - val_loss: 0.7584 - val_acc: 0.7249\n",
      "Epoch 46/50\n",
      "13/13 - 11s - loss: 0.6570 - acc: 0.7739 - val_loss: 0.7319 - val_acc: 0.7268\n",
      "Epoch 47/50\n",
      "13/13 - 12s - loss: 0.6516 - acc: 0.7805 - val_loss: 0.8502 - val_acc: 0.7342\n",
      "Epoch 48/50\n",
      "13/13 - 11s - loss: 0.6680 - acc: 0.7700 - val_loss: 0.7712 - val_acc: 0.7230\n",
      "Epoch 49/50\n",
      "13/13 - 13s - loss: 0.6292 - acc: 0.7828 - val_loss: 0.7486 - val_acc: 0.7311\n",
      "Epoch 50/50\n",
      "13/13 - 11s - loss: 0.6171 - acc: 0.7856 - val_loss: 0.7819 - val_acc: 0.7037\n"
     ]
    }
   ],
   "source": [
    "# Train\n",
    "\n",
    "batch_size = 512\n",
    "epochs = 50\n",
    "\n",
    "train_history = model.fit(\n",
    "    x=train_data,y=train_label,\n",
    "    epochs=epochs,\n",
    "    batch_size = batch_size,\n",
    "    validation_split=0.2,\n",
    "    verbose=2,class_weight=class_weight)"
   ]
  },
  {
   "cell_type": "code",
   "execution_count": 12,
   "metadata": {
    "pycharm": {
     "name": "#%%\n"
    }
   },
   "outputs": [],
   "source": [
    "# Train without class weight\n",
    "\n",
    "\n",
    "#batch_size = 256\n",
    "#epochs = 50\n",
    "\n",
    "#train_history_class = model.fit(\n",
    "#    x=train_data,y=train_label,\n",
    "#    epochs=epochs,\n",
    "#    batch_size = batch_size,\n",
    "#    validation_split=0.2,\n",
    "#    verbose=2)"
   ]
  },
  {
   "cell_type": "code",
   "execution_count": 13,
   "metadata": {
    "pycharm": {
     "name": "#%%\n"
    }
   },
   "outputs": [],
   "source": [
    "def plot_train_history(t_history, train,validation):\n",
    "    plt.plot(t_history.history[train])\n",
    "    plt.plot(t_history.history[validation])\n",
    "    plt.title(\"train_history\")\n",
    "    plt.ylabel(train)\n",
    "    plt.xlabel(\"epochs\")\n",
    "    plt.legend(['train','validation'],loc='upper left')\n",
    "    plt.show()"
   ]
  },
  {
   "cell_type": "code",
   "execution_count": 18,
   "metadata": {
    "pycharm": {
     "name": "#%%\n"
    }
   },
   "outputs": [
    {
     "data": {
      "image/png": "[encoded data removed]",
      "text/plain": [
       "<Figure size 432x288 with 1 Axes>"
      ]
     },
     "metadata": {
      "needs_background": "light"
     },
     "output_type": "display_data"
    }
   ],
   "source": [
    "#plot train history\n",
    "plot_train_history(train_history,'acc','val_acc')"
   ]
  },
  {
   "cell_type": "code",
   "execution_count": 19,
   "metadata": {
    "pycharm": {
     "name": "#%%\n"
    }
   },
   "outputs": [
    {
     "data": {
      "image/png": "[encoded data removed]",
      "text/plain": [
       "<Figure size 432x288 with 1 Axes>"
      ]
     },
     "metadata": {
      "needs_background": "light"
     },
     "output_type": "display_data"
    }
   ],
   "source": [
    "# plot loss\n",
    "plot_train_history(train_history,'loss','val_loss')"
   ]
  },
  {
   "cell_type": "code",
   "execution_count": 20,
   "metadata": {
    "pycharm": {
     "name": "#%%\n"
    }
   },
   "outputs": [
    {
     "name": "stdout",
     "output_type": "stream",
     "text": [
      "63/63 [==============================] - 1s 18ms/step - loss: 0.7828 - acc: 0.7154\b\b\b\b\b\b\b\b\b\b\b\b\b\b\b\b\b\b\b\b\b\b\b\b\b\b\b\b\b\b\b\b\b\b\b\b\b\b\b\b\b\b\b\b\b\b\b\b\b\b\b\b\b\b\b\b\b\b\b\b\b\b\b\b\b\b\b\b\b\b\b\b\b\b\b\b\b\b\b\b\b\b\b\b\b\b\b\b\b\b\b\b\b\b\b\b\b\b\b\b\b\b\b\b\b\b\b\b\b\b\b\b\b\b\b\b\b\b\b\b\b\b\b\b\b\b\b\b\b\b\b\b\b\b\b\b\b\b\b\b\b\b\b\b\b\b\b\b\b\b\b\b\b\b\b\b\b\b\b\b\b\b\b\b\b\b\b\b\b\b\b\b\b\b\b\b\b\b\b\b\b\b\b\b\b\b\b\b\b\b\b\b\b\b\b\b\b\b\b\b\b\b\b\b\b\b\b\b\b\b\b\b\b\b\b\b\b\b\b\b\b\b\b\b\b\b\b\b\b\b\b\b\b\b\b\b\b\b\b\b\b\b\b\b\b\b\b\b\b\b\b\b\b\b\b\b\b\b\b\b\b\b\b\b\b\b\b\b\b\b\b\b\b\b\b\b\b\b\b\b\b\b\b\b\b\b\b\b\b\b\b\b\b\b\b\b\b\b\b\b\b\b\b\b\b\b\b\b\b\b\b\b\b\b\b\b\b\b\b\b\b\b\b\b\b\b\b\b\b\b\b\b\b\b\b\b\b\b\b\b\b\b\b\b\b\b\b\b\b\b\b\b\b\b\b\b\b\b\b\b\b\b\b\b\b\b\b\b\b\b\b\b\b\b\b\b\b\b\b\b\b\b\b\b\b\b\b\b\b\b\b\b\b\b\b\b\b\b\b\b\b\b\b\b\b\b\b\b\b\b\b\b\b\b\b\b\b\b\b\b\b\b\b\b\b\b\b\b\b\b\b\b\b\b\b\b\b\b\b\b\b\b\b\b\b\b\b\b\b\b\b\b\b\b\b\b\b\b\b\b\b\b\b\b\b\b\b\b\b\b\b\b\b\b\b\b\b\b\b\b\b\b\b\b\b\b\b\b\b\b\b\b\b\b\b\b\b\b\b\b\b\b\b\b\b\b\b\b\b\b\b\b\b\b\b\b\b\b\b\b\b\b\b\b\b\b\b\b\b\b\b\b\b\b\b\b\b\b\b\b\b\b\b\b\b\b\b\b\b\b\b\b\b\b\b\b\b\b\b\b\b\b\b\b\b\b\b\b\b\b\b\b\b\b\b\b\b\b\b\b\b\b\b\b\b\b\b\b\b\b\b\b\b\b\b\b\b\b\b\b\b\b\b\b\b\b\b\b\b\b\b\b\b\b\b\b\b\b\b\b\b\b\b\b\b\b\b\b\b\b\b\b\b\b\b\b\b\b\b\b\b\b\b\b\b\b\b\b\b\b\b\b\b\b\b\b\b\b\b\b\b\b\b\b\b\b\b\b\b\b\b\b\b\b\b\b\b\b\b\b\b\b\b\b\b\b\b\b\b\b\b\b\b\b\b\b\b\b\b\b\b\b\b\b\b\b\b\b\b\b\b\b\b\b\b\b\b\b\b\b\b\b\b\b\b\b\b\b\b\b\b\b\b\b\b\b\b\b\b\b\b\b\b\b\b\b\b\b\b\b\b\b\b\b\b\b\b\b\b\b\b\b\b\b\b\b\b\b\b\b\b\b\b\b\b\b\b\b\b\b\b\b\b\b\b\b\b\b\b\b\b\b\b\b\b\b\b\b\b\b\b\b\b\b\b\b\b\b\b\b\b\b\b\b\b\b\b\b\b\b\b\b\b\b\b\b\b\b\b\b\b\b\b\b\b\b\b\b\b\b\b\b\b\b\b\b\b\b\b\b\b\b\b\b\b\b\b\b\b\b\b\b\b\b\b\b\b\b\b\b\b\b\b\b\b\b\b\b\b\b\b\b\b\b\b\b\b\b\b\b\b\b\b\b\b\b\b\b\b\b\b\b\b\b\b\b\b\b\b\b\b\b\b\b\b\b\b\b\b\b\b\b\b\b\b\b\b\b\b\b\b\b\b\b\b\b\b\b\b\b\b\b\b\b\b\b\b\b\b\b\b\b\b\b\b\b\b\b\b\b\b\b\b\b\b\b\b\b\b\b\b\b\b\b\b\b\b\b\b\b\b\b\b\b\b\b\b\b\b\b\b\b\b\b\b\b\b\b\b\b\b\b\b\b\b\b\b\b\b\b\b\b\b\b\b\b\b\b\b\b\b\b\b\b\b\b\b\b\b\b\b\b\b\b\b\b\b\b\b\b\b\b\b\b\b\b\b\b\b\b\b\b\b\b\b\b\b\b\b\b\b\b\b\b\b\b\b\b\b\b\b\b\b\b\b\b\b\b\b\b\b\b\b\b\b\b\b\b\b\b\b\b\b\b\b\b\b\b\b\b\b\b\b\b\b\b\b\b\b\b\b\b\b\b\b\b\b\b\b\b\b\b\b\b\b\b\b\b\b\b\b\b\b\b\b\b\b\b\b\b\b\b\b\b\b\b\b\b\b\b\b\b\b\b\b\b\b\b\b\b\b\b\b\b\b\b\b\b\b\b\b\b\b\b\b\b\b\b\b\b\b\b\b\b\b\b\b\b\b\b\b\b\b\b\b\b\b\b\b\b\b\b\b\b\b\b\b\b\b\b\b\b\b\b\b\b\b\b\b\b\b\b\b\b\b\b\b\b\b\b\b\b\b\b\b\b\b\b\b\b\b\b\b\b\b\b\b\b\b\b\b\b\b\b\b\b\b\b\b\b\b\b\b\b\b\b\b\b\b\b\b\b\b\b\b\b\b\b\b\b\b\b\b\b\b\b\b\b\b\b\b\b\b\b\b\b\b\b\b\b\b\b\b\b\b\b\b\b\b\b\b\b\b\b\b\b\b\b\b\b\b\b\b\b\b\b\b\b\b\b\b\b\b\b\b\b\b\b\b\b\b\b\b\b\b\b\b\b\b\b\b\b\b\b\b\b\b\b\b\b\b\b\b\b\b\b\b\b\b\b\b\b\b\b\b\b\b\b\b\b\b\b\b\b\b\b\b\b\b\b\b\b\b\b\b\b\b\b\b\b\b\b\b\b\b\b\b\b\b\b\b\b\b\b\b\b\b\b\b\b\b\b\b\b\b\b\b\b\b\b\b\b\b\b\b\b\b\b\b\b\b\b\b\b\b\b\b\b\b\b\b\b\b\b\b\b\b\b\b\b\b\b\b\b\b\b\b\b\b\b\b\b\b\b\b\b\b\b\b\b\b\b\b\b\b\b\b\b\b\b\b\b\b\b\b\b\b\b\b\b\b\b\b\b\b\b\b\b\b\b\b\b\b\b\b\b\b\b\b\b\b\b\b\b\b\b\b\b\b\b\b\b\b\b\b\b\b\b\b\b\b\b\b\b\b\b\b\b\b\b\b\b\b\b\b\b\b\b\b\b\b\b\b\b\b\b\b\b\b\b\b\b\b\b\b\b\b\b\b\b\b\b\b\b\b\b\b\b\b\b\b\b\b\b\b\b\b\b\b\b\b\b\b\b\b\b\b\b\b\b\b\b\n",
      "Test accuracy: 0.7154268622398376\n"
     ]
    }
   ],
   "source": [
    "#score\n",
    "score = model.evaluate(test_data, test_label)\n",
    "print('Test accuracy:', score[1])"
   ]
  },
  {
   "cell_type": "code",
   "execution_count": 21,
   "metadata": {
    "pycharm": {
     "name": "#%%\n"
    }
   },
   "outputs": [
    {
     "name": "stdout",
     "output_type": "stream",
     "text": [
      "[5 5 2 ... 5 2 5]\n",
      "predict   0  1    2  3   4     5   6\n",
      "label                               \n",
      "0        31  0   25  1   2     5   1\n",
      "1        15  8   61  2   1    13   3\n",
      "2         5  4  156  1   8    46   0\n",
      "3         6  2   10  2   0     3   0\n",
      "4         5  2   60  0  56    97   3\n",
      "5         7  2  143  0  21  1162   6\n",
      "6         0  0    2  0   1     7  18\n",
      "predict  akiex  bcc  bkl  df  mel    nv  vasc\n",
      "label                                        \n",
      "akiex       31    0   25   1    2     5     1\n",
      "bcc         15    8   61   2    1    13     3\n",
      "bkl          5    4  156   1    8    46     0\n",
      "df           6    2   10   2    0     3     0\n",
      "mel          5    2   60   0   56    97     3\n",
      "nv           7    2  143   0   21  1162     6\n",
      "vasc         0    0    2   0    1     7    18\n"
     ]
    }
   ],
   "source": [
    "#predictions\n",
    "\n",
    "prediction = model.predict(test_data)\n",
    "\n",
    "prediction_class = np.argmax(prediction,axis=1)\n",
    "print(prediction_class)\n",
    "prediction_label = np.argmax(test_label,axis=1)\n",
    "\n",
    "#confusion matrix\n",
    "print(pd.crosstab(prediction_label,prediction_class,rownames=['label'],colnames=['predict']))\n",
    "mapping = lambda x:features_dict[x]\n",
    "pred_class_to_feature = np.array([mapping(x) for x in prediction_class])\n",
    "pred_label_to_feature = np.array([mapping(x) for x in prediction_label])\n",
    "#pred_label_to_feature = prediction_label.map(lambda x:features_dict[x])\n",
    "\n",
    "#confusion matrix\n",
    "print(pd.crosstab(pred_label_to_feature,pred_class_to_feature,rownames=['label'],colnames=['predict']))\n"
   ]
  }
 ],
 "metadata": {
  "kernelspec": {
   "display_name": "Python 3",
   "language": "python",
   "name": "python3"
  },
  "language_info": {
   "codemirror_mode": {
    "name": "ipython",
    "version": 3
   },
   "file_extension": ".py",
   "mimetype": "text/x-python",
   "name": "python",
   "nbconvert_exporter": "python",
   "pygments_lexer": "ipython3",
   "version": "3.8.5"
  }
 },
 "nbformat": 4,
 "nbformat_minor": 1
}
